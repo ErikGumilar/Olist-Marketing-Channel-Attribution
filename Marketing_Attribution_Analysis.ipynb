{
  "cells": [
    {
      "cell_type": "markdown",
      "metadata": {
        "id": "view-in-github",
        "colab_type": "text"
      },
      "source": [
        "<a href=\"https://colab.research.google.com/github/ErikGumilar/Olist-Marketing-Channel-Attribution/blob/main/Marketing_Attribution_Analysis.ipynb\" target=\"_parent\"><img src=\"https://colab.research.google.com/assets/colab-badge.svg\" alt=\"Open In Colab\"/></a>"
      ]
    },
    {
      "cell_type": "markdown",
      "id": "794d6f80",
      "metadata": {
        "id": "794d6f80"
      },
      "source": [
        "# Import Package & Read Dataset"
      ]
    },
    {
      "cell_type": "code",
      "execution_count": null,
      "id": "3e3b43a1",
      "metadata": {
        "id": "3e3b43a1"
      },
      "outputs": [],
      "source": [
        "import pandas as pd\n",
        "import numpy as np\n",
        "import matplotlib.pyplot as plt\n",
        "\n",
        "import seaborn as sns\n",
        "\n",
        "from marketing_attribution_models import MAM\n",
        "\n",
        "%matplotlib inline"
      ]
    },
    {
      "cell_type": "code",
      "execution_count": null,
      "id": "24061424",
      "metadata": {
        "id": "24061424"
      },
      "outputs": [],
      "source": [
        "# read dataset\n",
        "# marketing funnel\n",
        "olist_marketing_qualified_leads = pd.read_csv(\"https://raw.githubusercontent.com/hadimaster65555/dataset_for_teaching/main/dataset/olist_marketing_funnel_dataset/olist_marketing_qualified_leads_dataset.csv\")\n",
        "olist_closed_deals = pd.read_csv(\"https://raw.githubusercontent.com/hadimaster65555/dataset_for_teaching/main/dataset/olist_marketing_funnel_dataset/olist_closed_deals_dataset.csv\")\n",
        "\n",
        "# marketing order|\n",
        "olist_order_items = pd.read_csv(\"https://raw.githubusercontent.com/hadimaster65555/dataset_for_teaching/main/dataset/olist_ecommerce_data/olist_order_items_dataset.csv\")\n",
        "olist_seller = pd.read_csv(\"https://raw.githubusercontent.com/hadimaster65555/dataset_for_teaching/main/dataset/olist_ecommerce_data/olist_sellers_dataset.csv\")"
      ]
    },
    {
      "cell_type": "markdown",
      "id": "5ea21bc9",
      "metadata": {
        "id": "5ea21bc9"
      },
      "source": [
        "# Combining Dataset"
      ]
    },
    {
      "cell_type": "markdown",
      "id": "dfcf4e91",
      "metadata": {
        "id": "dfcf4e91"
      },
      "source": [
        "## Order Items & Seller"
      ]
    },
    {
      "cell_type": "code",
      "execution_count": null,
      "id": "dcae79c6",
      "metadata": {
        "id": "dcae79c6",
        "outputId": "24b3f712-b9ef-4ed7-8e00-fe09691fffec"
      },
      "outputs": [
        {
          "data": {
            "text/html": [
              "<div>\n",
              "<style scoped>\n",
              "    .dataframe tbody tr th:only-of-type {\n",
              "        vertical-align: middle;\n",
              "    }\n",
              "\n",
              "    .dataframe tbody tr th {\n",
              "        vertical-align: top;\n",
              "    }\n",
              "\n",
              "    .dataframe thead th {\n",
              "        text-align: right;\n",
              "    }\n",
              "</style>\n",
              "<table border=\"1\" class=\"dataframe\">\n",
              "  <thead>\n",
              "    <tr style=\"text-align: right;\">\n",
              "      <th></th>\n",
              "      <th>order_id</th>\n",
              "      <th>order_item_id</th>\n",
              "      <th>product_id</th>\n",
              "      <th>seller_id</th>\n",
              "      <th>shipping_limit_date</th>\n",
              "      <th>price</th>\n",
              "      <th>freight_value</th>\n",
              "    </tr>\n",
              "  </thead>\n",
              "  <tbody>\n",
              "    <tr>\n",
              "      <th>0</th>\n",
              "      <td>00010242fe8c5a6d1ba2dd792cb16214</td>\n",
              "      <td>1</td>\n",
              "      <td>4244733e06e7ecb4970a6e2683c13e61</td>\n",
              "      <td>48436dade18ac8b2bce089ec2a041202</td>\n",
              "      <td>2017-09-19 09:45:35</td>\n",
              "      <td>58.90</td>\n",
              "      <td>13.29</td>\n",
              "    </tr>\n",
              "    <tr>\n",
              "      <th>1</th>\n",
              "      <td>00018f77f2f0320c557190d7a144bdd3</td>\n",
              "      <td>1</td>\n",
              "      <td>e5f2d52b802189ee658865ca93d83a8f</td>\n",
              "      <td>dd7ddc04e1b6c2c614352b383efe2d36</td>\n",
              "      <td>2017-05-03 11:05:13</td>\n",
              "      <td>239.90</td>\n",
              "      <td>19.93</td>\n",
              "    </tr>\n",
              "    <tr>\n",
              "      <th>2</th>\n",
              "      <td>000229ec398224ef6ca0657da4fc703e</td>\n",
              "      <td>1</td>\n",
              "      <td>c777355d18b72b67abbeef9df44fd0fd</td>\n",
              "      <td>5b51032eddd242adc84c38acab88f23d</td>\n",
              "      <td>2018-01-18 14:48:30</td>\n",
              "      <td>199.00</td>\n",
              "      <td>17.87</td>\n",
              "    </tr>\n",
              "    <tr>\n",
              "      <th>3</th>\n",
              "      <td>00024acbcdf0a6daa1e931b038114c75</td>\n",
              "      <td>1</td>\n",
              "      <td>7634da152a4610f1595efa32f14722fc</td>\n",
              "      <td>9d7a1d34a5052409006425275ba1c2b4</td>\n",
              "      <td>2018-08-15 10:10:18</td>\n",
              "      <td>12.99</td>\n",
              "      <td>12.79</td>\n",
              "    </tr>\n",
              "    <tr>\n",
              "      <th>4</th>\n",
              "      <td>00042b26cf59d7ce69dfabb4e55b4fd9</td>\n",
              "      <td>1</td>\n",
              "      <td>ac6c3623068f30de03045865e4e10089</td>\n",
              "      <td>df560393f3a51e74553ab94004ba5c87</td>\n",
              "      <td>2017-02-13 13:57:51</td>\n",
              "      <td>199.90</td>\n",
              "      <td>18.14</td>\n",
              "    </tr>\n",
              "    <tr>\n",
              "      <th>...</th>\n",
              "      <td>...</td>\n",
              "      <td>...</td>\n",
              "      <td>...</td>\n",
              "      <td>...</td>\n",
              "      <td>...</td>\n",
              "      <td>...</td>\n",
              "      <td>...</td>\n",
              "    </tr>\n",
              "    <tr>\n",
              "      <th>112645</th>\n",
              "      <td>fffc94f6ce00a00581880bf54a75a037</td>\n",
              "      <td>1</td>\n",
              "      <td>4aa6014eceb682077f9dc4bffebc05b0</td>\n",
              "      <td>b8bc237ba3788b23da09c0f1f3a3288c</td>\n",
              "      <td>2018-05-02 04:11:01</td>\n",
              "      <td>299.99</td>\n",
              "      <td>43.41</td>\n",
              "    </tr>\n",
              "    <tr>\n",
              "      <th>112646</th>\n",
              "      <td>fffcd46ef2263f404302a634eb57f7eb</td>\n",
              "      <td>1</td>\n",
              "      <td>32e07fd915822b0765e448c4dd74c828</td>\n",
              "      <td>f3c38ab652836d21de61fb8314b69182</td>\n",
              "      <td>2018-07-20 04:31:48</td>\n",
              "      <td>350.00</td>\n",
              "      <td>36.53</td>\n",
              "    </tr>\n",
              "    <tr>\n",
              "      <th>112647</th>\n",
              "      <td>fffce4705a9662cd70adb13d4a31832d</td>\n",
              "      <td>1</td>\n",
              "      <td>72a30483855e2eafc67aee5dc2560482</td>\n",
              "      <td>c3cfdc648177fdbbbb35635a37472c53</td>\n",
              "      <td>2017-10-30 17:14:25</td>\n",
              "      <td>99.90</td>\n",
              "      <td>16.95</td>\n",
              "    </tr>\n",
              "    <tr>\n",
              "      <th>112648</th>\n",
              "      <td>fffe18544ffabc95dfada21779c9644f</td>\n",
              "      <td>1</td>\n",
              "      <td>9c422a519119dcad7575db5af1ba540e</td>\n",
              "      <td>2b3e4a2a3ea8e01938cabda2a3e5cc79</td>\n",
              "      <td>2017-08-21 00:04:32</td>\n",
              "      <td>55.99</td>\n",
              "      <td>8.72</td>\n",
              "    </tr>\n",
              "    <tr>\n",
              "      <th>112649</th>\n",
              "      <td>fffe41c64501cc87c801fd61db3f6244</td>\n",
              "      <td>1</td>\n",
              "      <td>350688d9dc1e75ff97be326363655e01</td>\n",
              "      <td>f7ccf836d21b2fb1de37564105216cc1</td>\n",
              "      <td>2018-06-12 17:10:13</td>\n",
              "      <td>43.00</td>\n",
              "      <td>12.79</td>\n",
              "    </tr>\n",
              "  </tbody>\n",
              "</table>\n",
              "<p>112650 rows × 7 columns</p>\n",
              "</div>"
            ],
            "text/plain": [
              "                                order_id  order_item_id  \\\n",
              "0       00010242fe8c5a6d1ba2dd792cb16214              1   \n",
              "1       00018f77f2f0320c557190d7a144bdd3              1   \n",
              "2       000229ec398224ef6ca0657da4fc703e              1   \n",
              "3       00024acbcdf0a6daa1e931b038114c75              1   \n",
              "4       00042b26cf59d7ce69dfabb4e55b4fd9              1   \n",
              "...                                  ...            ...   \n",
              "112645  fffc94f6ce00a00581880bf54a75a037              1   \n",
              "112646  fffcd46ef2263f404302a634eb57f7eb              1   \n",
              "112647  fffce4705a9662cd70adb13d4a31832d              1   \n",
              "112648  fffe18544ffabc95dfada21779c9644f              1   \n",
              "112649  fffe41c64501cc87c801fd61db3f6244              1   \n",
              "\n",
              "                              product_id                         seller_id  \\\n",
              "0       4244733e06e7ecb4970a6e2683c13e61  48436dade18ac8b2bce089ec2a041202   \n",
              "1       e5f2d52b802189ee658865ca93d83a8f  dd7ddc04e1b6c2c614352b383efe2d36   \n",
              "2       c777355d18b72b67abbeef9df44fd0fd  5b51032eddd242adc84c38acab88f23d   \n",
              "3       7634da152a4610f1595efa32f14722fc  9d7a1d34a5052409006425275ba1c2b4   \n",
              "4       ac6c3623068f30de03045865e4e10089  df560393f3a51e74553ab94004ba5c87   \n",
              "...                                  ...                               ...   \n",
              "112645  4aa6014eceb682077f9dc4bffebc05b0  b8bc237ba3788b23da09c0f1f3a3288c   \n",
              "112646  32e07fd915822b0765e448c4dd74c828  f3c38ab652836d21de61fb8314b69182   \n",
              "112647  72a30483855e2eafc67aee5dc2560482  c3cfdc648177fdbbbb35635a37472c53   \n",
              "112648  9c422a519119dcad7575db5af1ba540e  2b3e4a2a3ea8e01938cabda2a3e5cc79   \n",
              "112649  350688d9dc1e75ff97be326363655e01  f7ccf836d21b2fb1de37564105216cc1   \n",
              "\n",
              "        shipping_limit_date   price  freight_value  \n",
              "0       2017-09-19 09:45:35   58.90          13.29  \n",
              "1       2017-05-03 11:05:13  239.90          19.93  \n",
              "2       2018-01-18 14:48:30  199.00          17.87  \n",
              "3       2018-08-15 10:10:18   12.99          12.79  \n",
              "4       2017-02-13 13:57:51  199.90          18.14  \n",
              "...                     ...     ...            ...  \n",
              "112645  2018-05-02 04:11:01  299.99          43.41  \n",
              "112646  2018-07-20 04:31:48  350.00          36.53  \n",
              "112647  2017-10-30 17:14:25   99.90          16.95  \n",
              "112648  2017-08-21 00:04:32   55.99           8.72  \n",
              "112649  2018-06-12 17:10:13   43.00          12.79  \n",
              "\n",
              "[112650 rows x 7 columns]"
            ]
          },
          "execution_count": 117,
          "metadata": {},
          "output_type": "execute_result"
        }
      ],
      "source": [
        "olist_order_items"
      ]
    },
    {
      "cell_type": "code",
      "execution_count": null,
      "id": "df5bf653",
      "metadata": {
        "id": "df5bf653",
        "outputId": "b0bb4061-a26c-4a35-8bfe-9cf62bdd901b"
      },
      "outputs": [
        {
          "data": {
            "text/html": [
              "<div>\n",
              "<style scoped>\n",
              "    .dataframe tbody tr th:only-of-type {\n",
              "        vertical-align: middle;\n",
              "    }\n",
              "\n",
              "    .dataframe tbody tr th {\n",
              "        vertical-align: top;\n",
              "    }\n",
              "\n",
              "    .dataframe thead th {\n",
              "        text-align: right;\n",
              "    }\n",
              "</style>\n",
              "<table border=\"1\" class=\"dataframe\">\n",
              "  <thead>\n",
              "    <tr style=\"text-align: right;\">\n",
              "      <th></th>\n",
              "      <th>seller_id</th>\n",
              "      <th>seller_zip_code_prefix</th>\n",
              "      <th>seller_city</th>\n",
              "      <th>seller_state</th>\n",
              "    </tr>\n",
              "  </thead>\n",
              "  <tbody>\n",
              "    <tr>\n",
              "      <th>0</th>\n",
              "      <td>3442f8959a84dea7ee197c632cb2df15</td>\n",
              "      <td>13023</td>\n",
              "      <td>campinas</td>\n",
              "      <td>SP</td>\n",
              "    </tr>\n",
              "    <tr>\n",
              "      <th>1</th>\n",
              "      <td>d1b65fc7debc3361ea86b5f14c68d2e2</td>\n",
              "      <td>13844</td>\n",
              "      <td>mogi guacu</td>\n",
              "      <td>SP</td>\n",
              "    </tr>\n",
              "    <tr>\n",
              "      <th>2</th>\n",
              "      <td>ce3ad9de960102d0677a81f5d0bb7b2d</td>\n",
              "      <td>20031</td>\n",
              "      <td>rio de janeiro</td>\n",
              "      <td>RJ</td>\n",
              "    </tr>\n",
              "    <tr>\n",
              "      <th>3</th>\n",
              "      <td>c0f3eea2e14555b6faeea3dd58c1b1c3</td>\n",
              "      <td>4195</td>\n",
              "      <td>sao paulo</td>\n",
              "      <td>SP</td>\n",
              "    </tr>\n",
              "    <tr>\n",
              "      <th>4</th>\n",
              "      <td>51a04a8a6bdcb23deccc82b0b80742cf</td>\n",
              "      <td>12914</td>\n",
              "      <td>braganca paulista</td>\n",
              "      <td>SP</td>\n",
              "    </tr>\n",
              "    <tr>\n",
              "      <th>...</th>\n",
              "      <td>...</td>\n",
              "      <td>...</td>\n",
              "      <td>...</td>\n",
              "      <td>...</td>\n",
              "    </tr>\n",
              "    <tr>\n",
              "      <th>3090</th>\n",
              "      <td>98dddbc4601dd4443ca174359b237166</td>\n",
              "      <td>87111</td>\n",
              "      <td>sarandi</td>\n",
              "      <td>PR</td>\n",
              "    </tr>\n",
              "    <tr>\n",
              "      <th>3091</th>\n",
              "      <td>f8201cab383e484733266d1906e2fdfa</td>\n",
              "      <td>88137</td>\n",
              "      <td>palhoca</td>\n",
              "      <td>SC</td>\n",
              "    </tr>\n",
              "    <tr>\n",
              "      <th>3092</th>\n",
              "      <td>74871d19219c7d518d0090283e03c137</td>\n",
              "      <td>4650</td>\n",
              "      <td>sao paulo</td>\n",
              "      <td>SP</td>\n",
              "    </tr>\n",
              "    <tr>\n",
              "      <th>3093</th>\n",
              "      <td>e603cf3fec55f8697c9059638d6c8eb5</td>\n",
              "      <td>96080</td>\n",
              "      <td>pelotas</td>\n",
              "      <td>RS</td>\n",
              "    </tr>\n",
              "    <tr>\n",
              "      <th>3094</th>\n",
              "      <td>9e25199f6ef7e7c347120ff175652c3b</td>\n",
              "      <td>12051</td>\n",
              "      <td>taubate</td>\n",
              "      <td>SP</td>\n",
              "    </tr>\n",
              "  </tbody>\n",
              "</table>\n",
              "<p>3095 rows × 4 columns</p>\n",
              "</div>"
            ],
            "text/plain": [
              "                             seller_id  seller_zip_code_prefix  \\\n",
              "0     3442f8959a84dea7ee197c632cb2df15                   13023   \n",
              "1     d1b65fc7debc3361ea86b5f14c68d2e2                   13844   \n",
              "2     ce3ad9de960102d0677a81f5d0bb7b2d                   20031   \n",
              "3     c0f3eea2e14555b6faeea3dd58c1b1c3                    4195   \n",
              "4     51a04a8a6bdcb23deccc82b0b80742cf                   12914   \n",
              "...                                ...                     ...   \n",
              "3090  98dddbc4601dd4443ca174359b237166                   87111   \n",
              "3091  f8201cab383e484733266d1906e2fdfa                   88137   \n",
              "3092  74871d19219c7d518d0090283e03c137                    4650   \n",
              "3093  e603cf3fec55f8697c9059638d6c8eb5                   96080   \n",
              "3094  9e25199f6ef7e7c347120ff175652c3b                   12051   \n",
              "\n",
              "            seller_city seller_state  \n",
              "0              campinas           SP  \n",
              "1            mogi guacu           SP  \n",
              "2        rio de janeiro           RJ  \n",
              "3             sao paulo           SP  \n",
              "4     braganca paulista           SP  \n",
              "...                 ...          ...  \n",
              "3090            sarandi           PR  \n",
              "3091            palhoca           SC  \n",
              "3092          sao paulo           SP  \n",
              "3093            pelotas           RS  \n",
              "3094            taubate           SP  \n",
              "\n",
              "[3095 rows x 4 columns]"
            ]
          },
          "execution_count": 118,
          "metadata": {},
          "output_type": "execute_result"
        }
      ],
      "source": [
        "olist_seller"
      ]
    },
    {
      "cell_type": "code",
      "execution_count": null,
      "id": "01b94d88",
      "metadata": {
        "id": "01b94d88",
        "outputId": "4e68210d-6e0c-4fbf-acea-21cf61a48c74"
      },
      "outputs": [
        {
          "data": {
            "text/plain": [
              "3095"
            ]
          },
          "execution_count": 119,
          "metadata": {},
          "output_type": "execute_result"
        }
      ],
      "source": [
        "# unique check on seller_id variabel\n",
        "olist_order_items['seller_id'].nunique()"
      ]
    },
    {
      "cell_type": "code",
      "execution_count": null,
      "id": "033cd78b",
      "metadata": {
        "id": "033cd78b"
      },
      "outputs": [],
      "source": [
        "# create specific dataframe by grouping of seller id\n",
        "data_seller_agg = olist_order_items.groupby('seller_id', as_index=False).agg({\n",
        "    'order_id': 'nunique',\n",
        "    'product_id': 'nunique',\n",
        "    'price': 'sum',\n",
        "    'freight_value': 'sum'\n",
        "})"
      ]
    },
    {
      "cell_type": "code",
      "execution_count": null,
      "id": "d3528854",
      "metadata": {
        "id": "d3528854"
      },
      "outputs": [],
      "source": [
        "# renaming daa_seller_agg dataframe\n",
        "data_seller_agg = data_seller_agg.rename(columns={\n",
        "    'order_id': \"total_trx\",\n",
        "    'product_id': \"total_ordered\"\n",
        "})"
      ]
    },
    {
      "cell_type": "code",
      "execution_count": null,
      "id": "eb36df21",
      "metadata": {
        "id": "eb36df21",
        "outputId": "24d86704-1f5c-4eb1-c8c0-73230a30892b"
      },
      "outputs": [
        {
          "data": {
            "text/html": [
              "<div>\n",
              "<style scoped>\n",
              "    .dataframe tbody tr th:only-of-type {\n",
              "        vertical-align: middle;\n",
              "    }\n",
              "\n",
              "    .dataframe tbody tr th {\n",
              "        vertical-align: top;\n",
              "    }\n",
              "\n",
              "    .dataframe thead th {\n",
              "        text-align: right;\n",
              "    }\n",
              "</style>\n",
              "<table border=\"1\" class=\"dataframe\">\n",
              "  <thead>\n",
              "    <tr style=\"text-align: right;\">\n",
              "      <th></th>\n",
              "      <th>seller_id</th>\n",
              "      <th>total_trx</th>\n",
              "      <th>total_ordered</th>\n",
              "      <th>price</th>\n",
              "      <th>freight_value</th>\n",
              "    </tr>\n",
              "  </thead>\n",
              "  <tbody>\n",
              "    <tr>\n",
              "      <th>0</th>\n",
              "      <td>0015a82c2db000af6aaaf3ae2ecb0532</td>\n",
              "      <td>3</td>\n",
              "      <td>1</td>\n",
              "      <td>2685.00</td>\n",
              "      <td>63.06</td>\n",
              "    </tr>\n",
              "    <tr>\n",
              "      <th>1</th>\n",
              "      <td>001cca7ae9ae17fb1caed9dfb1094831</td>\n",
              "      <td>200</td>\n",
              "      <td>11</td>\n",
              "      <td>25080.03</td>\n",
              "      <td>8854.14</td>\n",
              "    </tr>\n",
              "    <tr>\n",
              "      <th>2</th>\n",
              "      <td>001e6ad469a905060d959994f1b41e4f</td>\n",
              "      <td>1</td>\n",
              "      <td>1</td>\n",
              "      <td>250.00</td>\n",
              "      <td>17.94</td>\n",
              "    </tr>\n",
              "    <tr>\n",
              "      <th>3</th>\n",
              "      <td>002100f778ceb8431b7a1020ff7ab48f</td>\n",
              "      <td>51</td>\n",
              "      <td>24</td>\n",
              "      <td>1234.50</td>\n",
              "      <td>793.66</td>\n",
              "    </tr>\n",
              "    <tr>\n",
              "      <th>4</th>\n",
              "      <td>003554e2dce176b5555353e4f3555ac8</td>\n",
              "      <td>1</td>\n",
              "      <td>1</td>\n",
              "      <td>120.00</td>\n",
              "      <td>19.38</td>\n",
              "    </tr>\n",
              "    <tr>\n",
              "      <th>5</th>\n",
              "      <td>004c9cd9d87a3c30c522c48c4fc07416</td>\n",
              "      <td>158</td>\n",
              "      <td>88</td>\n",
              "      <td>19712.71</td>\n",
              "      <td>3551.23</td>\n",
              "    </tr>\n",
              "    <tr>\n",
              "      <th>6</th>\n",
              "      <td>00720abe85ba0859807595bbf045a33b</td>\n",
              "      <td>13</td>\n",
              "      <td>9</td>\n",
              "      <td>1007.50</td>\n",
              "      <td>315.98</td>\n",
              "    </tr>\n",
              "    <tr>\n",
              "      <th>7</th>\n",
              "      <td>00ab3eff1b5192e5f1a63bcecfee11c8</td>\n",
              "      <td>1</td>\n",
              "      <td>1</td>\n",
              "      <td>98.00</td>\n",
              "      <td>12.08</td>\n",
              "    </tr>\n",
              "    <tr>\n",
              "      <th>8</th>\n",
              "      <td>00d8b143d12632bad99c0ad66ad52825</td>\n",
              "      <td>1</td>\n",
              "      <td>1</td>\n",
              "      <td>86.00</td>\n",
              "      <td>51.10</td>\n",
              "    </tr>\n",
              "    <tr>\n",
              "      <th>9</th>\n",
              "      <td>00ee68308b45bc5e2660cd833c3f81cc</td>\n",
              "      <td>135</td>\n",
              "      <td>23</td>\n",
              "      <td>20260.00</td>\n",
              "      <td>3180.66</td>\n",
              "    </tr>\n",
              "  </tbody>\n",
              "</table>\n",
              "</div>"
            ],
            "text/plain": [
              "                          seller_id  total_trx  total_ordered     price  \\\n",
              "0  0015a82c2db000af6aaaf3ae2ecb0532          3              1   2685.00   \n",
              "1  001cca7ae9ae17fb1caed9dfb1094831        200             11  25080.03   \n",
              "2  001e6ad469a905060d959994f1b41e4f          1              1    250.00   \n",
              "3  002100f778ceb8431b7a1020ff7ab48f         51             24   1234.50   \n",
              "4  003554e2dce176b5555353e4f3555ac8          1              1    120.00   \n",
              "5  004c9cd9d87a3c30c522c48c4fc07416        158             88  19712.71   \n",
              "6  00720abe85ba0859807595bbf045a33b         13              9   1007.50   \n",
              "7  00ab3eff1b5192e5f1a63bcecfee11c8          1              1     98.00   \n",
              "8  00d8b143d12632bad99c0ad66ad52825          1              1     86.00   \n",
              "9  00ee68308b45bc5e2660cd833c3f81cc        135             23  20260.00   \n",
              "\n",
              "   freight_value  \n",
              "0          63.06  \n",
              "1        8854.14  \n",
              "2          17.94  \n",
              "3         793.66  \n",
              "4          19.38  \n",
              "5        3551.23  \n",
              "6         315.98  \n",
              "7          12.08  \n",
              "8          51.10  \n",
              "9        3180.66  "
            ]
          },
          "execution_count": 122,
          "metadata": {},
          "output_type": "execute_result"
        }
      ],
      "source": [
        "# check data_seller_agg\n",
        "data_seller_agg.head(10)"
      ]
    },
    {
      "cell_type": "code",
      "execution_count": null,
      "id": "b7009f1a",
      "metadata": {
        "id": "b7009f1a",
        "outputId": "66b30163-efc5-4e04-ed72-bda1c2c46bda"
      },
      "outputs": [
        {
          "data": {
            "text/html": [
              "<div>\n",
              "<style scoped>\n",
              "    .dataframe tbody tr th:only-of-type {\n",
              "        vertical-align: middle;\n",
              "    }\n",
              "\n",
              "    .dataframe tbody tr th {\n",
              "        vertical-align: top;\n",
              "    }\n",
              "\n",
              "    .dataframe thead th {\n",
              "        text-align: right;\n",
              "    }\n",
              "</style>\n",
              "<table border=\"1\" class=\"dataframe\">\n",
              "  <thead>\n",
              "    <tr style=\"text-align: right;\">\n",
              "      <th></th>\n",
              "      <th>seller_id</th>\n",
              "      <th>seller_city</th>\n",
              "      <th>seller_state</th>\n",
              "      <th>total_trx</th>\n",
              "      <th>total_ordered</th>\n",
              "      <th>price</th>\n",
              "      <th>freight_value</th>\n",
              "    </tr>\n",
              "  </thead>\n",
              "  <tbody>\n",
              "    <tr>\n",
              "      <th>0</th>\n",
              "      <td>0015a82c2db000af6aaaf3ae2ecb0532</td>\n",
              "      <td>santo andre</td>\n",
              "      <td>SP</td>\n",
              "      <td>3</td>\n",
              "      <td>1</td>\n",
              "      <td>2685.00</td>\n",
              "      <td>63.06</td>\n",
              "    </tr>\n",
              "    <tr>\n",
              "      <th>1</th>\n",
              "      <td>001cca7ae9ae17fb1caed9dfb1094831</td>\n",
              "      <td>cariacica</td>\n",
              "      <td>ES</td>\n",
              "      <td>200</td>\n",
              "      <td>11</td>\n",
              "      <td>25080.03</td>\n",
              "      <td>8854.14</td>\n",
              "    </tr>\n",
              "    <tr>\n",
              "      <th>2</th>\n",
              "      <td>001e6ad469a905060d959994f1b41e4f</td>\n",
              "      <td>sao goncalo</td>\n",
              "      <td>RJ</td>\n",
              "      <td>1</td>\n",
              "      <td>1</td>\n",
              "      <td>250.00</td>\n",
              "      <td>17.94</td>\n",
              "    </tr>\n",
              "    <tr>\n",
              "      <th>3</th>\n",
              "      <td>002100f778ceb8431b7a1020ff7ab48f</td>\n",
              "      <td>franca</td>\n",
              "      <td>SP</td>\n",
              "      <td>51</td>\n",
              "      <td>24</td>\n",
              "      <td>1234.50</td>\n",
              "      <td>793.66</td>\n",
              "    </tr>\n",
              "    <tr>\n",
              "      <th>4</th>\n",
              "      <td>003554e2dce176b5555353e4f3555ac8</td>\n",
              "      <td>goiania</td>\n",
              "      <td>GO</td>\n",
              "      <td>1</td>\n",
              "      <td>1</td>\n",
              "      <td>120.00</td>\n",
              "      <td>19.38</td>\n",
              "    </tr>\n",
              "  </tbody>\n",
              "</table>\n",
              "</div>"
            ],
            "text/plain": [
              "                          seller_id  seller_city seller_state  total_trx  \\\n",
              "0  0015a82c2db000af6aaaf3ae2ecb0532  santo andre           SP          3   \n",
              "1  001cca7ae9ae17fb1caed9dfb1094831    cariacica           ES        200   \n",
              "2  001e6ad469a905060d959994f1b41e4f  sao goncalo           RJ          1   \n",
              "3  002100f778ceb8431b7a1020ff7ab48f       franca           SP         51   \n",
              "4  003554e2dce176b5555353e4f3555ac8      goiania           GO          1   \n",
              "\n",
              "   total_ordered     price  freight_value  \n",
              "0              1   2685.00          63.06  \n",
              "1             11  25080.03        8854.14  \n",
              "2              1    250.00          17.94  \n",
              "3             24   1234.50         793.66  \n",
              "4              1    120.00          19.38  "
            ]
          },
          "execution_count": 123,
          "metadata": {},
          "output_type": "execute_result"
        }
      ],
      "source": [
        "# combining the order items and order dataset by joining on order id\n",
        "cols= [\n",
        "    'seller_id',\n",
        "    'seller_city',\n",
        "    'seller_state',\n",
        "    'total_trx',\n",
        "    'total_ordered',\n",
        "    'price',\n",
        "    'freight_value'\n",
        "]\n",
        "\n",
        "data_seller = pd.merge(\n",
        "    left= data_seller_agg,\n",
        "    right= olist_seller,\n",
        "    on= 'seller_id',\n",
        "    how= 'inner'\n",
        ")[cols]\n",
        "\n",
        "data_seller.head(5)"
      ]
    },
    {
      "cell_type": "code",
      "execution_count": null,
      "id": "aa784ec5",
      "metadata": {
        "id": "aa784ec5",
        "outputId": "24877d6e-0961-4ef2-86ce-e0d3c54af6a0"
      },
      "outputs": [
        {
          "data": {
            "text/plain": [
              "(3095, 7)"
            ]
          },
          "execution_count": 124,
          "metadata": {},
          "output_type": "execute_result"
        }
      ],
      "source": [
        "# check data shape\n",
        "data_seller.shape"
      ]
    },
    {
      "cell_type": "markdown",
      "id": "dd236eea",
      "metadata": {
        "id": "dd236eea"
      },
      "source": [
        "## Marketing Channel Dataset"
      ]
    },
    {
      "cell_type": "code",
      "execution_count": null,
      "id": "d69d3098",
      "metadata": {
        "id": "d69d3098",
        "outputId": "b9841269-017b-4418-b156-19f7c704e410"
      },
      "outputs": [
        {
          "data": {
            "text/html": [
              "<div>\n",
              "<style scoped>\n",
              "    .dataframe tbody tr th:only-of-type {\n",
              "        vertical-align: middle;\n",
              "    }\n",
              "\n",
              "    .dataframe tbody tr th {\n",
              "        vertical-align: top;\n",
              "    }\n",
              "\n",
              "    .dataframe thead th {\n",
              "        text-align: right;\n",
              "    }\n",
              "</style>\n",
              "<table border=\"1\" class=\"dataframe\">\n",
              "  <thead>\n",
              "    <tr style=\"text-align: right;\">\n",
              "      <th></th>\n",
              "      <th>mql_id</th>\n",
              "      <th>first_contact_date</th>\n",
              "      <th>landing_page_id</th>\n",
              "      <th>origin</th>\n",
              "    </tr>\n",
              "  </thead>\n",
              "  <tbody>\n",
              "    <tr>\n",
              "      <th>0</th>\n",
              "      <td>dac32acd4db4c29c230538b72f8dd87d</td>\n",
              "      <td>2018-02-01</td>\n",
              "      <td>88740e65d5d6b056e0cda098e1ea6313</td>\n",
              "      <td>social</td>\n",
              "    </tr>\n",
              "    <tr>\n",
              "      <th>1</th>\n",
              "      <td>8c18d1de7f67e60dbd64e3c07d7e9d5d</td>\n",
              "      <td>2017-10-20</td>\n",
              "      <td>007f9098284a86ee80ddeb25d53e0af8</td>\n",
              "      <td>paid_search</td>\n",
              "    </tr>\n",
              "    <tr>\n",
              "      <th>2</th>\n",
              "      <td>b4bc852d233dfefc5131f593b538befa</td>\n",
              "      <td>2018-03-22</td>\n",
              "      <td>a7982125ff7aa3b2054c6e44f9d28522</td>\n",
              "      <td>organic_search</td>\n",
              "    </tr>\n",
              "    <tr>\n",
              "      <th>3</th>\n",
              "      <td>6be030b81c75970747525b843c1ef4f8</td>\n",
              "      <td>2018-01-22</td>\n",
              "      <td>d45d558f0daeecf3cccdffe3c59684aa</td>\n",
              "      <td>email</td>\n",
              "    </tr>\n",
              "    <tr>\n",
              "      <th>4</th>\n",
              "      <td>5420aad7fec3549a85876ba1c529bd84</td>\n",
              "      <td>2018-02-21</td>\n",
              "      <td>b48ec5f3b04e9068441002a19df93c6c</td>\n",
              "      <td>organic_search</td>\n",
              "    </tr>\n",
              "    <tr>\n",
              "      <th>...</th>\n",
              "      <td>...</td>\n",
              "      <td>...</td>\n",
              "      <td>...</td>\n",
              "      <td>...</td>\n",
              "    </tr>\n",
              "    <tr>\n",
              "      <th>7995</th>\n",
              "      <td>feaba3ffcd2ff97501696c7f9a42f41c</td>\n",
              "      <td>2018-05-22</td>\n",
              "      <td>e42a14209c69c3e9cc6b042620465f12</td>\n",
              "      <td>paid_search</td>\n",
              "    </tr>\n",
              "    <tr>\n",
              "      <th>7996</th>\n",
              "      <td>a79cb53cd009ab92e0143b92baa2407b</td>\n",
              "      <td>2018-03-27</td>\n",
              "      <td>c494978688ccf66ad9fad3d6a3338c22</td>\n",
              "      <td>paid_search</td>\n",
              "    </tr>\n",
              "    <tr>\n",
              "      <th>7997</th>\n",
              "      <td>68f049a23ab109c6a0f6989bb9a02994</td>\n",
              "      <td>2017-08-27</td>\n",
              "      <td>b48ec5f3b04e9068441002a19df93c6c</td>\n",
              "      <td>organic_search</td>\n",
              "    </tr>\n",
              "    <tr>\n",
              "      <th>7998</th>\n",
              "      <td>4f8c96e2509b984329044c6682c88ee9</td>\n",
              "      <td>2017-10-06</td>\n",
              "      <td>a56671a54260a44923d32c2f08fad39c</td>\n",
              "      <td>organic_search</td>\n",
              "    </tr>\n",
              "    <tr>\n",
              "      <th>7999</th>\n",
              "      <td>8a6492305a5fbcdcdd1a7f5a90764c07</td>\n",
              "      <td>2018-01-11</td>\n",
              "      <td>b76ef37428e6799c421989521c0e5077</td>\n",
              "      <td>direct_traffic</td>\n",
              "    </tr>\n",
              "  </tbody>\n",
              "</table>\n",
              "<p>8000 rows × 4 columns</p>\n",
              "</div>"
            ],
            "text/plain": [
              "                                mql_id first_contact_date  \\\n",
              "0     dac32acd4db4c29c230538b72f8dd87d         2018-02-01   \n",
              "1     8c18d1de7f67e60dbd64e3c07d7e9d5d         2017-10-20   \n",
              "2     b4bc852d233dfefc5131f593b538befa         2018-03-22   \n",
              "3     6be030b81c75970747525b843c1ef4f8         2018-01-22   \n",
              "4     5420aad7fec3549a85876ba1c529bd84         2018-02-21   \n",
              "...                                ...                ...   \n",
              "7995  feaba3ffcd2ff97501696c7f9a42f41c         2018-05-22   \n",
              "7996  a79cb53cd009ab92e0143b92baa2407b         2018-03-27   \n",
              "7997  68f049a23ab109c6a0f6989bb9a02994         2017-08-27   \n",
              "7998  4f8c96e2509b984329044c6682c88ee9         2017-10-06   \n",
              "7999  8a6492305a5fbcdcdd1a7f5a90764c07         2018-01-11   \n",
              "\n",
              "                       landing_page_id          origin  \n",
              "0     88740e65d5d6b056e0cda098e1ea6313          social  \n",
              "1     007f9098284a86ee80ddeb25d53e0af8     paid_search  \n",
              "2     a7982125ff7aa3b2054c6e44f9d28522  organic_search  \n",
              "3     d45d558f0daeecf3cccdffe3c59684aa           email  \n",
              "4     b48ec5f3b04e9068441002a19df93c6c  organic_search  \n",
              "...                                ...             ...  \n",
              "7995  e42a14209c69c3e9cc6b042620465f12     paid_search  \n",
              "7996  c494978688ccf66ad9fad3d6a3338c22     paid_search  \n",
              "7997  b48ec5f3b04e9068441002a19df93c6c  organic_search  \n",
              "7998  a56671a54260a44923d32c2f08fad39c  organic_search  \n",
              "7999  b76ef37428e6799c421989521c0e5077  direct_traffic  \n",
              "\n",
              "[8000 rows x 4 columns]"
            ]
          },
          "execution_count": 125,
          "metadata": {},
          "output_type": "execute_result"
        }
      ],
      "source": [
        "olist_marketing_qualified_leads"
      ]
    },
    {
      "cell_type": "code",
      "execution_count": null,
      "id": "7545ea84",
      "metadata": {
        "id": "7545ea84",
        "outputId": "e5e58f94-83cd-433b-e869-f298f4e371c1"
      },
      "outputs": [
        {
          "data": {
            "text/html": [
              "<div>\n",
              "<style scoped>\n",
              "    .dataframe tbody tr th:only-of-type {\n",
              "        vertical-align: middle;\n",
              "    }\n",
              "\n",
              "    .dataframe tbody tr th {\n",
              "        vertical-align: top;\n",
              "    }\n",
              "\n",
              "    .dataframe thead th {\n",
              "        text-align: right;\n",
              "    }\n",
              "</style>\n",
              "<table border=\"1\" class=\"dataframe\">\n",
              "  <thead>\n",
              "    <tr style=\"text-align: right;\">\n",
              "      <th></th>\n",
              "      <th>mql_id</th>\n",
              "      <th>seller_id</th>\n",
              "      <th>sdr_id</th>\n",
              "      <th>sr_id</th>\n",
              "      <th>won_date</th>\n",
              "      <th>business_segment</th>\n",
              "      <th>lead_type</th>\n",
              "      <th>lead_behaviour_profile</th>\n",
              "      <th>has_company</th>\n",
              "      <th>has_gtin</th>\n",
              "      <th>average_stock</th>\n",
              "      <th>business_type</th>\n",
              "      <th>declared_product_catalog_size</th>\n",
              "      <th>declared_monthly_revenue</th>\n",
              "    </tr>\n",
              "  </thead>\n",
              "  <tbody>\n",
              "    <tr>\n",
              "      <th>0</th>\n",
              "      <td>5420aad7fec3549a85876ba1c529bd84</td>\n",
              "      <td>2c43fb513632d29b3b58df74816f1b06</td>\n",
              "      <td>a8387c01a09e99ce014107505b92388c</td>\n",
              "      <td>4ef15afb4b2723d8f3d81e51ec7afefe</td>\n",
              "      <td>2018-02-26 19:58:54</td>\n",
              "      <td>pet</td>\n",
              "      <td>online_medium</td>\n",
              "      <td>cat</td>\n",
              "      <td>NaN</td>\n",
              "      <td>NaN</td>\n",
              "      <td>NaN</td>\n",
              "      <td>reseller</td>\n",
              "      <td>NaN</td>\n",
              "      <td>0.0</td>\n",
              "    </tr>\n",
              "    <tr>\n",
              "      <th>1</th>\n",
              "      <td>a555fb36b9368110ede0f043dfc3b9a0</td>\n",
              "      <td>bbb7d7893a450660432ea6652310ebb7</td>\n",
              "      <td>09285259593c61296eef10c734121d5b</td>\n",
              "      <td>d3d1e91a157ea7f90548eef82f1955e3</td>\n",
              "      <td>2018-05-08 20:17:59</td>\n",
              "      <td>car_accessories</td>\n",
              "      <td>industry</td>\n",
              "      <td>eagle</td>\n",
              "      <td>NaN</td>\n",
              "      <td>NaN</td>\n",
              "      <td>NaN</td>\n",
              "      <td>reseller</td>\n",
              "      <td>NaN</td>\n",
              "      <td>0.0</td>\n",
              "    </tr>\n",
              "    <tr>\n",
              "      <th>2</th>\n",
              "      <td>327174d3648a2d047e8940d7d15204ca</td>\n",
              "      <td>612170e34b97004b3ba37eae81836b4c</td>\n",
              "      <td>b90f87164b5f8c2cfa5c8572834dbe3f</td>\n",
              "      <td>6565aa9ce3178a5caf6171827af3a9ba</td>\n",
              "      <td>2018-06-05 17:27:23</td>\n",
              "      <td>home_appliances</td>\n",
              "      <td>online_big</td>\n",
              "      <td>cat</td>\n",
              "      <td>NaN</td>\n",
              "      <td>NaN</td>\n",
              "      <td>NaN</td>\n",
              "      <td>reseller</td>\n",
              "      <td>NaN</td>\n",
              "      <td>0.0</td>\n",
              "    </tr>\n",
              "    <tr>\n",
              "      <th>3</th>\n",
              "      <td>f5fee8f7da74f4887f5bcae2bafb6dd6</td>\n",
              "      <td>21e1781e36faf92725dde4730a88ca0f</td>\n",
              "      <td>56bf83c4bb35763a51c2baab501b4c67</td>\n",
              "      <td>d3d1e91a157ea7f90548eef82f1955e3</td>\n",
              "      <td>2018-01-17 13:51:03</td>\n",
              "      <td>food_drink</td>\n",
              "      <td>online_small</td>\n",
              "      <td>NaN</td>\n",
              "      <td>NaN</td>\n",
              "      <td>NaN</td>\n",
              "      <td>NaN</td>\n",
              "      <td>reseller</td>\n",
              "      <td>NaN</td>\n",
              "      <td>0.0</td>\n",
              "    </tr>\n",
              "    <tr>\n",
              "      <th>4</th>\n",
              "      <td>ffe640179b554e295c167a2f6be528e0</td>\n",
              "      <td>ed8cb7b190ceb6067227478e48cf8dde</td>\n",
              "      <td>4b339f9567d060bcea4f5136b9f5949e</td>\n",
              "      <td>d3d1e91a157ea7f90548eef82f1955e3</td>\n",
              "      <td>2018-07-03 20:17:45</td>\n",
              "      <td>home_appliances</td>\n",
              "      <td>industry</td>\n",
              "      <td>wolf</td>\n",
              "      <td>NaN</td>\n",
              "      <td>NaN</td>\n",
              "      <td>NaN</td>\n",
              "      <td>manufacturer</td>\n",
              "      <td>NaN</td>\n",
              "      <td>0.0</td>\n",
              "    </tr>\n",
              "    <tr>\n",
              "      <th>...</th>\n",
              "      <td>...</td>\n",
              "      <td>...</td>\n",
              "      <td>...</td>\n",
              "      <td>...</td>\n",
              "      <td>...</td>\n",
              "      <td>...</td>\n",
              "      <td>...</td>\n",
              "      <td>...</td>\n",
              "      <td>...</td>\n",
              "      <td>...</td>\n",
              "      <td>...</td>\n",
              "      <td>...</td>\n",
              "      <td>...</td>\n",
              "      <td>...</td>\n",
              "    </tr>\n",
              "    <tr>\n",
              "      <th>837</th>\n",
              "      <td>df9a2abe2ad3f2d8758b675ac8331ecf</td>\n",
              "      <td>bfcc27719640628da877db48b672b169</td>\n",
              "      <td>45749fb708130f78d0db07d8d80f030b</td>\n",
              "      <td>a8387c01a09e99ce014107505b92388c</td>\n",
              "      <td>2018-08-01 20:22:31</td>\n",
              "      <td>home_decor</td>\n",
              "      <td>offline</td>\n",
              "      <td>cat</td>\n",
              "      <td>NaN</td>\n",
              "      <td>NaN</td>\n",
              "      <td>NaN</td>\n",
              "      <td>reseller</td>\n",
              "      <td>NaN</td>\n",
              "      <td>0.0</td>\n",
              "    </tr>\n",
              "    <tr>\n",
              "      <th>838</th>\n",
              "      <td>8723201570415eb23b4f095d8c20a27c</td>\n",
              "      <td>4a82eab98441aeb64566e2776c1fb2b6</td>\n",
              "      <td>370c9f455f93a9a96cbe9bea48e70033</td>\n",
              "      <td>4b339f9567d060bcea4f5136b9f5949e</td>\n",
              "      <td>2018-09-27 18:58:41</td>\n",
              "      <td>construction_tools_house_garden</td>\n",
              "      <td>online_big</td>\n",
              "      <td>wolf</td>\n",
              "      <td>NaN</td>\n",
              "      <td>NaN</td>\n",
              "      <td>NaN</td>\n",
              "      <td>reseller</td>\n",
              "      <td>132.0</td>\n",
              "      <td>200000.0</td>\n",
              "    </tr>\n",
              "    <tr>\n",
              "      <th>839</th>\n",
              "      <td>2e57665b8faf05c967a801eb5aedfa0a</td>\n",
              "      <td>55031883943971ca22db6894574cfe2c</td>\n",
              "      <td>370c9f455f93a9a96cbe9bea48e70033</td>\n",
              "      <td>a8387c01a09e99ce014107505b92388c</td>\n",
              "      <td>2018-06-06 20:15:26</td>\n",
              "      <td>computers</td>\n",
              "      <td>online_medium</td>\n",
              "      <td>wolf</td>\n",
              "      <td>NaN</td>\n",
              "      <td>NaN</td>\n",
              "      <td>NaN</td>\n",
              "      <td>reseller</td>\n",
              "      <td>NaN</td>\n",
              "      <td>0.0</td>\n",
              "    </tr>\n",
              "    <tr>\n",
              "      <th>840</th>\n",
              "      <td>40955be51cc85c5a5a6cdd12b19e9f10</td>\n",
              "      <td>c0e933c238e41f0cd459d6025ee9b364</td>\n",
              "      <td>068066e24f0c643eb1d089c7dd20cd73</td>\n",
              "      <td>d3d1e91a157ea7f90548eef82f1955e3</td>\n",
              "      <td>2018-03-06 15:52:23</td>\n",
              "      <td>pet</td>\n",
              "      <td>online_beginner</td>\n",
              "      <td>cat</td>\n",
              "      <td>NaN</td>\n",
              "      <td>NaN</td>\n",
              "      <td>NaN</td>\n",
              "      <td>reseller</td>\n",
              "      <td>NaN</td>\n",
              "      <td>0.0</td>\n",
              "    </tr>\n",
              "    <tr>\n",
              "      <th>841</th>\n",
              "      <td>8a6492305a5fbcdcdd1a7f5a90764c07</td>\n",
              "      <td>1bba9c94eb5c4e82fba9f7286fe81025</td>\n",
              "      <td>56bf83c4bb35763a51c2baab501b4c67</td>\n",
              "      <td>de63de0d10a6012430098db33c679b0b</td>\n",
              "      <td>2018-05-02 13:31:32</td>\n",
              "      <td>household_utilities</td>\n",
              "      <td>industry</td>\n",
              "      <td>eagle</td>\n",
              "      <td>NaN</td>\n",
              "      <td>NaN</td>\n",
              "      <td>NaN</td>\n",
              "      <td>manufacturer</td>\n",
              "      <td>NaN</td>\n",
              "      <td>0.0</td>\n",
              "    </tr>\n",
              "  </tbody>\n",
              "</table>\n",
              "<p>842 rows × 14 columns</p>\n",
              "</div>"
            ],
            "text/plain": [
              "                               mql_id                         seller_id  \\\n",
              "0    5420aad7fec3549a85876ba1c529bd84  2c43fb513632d29b3b58df74816f1b06   \n",
              "1    a555fb36b9368110ede0f043dfc3b9a0  bbb7d7893a450660432ea6652310ebb7   \n",
              "2    327174d3648a2d047e8940d7d15204ca  612170e34b97004b3ba37eae81836b4c   \n",
              "3    f5fee8f7da74f4887f5bcae2bafb6dd6  21e1781e36faf92725dde4730a88ca0f   \n",
              "4    ffe640179b554e295c167a2f6be528e0  ed8cb7b190ceb6067227478e48cf8dde   \n",
              "..                                ...                               ...   \n",
              "837  df9a2abe2ad3f2d8758b675ac8331ecf  bfcc27719640628da877db48b672b169   \n",
              "838  8723201570415eb23b4f095d8c20a27c  4a82eab98441aeb64566e2776c1fb2b6   \n",
              "839  2e57665b8faf05c967a801eb5aedfa0a  55031883943971ca22db6894574cfe2c   \n",
              "840  40955be51cc85c5a5a6cdd12b19e9f10  c0e933c238e41f0cd459d6025ee9b364   \n",
              "841  8a6492305a5fbcdcdd1a7f5a90764c07  1bba9c94eb5c4e82fba9f7286fe81025   \n",
              "\n",
              "                               sdr_id                             sr_id  \\\n",
              "0    a8387c01a09e99ce014107505b92388c  4ef15afb4b2723d8f3d81e51ec7afefe   \n",
              "1    09285259593c61296eef10c734121d5b  d3d1e91a157ea7f90548eef82f1955e3   \n",
              "2    b90f87164b5f8c2cfa5c8572834dbe3f  6565aa9ce3178a5caf6171827af3a9ba   \n",
              "3    56bf83c4bb35763a51c2baab501b4c67  d3d1e91a157ea7f90548eef82f1955e3   \n",
              "4    4b339f9567d060bcea4f5136b9f5949e  d3d1e91a157ea7f90548eef82f1955e3   \n",
              "..                                ...                               ...   \n",
              "837  45749fb708130f78d0db07d8d80f030b  a8387c01a09e99ce014107505b92388c   \n",
              "838  370c9f455f93a9a96cbe9bea48e70033  4b339f9567d060bcea4f5136b9f5949e   \n",
              "839  370c9f455f93a9a96cbe9bea48e70033  a8387c01a09e99ce014107505b92388c   \n",
              "840  068066e24f0c643eb1d089c7dd20cd73  d3d1e91a157ea7f90548eef82f1955e3   \n",
              "841  56bf83c4bb35763a51c2baab501b4c67  de63de0d10a6012430098db33c679b0b   \n",
              "\n",
              "                won_date                 business_segment        lead_type  \\\n",
              "0    2018-02-26 19:58:54                              pet    online_medium   \n",
              "1    2018-05-08 20:17:59                  car_accessories         industry   \n",
              "2    2018-06-05 17:27:23                  home_appliances       online_big   \n",
              "3    2018-01-17 13:51:03                       food_drink     online_small   \n",
              "4    2018-07-03 20:17:45                  home_appliances         industry   \n",
              "..                   ...                              ...              ...   \n",
              "837  2018-08-01 20:22:31                       home_decor          offline   \n",
              "838  2018-09-27 18:58:41  construction_tools_house_garden       online_big   \n",
              "839  2018-06-06 20:15:26                        computers    online_medium   \n",
              "840  2018-03-06 15:52:23                              pet  online_beginner   \n",
              "841  2018-05-02 13:31:32              household_utilities         industry   \n",
              "\n",
              "    lead_behaviour_profile has_company has_gtin average_stock business_type  \\\n",
              "0                      cat         NaN      NaN           NaN      reseller   \n",
              "1                    eagle         NaN      NaN           NaN      reseller   \n",
              "2                      cat         NaN      NaN           NaN      reseller   \n",
              "3                      NaN         NaN      NaN           NaN      reseller   \n",
              "4                     wolf         NaN      NaN           NaN  manufacturer   \n",
              "..                     ...         ...      ...           ...           ...   \n",
              "837                    cat         NaN      NaN           NaN      reseller   \n",
              "838                   wolf         NaN      NaN           NaN      reseller   \n",
              "839                   wolf         NaN      NaN           NaN      reseller   \n",
              "840                    cat         NaN      NaN           NaN      reseller   \n",
              "841                  eagle         NaN      NaN           NaN  manufacturer   \n",
              "\n",
              "     declared_product_catalog_size  declared_monthly_revenue  \n",
              "0                              NaN                       0.0  \n",
              "1                              NaN                       0.0  \n",
              "2                              NaN                       0.0  \n",
              "3                              NaN                       0.0  \n",
              "4                              NaN                       0.0  \n",
              "..                             ...                       ...  \n",
              "837                            NaN                       0.0  \n",
              "838                          132.0                  200000.0  \n",
              "839                            NaN                       0.0  \n",
              "840                            NaN                       0.0  \n",
              "841                            NaN                       0.0  \n",
              "\n",
              "[842 rows x 14 columns]"
            ]
          },
          "execution_count": 126,
          "metadata": {},
          "output_type": "execute_result"
        }
      ],
      "source": [
        "olist_closed_deals"
      ]
    },
    {
      "cell_type": "code",
      "execution_count": null,
      "id": "b2abc168",
      "metadata": {
        "id": "b2abc168",
        "outputId": "edcb501f-5cb0-4567-c340-91a0586d34fc"
      },
      "outputs": [
        {
          "data": {
            "text/plain": [
              "8000"
            ]
          },
          "execution_count": 127,
          "metadata": {},
          "output_type": "execute_result"
        }
      ],
      "source": [
        "# check mql_id nunique\n",
        "olist_marketing_qualified_leads['mql_id'].nunique()"
      ]
    },
    {
      "cell_type": "code",
      "execution_count": null,
      "id": "6835aad8",
      "metadata": {
        "id": "6835aad8",
        "outputId": "0477244e-c998-4560-c61f-f16462276bbb"
      },
      "outputs": [
        {
          "data": {
            "text/html": [
              "<div>\n",
              "<style scoped>\n",
              "    .dataframe tbody tr th:only-of-type {\n",
              "        vertical-align: middle;\n",
              "    }\n",
              "\n",
              "    .dataframe tbody tr th {\n",
              "        vertical-align: top;\n",
              "    }\n",
              "\n",
              "    .dataframe thead th {\n",
              "        text-align: right;\n",
              "    }\n",
              "</style>\n",
              "<table border=\"1\" class=\"dataframe\">\n",
              "  <thead>\n",
              "    <tr style=\"text-align: right;\">\n",
              "      <th></th>\n",
              "      <th>mql_id</th>\n",
              "      <th>seller_id</th>\n",
              "      <th>business_segment</th>\n",
              "      <th>lead_type</th>\n",
              "      <th>business_type</th>\n",
              "      <th>first_contact_date</th>\n",
              "      <th>landing_page_id</th>\n",
              "      <th>declared_monthly_revenue</th>\n",
              "      <th>origin</th>\n",
              "    </tr>\n",
              "  </thead>\n",
              "  <tbody>\n",
              "    <tr>\n",
              "      <th>0</th>\n",
              "      <td>5420aad7fec3549a85876ba1c529bd84</td>\n",
              "      <td>2c43fb513632d29b3b58df74816f1b06</td>\n",
              "      <td>pet</td>\n",
              "      <td>online_medium</td>\n",
              "      <td>reseller</td>\n",
              "      <td>2018-02-21</td>\n",
              "      <td>b48ec5f3b04e9068441002a19df93c6c</td>\n",
              "      <td>0.0</td>\n",
              "      <td>organic_search</td>\n",
              "    </tr>\n",
              "    <tr>\n",
              "      <th>1</th>\n",
              "      <td>a555fb36b9368110ede0f043dfc3b9a0</td>\n",
              "      <td>bbb7d7893a450660432ea6652310ebb7</td>\n",
              "      <td>car_accessories</td>\n",
              "      <td>industry</td>\n",
              "      <td>reseller</td>\n",
              "      <td>2018-04-04</td>\n",
              "      <td>2f08471dfb83baef522f952438a36f6e</td>\n",
              "      <td>0.0</td>\n",
              "      <td>referral</td>\n",
              "    </tr>\n",
              "    <tr>\n",
              "      <th>2</th>\n",
              "      <td>327174d3648a2d047e8940d7d15204ca</td>\n",
              "      <td>612170e34b97004b3ba37eae81836b4c</td>\n",
              "      <td>home_appliances</td>\n",
              "      <td>online_big</td>\n",
              "      <td>reseller</td>\n",
              "      <td>2018-04-03</td>\n",
              "      <td>1ceb590cd1e00c7ee95220971f82693d</td>\n",
              "      <td>0.0</td>\n",
              "      <td>organic_search</td>\n",
              "    </tr>\n",
              "    <tr>\n",
              "      <th>3</th>\n",
              "      <td>f5fee8f7da74f4887f5bcae2bafb6dd6</td>\n",
              "      <td>21e1781e36faf92725dde4730a88ca0f</td>\n",
              "      <td>food_drink</td>\n",
              "      <td>online_small</td>\n",
              "      <td>reseller</td>\n",
              "      <td>2018-01-14</td>\n",
              "      <td>22c29808c4f815213303f8933030604c</td>\n",
              "      <td>0.0</td>\n",
              "      <td>paid_search</td>\n",
              "    </tr>\n",
              "    <tr>\n",
              "      <th>4</th>\n",
              "      <td>ffe640179b554e295c167a2f6be528e0</td>\n",
              "      <td>ed8cb7b190ceb6067227478e48cf8dde</td>\n",
              "      <td>home_appliances</td>\n",
              "      <td>industry</td>\n",
              "      <td>manufacturer</td>\n",
              "      <td>2017-10-09</td>\n",
              "      <td>a0fbc0263cb98bdb0d72b9f9f283a172</td>\n",
              "      <td>0.0</td>\n",
              "      <td>unknown</td>\n",
              "    </tr>\n",
              "  </tbody>\n",
              "</table>\n",
              "</div>"
            ],
            "text/plain": [
              "                             mql_id                         seller_id  \\\n",
              "0  5420aad7fec3549a85876ba1c529bd84  2c43fb513632d29b3b58df74816f1b06   \n",
              "1  a555fb36b9368110ede0f043dfc3b9a0  bbb7d7893a450660432ea6652310ebb7   \n",
              "2  327174d3648a2d047e8940d7d15204ca  612170e34b97004b3ba37eae81836b4c   \n",
              "3  f5fee8f7da74f4887f5bcae2bafb6dd6  21e1781e36faf92725dde4730a88ca0f   \n",
              "4  ffe640179b554e295c167a2f6be528e0  ed8cb7b190ceb6067227478e48cf8dde   \n",
              "\n",
              "  business_segment      lead_type business_type first_contact_date  \\\n",
              "0              pet  online_medium      reseller         2018-02-21   \n",
              "1  car_accessories       industry      reseller         2018-04-04   \n",
              "2  home_appliances     online_big      reseller         2018-04-03   \n",
              "3       food_drink   online_small      reseller         2018-01-14   \n",
              "4  home_appliances       industry  manufacturer         2017-10-09   \n",
              "\n",
              "                    landing_page_id  declared_monthly_revenue          origin  \n",
              "0  b48ec5f3b04e9068441002a19df93c6c                       0.0  organic_search  \n",
              "1  2f08471dfb83baef522f952438a36f6e                       0.0        referral  \n",
              "2  1ceb590cd1e00c7ee95220971f82693d                       0.0  organic_search  \n",
              "3  22c29808c4f815213303f8933030604c                       0.0     paid_search  \n",
              "4  a0fbc0263cb98bdb0d72b9f9f283a172                       0.0         unknown  "
            ]
          },
          "execution_count": 128,
          "metadata": {},
          "output_type": "execute_result"
        }
      ],
      "source": [
        "# based on nunique mql we only combine those data by mql_id that th order already closed\n",
        "cols= [\n",
        "    'mql_id',\n",
        "    'seller_id',\n",
        "    'business_segment',\n",
        "    'lead_type',\n",
        "    'business_type',\n",
        "    'first_contact_date',\n",
        "    'landing_page_id',\n",
        "    'declared_monthly_revenue',\n",
        "    'origin'\n",
        "]\n",
        "\n",
        "data_marketing = pd.merge(\n",
        "    left= olist_closed_deals,\n",
        "    right= olist_marketing_qualified_leads,\n",
        "    on= 'mql_id',\n",
        "    how= 'left'\n",
        ")[cols]\n",
        "\n",
        "data_marketing.head(5)"
      ]
    },
    {
      "cell_type": "code",
      "execution_count": null,
      "id": "7d6b1bd7",
      "metadata": {
        "id": "7d6b1bd7",
        "outputId": "27b45505-0a61-40a4-9d7b-04e218e9f4a0"
      },
      "outputs": [
        {
          "data": {
            "text/plain": [
              "(842, 9)"
            ]
          },
          "execution_count": 129,
          "metadata": {},
          "output_type": "execute_result"
        }
      ],
      "source": [
        "# check data shape\n",
        "data_marketing.shape"
      ]
    },
    {
      "cell_type": "code",
      "execution_count": null,
      "id": "b145a882",
      "metadata": {
        "id": "b145a882",
        "outputId": "0491cba2-4a9c-400e-dd55-37c733808986"
      },
      "outputs": [
        {
          "name": "stdout",
          "output_type": "stream",
          "text": [
            "842 \n",
            "\n",
            "842\n"
          ]
        }
      ],
      "source": [
        "# nunique of seller_id and mql_id\n",
        "print(data_marketing['mql_id'].nunique(),'\\n')\n",
        "print(data_marketing['seller_id'].nunique())"
      ]
    },
    {
      "cell_type": "markdown",
      "id": "1d50c463",
      "metadata": {
        "id": "1d50c463"
      },
      "source": [
        "## Combining"
      ]
    },
    {
      "cell_type": "code",
      "execution_count": null,
      "id": "285e5f28",
      "metadata": {
        "id": "285e5f28",
        "outputId": "ec4bdaeb-1524-4ca6-f3c4-094cefa7d9fa"
      },
      "outputs": [
        {
          "data": {
            "text/html": [
              "<div>\n",
              "<style scoped>\n",
              "    .dataframe tbody tr th:only-of-type {\n",
              "        vertical-align: middle;\n",
              "    }\n",
              "\n",
              "    .dataframe tbody tr th {\n",
              "        vertical-align: top;\n",
              "    }\n",
              "\n",
              "    .dataframe thead th {\n",
              "        text-align: right;\n",
              "    }\n",
              "</style>\n",
              "<table border=\"1\" class=\"dataframe\">\n",
              "  <thead>\n",
              "    <tr style=\"text-align: right;\">\n",
              "      <th></th>\n",
              "      <th>mql_id</th>\n",
              "      <th>seller_id</th>\n",
              "      <th>seller_city</th>\n",
              "      <th>seller_state</th>\n",
              "      <th>business_segment</th>\n",
              "      <th>lead_type</th>\n",
              "      <th>business_type</th>\n",
              "      <th>first_contact_date</th>\n",
              "      <th>landing_page_id</th>\n",
              "      <th>declared_monthly_revenue</th>\n",
              "      <th>origin</th>\n",
              "      <th>total_trx</th>\n",
              "      <th>total_ordered</th>\n",
              "      <th>price</th>\n",
              "      <th>freight_value</th>\n",
              "    </tr>\n",
              "  </thead>\n",
              "  <tbody>\n",
              "    <tr>\n",
              "      <th>0</th>\n",
              "      <td>5420aad7fec3549a85876ba1c529bd84</td>\n",
              "      <td>2c43fb513632d29b3b58df74816f1b06</td>\n",
              "      <td>belo horizonte</td>\n",
              "      <td>MG</td>\n",
              "      <td>pet</td>\n",
              "      <td>online_medium</td>\n",
              "      <td>reseller</td>\n",
              "      <td>2018-02-21</td>\n",
              "      <td>b48ec5f3b04e9068441002a19df93c6c</td>\n",
              "      <td>0.0</td>\n",
              "      <td>organic_search</td>\n",
              "      <td>3.0</td>\n",
              "      <td>3.0</td>\n",
              "      <td>858.00</td>\n",
              "      <td>72.17</td>\n",
              "    </tr>\n",
              "    <tr>\n",
              "      <th>1</th>\n",
              "      <td>a555fb36b9368110ede0f043dfc3b9a0</td>\n",
              "      <td>bbb7d7893a450660432ea6652310ebb7</td>\n",
              "      <td>NaN</td>\n",
              "      <td>NaN</td>\n",
              "      <td>car_accessories</td>\n",
              "      <td>industry</td>\n",
              "      <td>reseller</td>\n",
              "      <td>2018-04-04</td>\n",
              "      <td>2f08471dfb83baef522f952438a36f6e</td>\n",
              "      <td>0.0</td>\n",
              "      <td>referral</td>\n",
              "      <td>NaN</td>\n",
              "      <td>NaN</td>\n",
              "      <td>NaN</td>\n",
              "      <td>NaN</td>\n",
              "    </tr>\n",
              "    <tr>\n",
              "      <th>2</th>\n",
              "      <td>327174d3648a2d047e8940d7d15204ca</td>\n",
              "      <td>612170e34b97004b3ba37eae81836b4c</td>\n",
              "      <td>novo hamburgo</td>\n",
              "      <td>RS</td>\n",
              "      <td>home_appliances</td>\n",
              "      <td>online_big</td>\n",
              "      <td>reseller</td>\n",
              "      <td>2018-04-03</td>\n",
              "      <td>1ceb590cd1e00c7ee95220971f82693d</td>\n",
              "      <td>0.0</td>\n",
              "      <td>organic_search</td>\n",
              "      <td>107.0</td>\n",
              "      <td>48.0</td>\n",
              "      <td>23065.02</td>\n",
              "      <td>2307.06</td>\n",
              "    </tr>\n",
              "    <tr>\n",
              "      <th>3</th>\n",
              "      <td>f5fee8f7da74f4887f5bcae2bafb6dd6</td>\n",
              "      <td>21e1781e36faf92725dde4730a88ca0f</td>\n",
              "      <td>NaN</td>\n",
              "      <td>NaN</td>\n",
              "      <td>food_drink</td>\n",
              "      <td>online_small</td>\n",
              "      <td>reseller</td>\n",
              "      <td>2018-01-14</td>\n",
              "      <td>22c29808c4f815213303f8933030604c</td>\n",
              "      <td>0.0</td>\n",
              "      <td>paid_search</td>\n",
              "      <td>NaN</td>\n",
              "      <td>NaN</td>\n",
              "      <td>NaN</td>\n",
              "      <td>NaN</td>\n",
              "    </tr>\n",
              "    <tr>\n",
              "      <th>4</th>\n",
              "      <td>ffe640179b554e295c167a2f6be528e0</td>\n",
              "      <td>ed8cb7b190ceb6067227478e48cf8dde</td>\n",
              "      <td>santos</td>\n",
              "      <td>SP</td>\n",
              "      <td>home_appliances</td>\n",
              "      <td>industry</td>\n",
              "      <td>manufacturer</td>\n",
              "      <td>2017-10-09</td>\n",
              "      <td>a0fbc0263cb98bdb0d72b9f9f283a172</td>\n",
              "      <td>0.0</td>\n",
              "      <td>unknown</td>\n",
              "      <td>15.0</td>\n",
              "      <td>10.0</td>\n",
              "      <td>573.50</td>\n",
              "      <td>242.71</td>\n",
              "    </tr>\n",
              "    <tr>\n",
              "      <th>...</th>\n",
              "      <td>...</td>\n",
              "      <td>...</td>\n",
              "      <td>...</td>\n",
              "      <td>...</td>\n",
              "      <td>...</td>\n",
              "      <td>...</td>\n",
              "      <td>...</td>\n",
              "      <td>...</td>\n",
              "      <td>...</td>\n",
              "      <td>...</td>\n",
              "      <td>...</td>\n",
              "      <td>...</td>\n",
              "      <td>...</td>\n",
              "      <td>...</td>\n",
              "      <td>...</td>\n",
              "    </tr>\n",
              "    <tr>\n",
              "      <th>837</th>\n",
              "      <td>df9a2abe2ad3f2d8758b675ac8331ecf</td>\n",
              "      <td>bfcc27719640628da877db48b672b169</td>\n",
              "      <td>NaN</td>\n",
              "      <td>NaN</td>\n",
              "      <td>home_decor</td>\n",
              "      <td>offline</td>\n",
              "      <td>reseller</td>\n",
              "      <td>2018-03-28</td>\n",
              "      <td>a7982125ff7aa3b2054c6e44f9d28522</td>\n",
              "      <td>0.0</td>\n",
              "      <td>organic_search</td>\n",
              "      <td>NaN</td>\n",
              "      <td>NaN</td>\n",
              "      <td>NaN</td>\n",
              "      <td>NaN</td>\n",
              "    </tr>\n",
              "    <tr>\n",
              "      <th>838</th>\n",
              "      <td>8723201570415eb23b4f095d8c20a27c</td>\n",
              "      <td>4a82eab98441aeb64566e2776c1fb2b6</td>\n",
              "      <td>NaN</td>\n",
              "      <td>NaN</td>\n",
              "      <td>construction_tools_house_garden</td>\n",
              "      <td>online_big</td>\n",
              "      <td>reseller</td>\n",
              "      <td>2018-05-18</td>\n",
              "      <td>b76ef37428e6799c421989521c0e5077</td>\n",
              "      <td>200000.0</td>\n",
              "      <td>organic_search</td>\n",
              "      <td>NaN</td>\n",
              "      <td>NaN</td>\n",
              "      <td>NaN</td>\n",
              "      <td>NaN</td>\n",
              "    </tr>\n",
              "    <tr>\n",
              "      <th>839</th>\n",
              "      <td>2e57665b8faf05c967a801eb5aedfa0a</td>\n",
              "      <td>55031883943971ca22db6894574cfe2c</td>\n",
              "      <td>NaN</td>\n",
              "      <td>NaN</td>\n",
              "      <td>computers</td>\n",
              "      <td>online_medium</td>\n",
              "      <td>reseller</td>\n",
              "      <td>2018-05-25</td>\n",
              "      <td>40dec9f3d5259a3d2dbcdab2114fae47</td>\n",
              "      <td>0.0</td>\n",
              "      <td>paid_search</td>\n",
              "      <td>NaN</td>\n",
              "      <td>NaN</td>\n",
              "      <td>NaN</td>\n",
              "      <td>NaN</td>\n",
              "    </tr>\n",
              "    <tr>\n",
              "      <th>840</th>\n",
              "      <td>40955be51cc85c5a5a6cdd12b19e9f10</td>\n",
              "      <td>c0e933c238e41f0cd459d6025ee9b364</td>\n",
              "      <td>NaN</td>\n",
              "      <td>NaN</td>\n",
              "      <td>pet</td>\n",
              "      <td>online_beginner</td>\n",
              "      <td>reseller</td>\n",
              "      <td>2018-02-04</td>\n",
              "      <td>88740e65d5d6b056e0cda098e1ea6313</td>\n",
              "      <td>0.0</td>\n",
              "      <td>social</td>\n",
              "      <td>NaN</td>\n",
              "      <td>NaN</td>\n",
              "      <td>NaN</td>\n",
              "      <td>NaN</td>\n",
              "    </tr>\n",
              "    <tr>\n",
              "      <th>841</th>\n",
              "      <td>8a6492305a5fbcdcdd1a7f5a90764c07</td>\n",
              "      <td>1bba9c94eb5c4e82fba9f7286fe81025</td>\n",
              "      <td>NaN</td>\n",
              "      <td>NaN</td>\n",
              "      <td>household_utilities</td>\n",
              "      <td>industry</td>\n",
              "      <td>manufacturer</td>\n",
              "      <td>2018-01-11</td>\n",
              "      <td>b76ef37428e6799c421989521c0e5077</td>\n",
              "      <td>0.0</td>\n",
              "      <td>direct_traffic</td>\n",
              "      <td>NaN</td>\n",
              "      <td>NaN</td>\n",
              "      <td>NaN</td>\n",
              "      <td>NaN</td>\n",
              "    </tr>\n",
              "  </tbody>\n",
              "</table>\n",
              "<p>842 rows × 15 columns</p>\n",
              "</div>"
            ],
            "text/plain": [
              "                               mql_id                         seller_id  \\\n",
              "0    5420aad7fec3549a85876ba1c529bd84  2c43fb513632d29b3b58df74816f1b06   \n",
              "1    a555fb36b9368110ede0f043dfc3b9a0  bbb7d7893a450660432ea6652310ebb7   \n",
              "2    327174d3648a2d047e8940d7d15204ca  612170e34b97004b3ba37eae81836b4c   \n",
              "3    f5fee8f7da74f4887f5bcae2bafb6dd6  21e1781e36faf92725dde4730a88ca0f   \n",
              "4    ffe640179b554e295c167a2f6be528e0  ed8cb7b190ceb6067227478e48cf8dde   \n",
              "..                                ...                               ...   \n",
              "837  df9a2abe2ad3f2d8758b675ac8331ecf  bfcc27719640628da877db48b672b169   \n",
              "838  8723201570415eb23b4f095d8c20a27c  4a82eab98441aeb64566e2776c1fb2b6   \n",
              "839  2e57665b8faf05c967a801eb5aedfa0a  55031883943971ca22db6894574cfe2c   \n",
              "840  40955be51cc85c5a5a6cdd12b19e9f10  c0e933c238e41f0cd459d6025ee9b364   \n",
              "841  8a6492305a5fbcdcdd1a7f5a90764c07  1bba9c94eb5c4e82fba9f7286fe81025   \n",
              "\n",
              "        seller_city seller_state                 business_segment  \\\n",
              "0    belo horizonte           MG                              pet   \n",
              "1               NaN          NaN                  car_accessories   \n",
              "2     novo hamburgo           RS                  home_appliances   \n",
              "3               NaN          NaN                       food_drink   \n",
              "4            santos           SP                  home_appliances   \n",
              "..              ...          ...                              ...   \n",
              "837             NaN          NaN                       home_decor   \n",
              "838             NaN          NaN  construction_tools_house_garden   \n",
              "839             NaN          NaN                        computers   \n",
              "840             NaN          NaN                              pet   \n",
              "841             NaN          NaN              household_utilities   \n",
              "\n",
              "           lead_type business_type first_contact_date  \\\n",
              "0      online_medium      reseller         2018-02-21   \n",
              "1           industry      reseller         2018-04-04   \n",
              "2         online_big      reseller         2018-04-03   \n",
              "3       online_small      reseller         2018-01-14   \n",
              "4           industry  manufacturer         2017-10-09   \n",
              "..               ...           ...                ...   \n",
              "837          offline      reseller         2018-03-28   \n",
              "838       online_big      reseller         2018-05-18   \n",
              "839    online_medium      reseller         2018-05-25   \n",
              "840  online_beginner      reseller         2018-02-04   \n",
              "841         industry  manufacturer         2018-01-11   \n",
              "\n",
              "                      landing_page_id  declared_monthly_revenue  \\\n",
              "0    b48ec5f3b04e9068441002a19df93c6c                       0.0   \n",
              "1    2f08471dfb83baef522f952438a36f6e                       0.0   \n",
              "2    1ceb590cd1e00c7ee95220971f82693d                       0.0   \n",
              "3    22c29808c4f815213303f8933030604c                       0.0   \n",
              "4    a0fbc0263cb98bdb0d72b9f9f283a172                       0.0   \n",
              "..                                ...                       ...   \n",
              "837  a7982125ff7aa3b2054c6e44f9d28522                       0.0   \n",
              "838  b76ef37428e6799c421989521c0e5077                  200000.0   \n",
              "839  40dec9f3d5259a3d2dbcdab2114fae47                       0.0   \n",
              "840  88740e65d5d6b056e0cda098e1ea6313                       0.0   \n",
              "841  b76ef37428e6799c421989521c0e5077                       0.0   \n",
              "\n",
              "             origin  total_trx  total_ordered     price  freight_value  \n",
              "0    organic_search        3.0            3.0    858.00          72.17  \n",
              "1          referral        NaN            NaN       NaN            NaN  \n",
              "2    organic_search      107.0           48.0  23065.02        2307.06  \n",
              "3       paid_search        NaN            NaN       NaN            NaN  \n",
              "4           unknown       15.0           10.0    573.50         242.71  \n",
              "..              ...        ...            ...       ...            ...  \n",
              "837  organic_search        NaN            NaN       NaN            NaN  \n",
              "838  organic_search        NaN            NaN       NaN            NaN  \n",
              "839     paid_search        NaN            NaN       NaN            NaN  \n",
              "840          social        NaN            NaN       NaN            NaN  \n",
              "841  direct_traffic        NaN            NaN       NaN            NaN  \n",
              "\n",
              "[842 rows x 15 columns]"
            ]
          },
          "execution_count": 131,
          "metadata": {},
          "output_type": "execute_result"
        }
      ],
      "source": [
        "cols= [\n",
        "    'mql_id',\n",
        "    'seller_id',\n",
        "    'seller_city',\n",
        "    'seller_state',\n",
        "    'business_segment',\n",
        "    'lead_type',\n",
        "    'business_type',\n",
        "    'first_contact_date',\n",
        "    'landing_page_id',\n",
        "    'declared_monthly_revenue',\n",
        "    'origin',\n",
        "    'total_trx',\n",
        "    'total_ordered',\n",
        "    'price',\n",
        "    'freight_value'\n",
        "]\n",
        "\n",
        "data = pd.merge(\n",
        "    left= data_marketing,\n",
        "    right= data_seller,\n",
        "    on= 'seller_id',\n",
        "    how= 'left'\n",
        ")[cols]\n",
        "\n",
        "data"
      ]
    },
    {
      "cell_type": "markdown",
      "id": "3a89711a",
      "metadata": {
        "id": "3a89711a"
      },
      "source": [
        "# Data Description"
      ]
    },
    {
      "cell_type": "code",
      "execution_count": null,
      "id": "d68d20d9",
      "metadata": {
        "id": "d68d20d9",
        "outputId": "cb0e3038-cc60-47e8-ac0e-bd1fa1d155d9"
      },
      "outputs": [
        {
          "name": "stdout",
          "output_type": "stream",
          "text": [
            "========== Data Understanding & Profilling ==========\n",
            "\n",
            "\n",
            "There is 842 observation and 15 columns on dataset\n",
            "\n",
            "\n",
            "<class 'pandas.core.frame.DataFrame'>\n",
            "Int64Index: 842 entries, 0 to 841\n",
            "Data columns (total 15 columns):\n",
            " #   Column                    Non-Null Count  Dtype  \n",
            "---  ------                    --------------  -----  \n",
            " 0   mql_id                    842 non-null    object \n",
            " 1   seller_id                 842 non-null    object \n",
            " 2   seller_city               380 non-null    object \n",
            " 3   seller_state              380 non-null    object \n",
            " 4   business_segment          841 non-null    object \n",
            " 5   lead_type                 836 non-null    object \n",
            " 6   business_type             832 non-null    object \n",
            " 7   first_contact_date        842 non-null    object \n",
            " 8   landing_page_id           842 non-null    object \n",
            " 9   declared_monthly_revenue  842 non-null    float64\n",
            " 10  origin                    828 non-null    object \n",
            " 11  total_trx                 380 non-null    float64\n",
            " 12  total_ordered             380 non-null    float64\n",
            " 13  price                     380 non-null    float64\n",
            " 14  freight_value             380 non-null    float64\n",
            "dtypes: float64(5), object(10)\n",
            "memory usage: 105.2+ KB\n",
            "Data Info: None\n",
            "\n",
            "\n",
            "Numerical Columns:  Index(['declared_monthly_revenue', 'total_trx', 'total_ordered', 'price',\n",
            "       'freight_value'],\n",
            "      dtype='object')\n",
            "\n",
            "\n",
            "Categorical Columns: Index(['mql_id', 'seller_id', 'seller_city', 'seller_state',\n",
            "       'business_segment', 'lead_type', 'business_type', 'first_contact_date',\n",
            "       'landing_page_id', 'origin'],\n",
            "      dtype='object')\n",
            "\n",
            "\n",
            "Statistical Description of Data:        declared_monthly_revenue   total_trx  total_ordered          price  \\\n",
            "count              8.420000e+02  380.000000     380.000000     380.000000   \n",
            "mean               7.337768e+04   11.889474       5.613158    1781.188105   \n",
            "std                1.744799e+06   34.566572       7.919472    6800.937058   \n",
            "min                0.000000e+00    1.000000       1.000000      18.900000   \n",
            "25%                0.000000e+00    2.000000       1.000000     179.650000   \n",
            "50%                0.000000e+00    4.000000       3.000000     547.405000   \n",
            "75%                0.000000e+00   11.000000       6.250000    1286.000000   \n",
            "max                5.000000e+07  565.000000      66.000000  113628.970000   \n",
            "\n",
            "       freight_value  \n",
            "count     380.000000  \n",
            "mean      260.431974  \n",
            "std       579.320147  \n",
            "min         7.420000  \n",
            "25%        39.085000  \n",
            "50%       104.580000  \n",
            "75%       249.640000  \n",
            "max      8632.050000  \n",
            "\n",
            " \n",
            "\n"
          ]
        }
      ],
      "source": [
        "# data understanding and profilling\n",
        "print(\"=\"*10,\"Data Understanding & Profilling\",\"=\"*10)\n",
        "print(\"\\n\")\n",
        "\n",
        "# data shape\n",
        "print(\"There is\", data.shape[0], \"observation and\", data.shape[1], \"columns on dataset\")\n",
        "print(\"\\n\")\n",
        "\n",
        "# Data Information \n",
        "print(\"Data Info:\", data.info())\n",
        "print(\"\\n\")\n",
        "\n",
        "# Numerical and Categorical Column\n",
        "num= data.select_dtypes('number').columns\n",
        "cat = data.select_dtypes('object').columns\n",
        "\n",
        "print(f'Numerical Columns:  {data[num].columns}')\n",
        "print('\\n')\n",
        "print(f'Categorical Columns: {data[cat].columns}')\n",
        "print('\\n')\n",
        "\n",
        "# Statistical Summary of The Data\n",
        "print(\"Statistical Description of Data:\", data.describe())\n",
        "print('\\n','\\n')"
      ]
    },
    {
      "cell_type": "markdown",
      "id": "41085481",
      "metadata": {
        "id": "41085481"
      },
      "source": [
        "# Feature Engineering"
      ]
    },
    {
      "cell_type": "markdown",
      "id": "af4460b1",
      "metadata": {
        "id": "af4460b1"
      },
      "source": [
        "## Data Inspection & Exploration"
      ]
    },
    {
      "cell_type": "code",
      "execution_count": null,
      "id": "1aed4eb7",
      "metadata": {
        "id": "1aed4eb7"
      },
      "outputs": [],
      "source": [
        "# change Date column to Date-type\n",
        "data['first_contact_date'] = pd.to_datetime(data['first_contact_date'])"
      ]
    },
    {
      "cell_type": "code",
      "execution_count": null,
      "id": "f94ad931",
      "metadata": {
        "id": "f94ad931",
        "outputId": "ec09890a-746c-4e5e-d02c-d141ad901470"
      },
      "outputs": [
        {
          "data": {
            "text/html": [
              "<div>\n",
              "<style scoped>\n",
              "    .dataframe tbody tr th:only-of-type {\n",
              "        vertical-align: middle;\n",
              "    }\n",
              "\n",
              "    .dataframe tbody tr th {\n",
              "        vertical-align: top;\n",
              "    }\n",
              "\n",
              "    .dataframe thead th {\n",
              "        text-align: right;\n",
              "    }\n",
              "</style>\n",
              "<table border=\"1\" class=\"dataframe\">\n",
              "  <thead>\n",
              "    <tr style=\"text-align: right;\">\n",
              "      <th></th>\n",
              "      <th>mql_id</th>\n",
              "      <th>seller_id</th>\n",
              "      <th>seller_city</th>\n",
              "      <th>seller_state</th>\n",
              "      <th>business_segment</th>\n",
              "      <th>lead_type</th>\n",
              "      <th>business_type</th>\n",
              "      <th>first_contact_date</th>\n",
              "      <th>landing_page_id</th>\n",
              "      <th>declared_monthly_revenue</th>\n",
              "      <th>origin</th>\n",
              "      <th>total_trx</th>\n",
              "      <th>total_ordered</th>\n",
              "      <th>price</th>\n",
              "      <th>freight_value</th>\n",
              "    </tr>\n",
              "  </thead>\n",
              "  <tbody>\n",
              "    <tr>\n",
              "      <th>0</th>\n",
              "      <td>5420aad7fec3549a85876ba1c529bd84</td>\n",
              "      <td>2c43fb513632d29b3b58df74816f1b06</td>\n",
              "      <td>belo horizonte</td>\n",
              "      <td>MG</td>\n",
              "      <td>pet</td>\n",
              "      <td>online_medium</td>\n",
              "      <td>reseller</td>\n",
              "      <td>2018-02-21</td>\n",
              "      <td>b48ec5f3b04e9068441002a19df93c6c</td>\n",
              "      <td>0.0</td>\n",
              "      <td>organic_search</td>\n",
              "      <td>3.0</td>\n",
              "      <td>3.0</td>\n",
              "      <td>858.00</td>\n",
              "      <td>72.17</td>\n",
              "    </tr>\n",
              "    <tr>\n",
              "      <th>1</th>\n",
              "      <td>a555fb36b9368110ede0f043dfc3b9a0</td>\n",
              "      <td>bbb7d7893a450660432ea6652310ebb7</td>\n",
              "      <td>NaN</td>\n",
              "      <td>NaN</td>\n",
              "      <td>car_accessories</td>\n",
              "      <td>industry</td>\n",
              "      <td>reseller</td>\n",
              "      <td>2018-04-04</td>\n",
              "      <td>2f08471dfb83baef522f952438a36f6e</td>\n",
              "      <td>0.0</td>\n",
              "      <td>referral</td>\n",
              "      <td>NaN</td>\n",
              "      <td>NaN</td>\n",
              "      <td>NaN</td>\n",
              "      <td>NaN</td>\n",
              "    </tr>\n",
              "    <tr>\n",
              "      <th>2</th>\n",
              "      <td>327174d3648a2d047e8940d7d15204ca</td>\n",
              "      <td>612170e34b97004b3ba37eae81836b4c</td>\n",
              "      <td>novo hamburgo</td>\n",
              "      <td>RS</td>\n",
              "      <td>home_appliances</td>\n",
              "      <td>online_big</td>\n",
              "      <td>reseller</td>\n",
              "      <td>2018-04-03</td>\n",
              "      <td>1ceb590cd1e00c7ee95220971f82693d</td>\n",
              "      <td>0.0</td>\n",
              "      <td>organic_search</td>\n",
              "      <td>107.0</td>\n",
              "      <td>48.0</td>\n",
              "      <td>23065.02</td>\n",
              "      <td>2307.06</td>\n",
              "    </tr>\n",
              "    <tr>\n",
              "      <th>3</th>\n",
              "      <td>f5fee8f7da74f4887f5bcae2bafb6dd6</td>\n",
              "      <td>21e1781e36faf92725dde4730a88ca0f</td>\n",
              "      <td>NaN</td>\n",
              "      <td>NaN</td>\n",
              "      <td>food_drink</td>\n",
              "      <td>online_small</td>\n",
              "      <td>reseller</td>\n",
              "      <td>2018-01-14</td>\n",
              "      <td>22c29808c4f815213303f8933030604c</td>\n",
              "      <td>0.0</td>\n",
              "      <td>paid_search</td>\n",
              "      <td>NaN</td>\n",
              "      <td>NaN</td>\n",
              "      <td>NaN</td>\n",
              "      <td>NaN</td>\n",
              "    </tr>\n",
              "    <tr>\n",
              "      <th>4</th>\n",
              "      <td>ffe640179b554e295c167a2f6be528e0</td>\n",
              "      <td>ed8cb7b190ceb6067227478e48cf8dde</td>\n",
              "      <td>santos</td>\n",
              "      <td>SP</td>\n",
              "      <td>home_appliances</td>\n",
              "      <td>industry</td>\n",
              "      <td>manufacturer</td>\n",
              "      <td>2017-10-09</td>\n",
              "      <td>a0fbc0263cb98bdb0d72b9f9f283a172</td>\n",
              "      <td>0.0</td>\n",
              "      <td>unknown</td>\n",
              "      <td>15.0</td>\n",
              "      <td>10.0</td>\n",
              "      <td>573.50</td>\n",
              "      <td>242.71</td>\n",
              "    </tr>\n",
              "    <tr>\n",
              "      <th>...</th>\n",
              "      <td>...</td>\n",
              "      <td>...</td>\n",
              "      <td>...</td>\n",
              "      <td>...</td>\n",
              "      <td>...</td>\n",
              "      <td>...</td>\n",
              "      <td>...</td>\n",
              "      <td>...</td>\n",
              "      <td>...</td>\n",
              "      <td>...</td>\n",
              "      <td>...</td>\n",
              "      <td>...</td>\n",
              "      <td>...</td>\n",
              "      <td>...</td>\n",
              "      <td>...</td>\n",
              "    </tr>\n",
              "    <tr>\n",
              "      <th>837</th>\n",
              "      <td>df9a2abe2ad3f2d8758b675ac8331ecf</td>\n",
              "      <td>bfcc27719640628da877db48b672b169</td>\n",
              "      <td>NaN</td>\n",
              "      <td>NaN</td>\n",
              "      <td>home_decor</td>\n",
              "      <td>offline</td>\n",
              "      <td>reseller</td>\n",
              "      <td>2018-03-28</td>\n",
              "      <td>a7982125ff7aa3b2054c6e44f9d28522</td>\n",
              "      <td>0.0</td>\n",
              "      <td>organic_search</td>\n",
              "      <td>NaN</td>\n",
              "      <td>NaN</td>\n",
              "      <td>NaN</td>\n",
              "      <td>NaN</td>\n",
              "    </tr>\n",
              "    <tr>\n",
              "      <th>838</th>\n",
              "      <td>8723201570415eb23b4f095d8c20a27c</td>\n",
              "      <td>4a82eab98441aeb64566e2776c1fb2b6</td>\n",
              "      <td>NaN</td>\n",
              "      <td>NaN</td>\n",
              "      <td>construction_tools_house_garden</td>\n",
              "      <td>online_big</td>\n",
              "      <td>reseller</td>\n",
              "      <td>2018-05-18</td>\n",
              "      <td>b76ef37428e6799c421989521c0e5077</td>\n",
              "      <td>200000.0</td>\n",
              "      <td>organic_search</td>\n",
              "      <td>NaN</td>\n",
              "      <td>NaN</td>\n",
              "      <td>NaN</td>\n",
              "      <td>NaN</td>\n",
              "    </tr>\n",
              "    <tr>\n",
              "      <th>839</th>\n",
              "      <td>2e57665b8faf05c967a801eb5aedfa0a</td>\n",
              "      <td>55031883943971ca22db6894574cfe2c</td>\n",
              "      <td>NaN</td>\n",
              "      <td>NaN</td>\n",
              "      <td>computers</td>\n",
              "      <td>online_medium</td>\n",
              "      <td>reseller</td>\n",
              "      <td>2018-05-25</td>\n",
              "      <td>40dec9f3d5259a3d2dbcdab2114fae47</td>\n",
              "      <td>0.0</td>\n",
              "      <td>paid_search</td>\n",
              "      <td>NaN</td>\n",
              "      <td>NaN</td>\n",
              "      <td>NaN</td>\n",
              "      <td>NaN</td>\n",
              "    </tr>\n",
              "    <tr>\n",
              "      <th>840</th>\n",
              "      <td>40955be51cc85c5a5a6cdd12b19e9f10</td>\n",
              "      <td>c0e933c238e41f0cd459d6025ee9b364</td>\n",
              "      <td>NaN</td>\n",
              "      <td>NaN</td>\n",
              "      <td>pet</td>\n",
              "      <td>online_beginner</td>\n",
              "      <td>reseller</td>\n",
              "      <td>2018-02-04</td>\n",
              "      <td>88740e65d5d6b056e0cda098e1ea6313</td>\n",
              "      <td>0.0</td>\n",
              "      <td>social</td>\n",
              "      <td>NaN</td>\n",
              "      <td>NaN</td>\n",
              "      <td>NaN</td>\n",
              "      <td>NaN</td>\n",
              "    </tr>\n",
              "    <tr>\n",
              "      <th>841</th>\n",
              "      <td>8a6492305a5fbcdcdd1a7f5a90764c07</td>\n",
              "      <td>1bba9c94eb5c4e82fba9f7286fe81025</td>\n",
              "      <td>NaN</td>\n",
              "      <td>NaN</td>\n",
              "      <td>household_utilities</td>\n",
              "      <td>industry</td>\n",
              "      <td>manufacturer</td>\n",
              "      <td>2018-01-11</td>\n",
              "      <td>b76ef37428e6799c421989521c0e5077</td>\n",
              "      <td>0.0</td>\n",
              "      <td>direct_traffic</td>\n",
              "      <td>NaN</td>\n",
              "      <td>NaN</td>\n",
              "      <td>NaN</td>\n",
              "      <td>NaN</td>\n",
              "    </tr>\n",
              "  </tbody>\n",
              "</table>\n",
              "<p>842 rows × 15 columns</p>\n",
              "</div>"
            ],
            "text/plain": [
              "                               mql_id                         seller_id  \\\n",
              "0    5420aad7fec3549a85876ba1c529bd84  2c43fb513632d29b3b58df74816f1b06   \n",
              "1    a555fb36b9368110ede0f043dfc3b9a0  bbb7d7893a450660432ea6652310ebb7   \n",
              "2    327174d3648a2d047e8940d7d15204ca  612170e34b97004b3ba37eae81836b4c   \n",
              "3    f5fee8f7da74f4887f5bcae2bafb6dd6  21e1781e36faf92725dde4730a88ca0f   \n",
              "4    ffe640179b554e295c167a2f6be528e0  ed8cb7b190ceb6067227478e48cf8dde   \n",
              "..                                ...                               ...   \n",
              "837  df9a2abe2ad3f2d8758b675ac8331ecf  bfcc27719640628da877db48b672b169   \n",
              "838  8723201570415eb23b4f095d8c20a27c  4a82eab98441aeb64566e2776c1fb2b6   \n",
              "839  2e57665b8faf05c967a801eb5aedfa0a  55031883943971ca22db6894574cfe2c   \n",
              "840  40955be51cc85c5a5a6cdd12b19e9f10  c0e933c238e41f0cd459d6025ee9b364   \n",
              "841  8a6492305a5fbcdcdd1a7f5a90764c07  1bba9c94eb5c4e82fba9f7286fe81025   \n",
              "\n",
              "        seller_city seller_state                 business_segment  \\\n",
              "0    belo horizonte           MG                              pet   \n",
              "1               NaN          NaN                  car_accessories   \n",
              "2     novo hamburgo           RS                  home_appliances   \n",
              "3               NaN          NaN                       food_drink   \n",
              "4            santos           SP                  home_appliances   \n",
              "..              ...          ...                              ...   \n",
              "837             NaN          NaN                       home_decor   \n",
              "838             NaN          NaN  construction_tools_house_garden   \n",
              "839             NaN          NaN                        computers   \n",
              "840             NaN          NaN                              pet   \n",
              "841             NaN          NaN              household_utilities   \n",
              "\n",
              "           lead_type business_type first_contact_date  \\\n",
              "0      online_medium      reseller         2018-02-21   \n",
              "1           industry      reseller         2018-04-04   \n",
              "2         online_big      reseller         2018-04-03   \n",
              "3       online_small      reseller         2018-01-14   \n",
              "4           industry  manufacturer         2017-10-09   \n",
              "..               ...           ...                ...   \n",
              "837          offline      reseller         2018-03-28   \n",
              "838       online_big      reseller         2018-05-18   \n",
              "839    online_medium      reseller         2018-05-25   \n",
              "840  online_beginner      reseller         2018-02-04   \n",
              "841         industry  manufacturer         2018-01-11   \n",
              "\n",
              "                      landing_page_id  declared_monthly_revenue  \\\n",
              "0    b48ec5f3b04e9068441002a19df93c6c                       0.0   \n",
              "1    2f08471dfb83baef522f952438a36f6e                       0.0   \n",
              "2    1ceb590cd1e00c7ee95220971f82693d                       0.0   \n",
              "3    22c29808c4f815213303f8933030604c                       0.0   \n",
              "4    a0fbc0263cb98bdb0d72b9f9f283a172                       0.0   \n",
              "..                                ...                       ...   \n",
              "837  a7982125ff7aa3b2054c6e44f9d28522                       0.0   \n",
              "838  b76ef37428e6799c421989521c0e5077                  200000.0   \n",
              "839  40dec9f3d5259a3d2dbcdab2114fae47                       0.0   \n",
              "840  88740e65d5d6b056e0cda098e1ea6313                       0.0   \n",
              "841  b76ef37428e6799c421989521c0e5077                       0.0   \n",
              "\n",
              "             origin  total_trx  total_ordered     price  freight_value  \n",
              "0    organic_search        3.0            3.0    858.00          72.17  \n",
              "1          referral        NaN            NaN       NaN            NaN  \n",
              "2    organic_search      107.0           48.0  23065.02        2307.06  \n",
              "3       paid_search        NaN            NaN       NaN            NaN  \n",
              "4           unknown       15.0           10.0    573.50         242.71  \n",
              "..              ...        ...            ...       ...            ...  \n",
              "837  organic_search        NaN            NaN       NaN            NaN  \n",
              "838  organic_search        NaN            NaN       NaN            NaN  \n",
              "839     paid_search        NaN            NaN       NaN            NaN  \n",
              "840          social        NaN            NaN       NaN            NaN  \n",
              "841  direct_traffic        NaN            NaN       NaN            NaN  \n",
              "\n",
              "[842 rows x 15 columns]"
            ]
          },
          "execution_count": 134,
          "metadata": {},
          "output_type": "execute_result"
        }
      ],
      "source": [
        "data"
      ]
    },
    {
      "cell_type": "code",
      "execution_count": null,
      "id": "940d7c74",
      "metadata": {
        "id": "940d7c74"
      },
      "outputs": [],
      "source": [
        "# calculate number of transfaction based on seller_id, landing_page_id, date, and origin\n",
        "aggregated_data = data.groupby(['seller_id', 'first_contact_date', 'landing_page_id', 'origin'],as_index=False).agg(\n",
        "    {\n",
        "        'declared_monthly_revenue': 'sum',\n",
        "        'total_trx': 'sum',\n",
        "        'total_ordered': 'sum',\n",
        "        'price': 'sum',\n",
        "        'freight_value': 'sum'\n",
        "    }\n",
        ").sort_values(by=['declared_monthly_revenue'], ascending = False)"
      ]
    },
    {
      "cell_type": "code",
      "execution_count": null,
      "id": "1aed749b",
      "metadata": {
        "id": "1aed749b",
        "outputId": "80a31c89-c789-4c0e-93f8-dda144adc1fb"
      },
      "outputs": [
        {
          "data": {
            "text/html": [
              "<div>\n",
              "<style scoped>\n",
              "    .dataframe tbody tr th:only-of-type {\n",
              "        vertical-align: middle;\n",
              "    }\n",
              "\n",
              "    .dataframe tbody tr th {\n",
              "        vertical-align: top;\n",
              "    }\n",
              "\n",
              "    .dataframe thead th {\n",
              "        text-align: right;\n",
              "    }\n",
              "</style>\n",
              "<table border=\"1\" class=\"dataframe\">\n",
              "  <thead>\n",
              "    <tr style=\"text-align: right;\">\n",
              "      <th></th>\n",
              "      <th>seller_id</th>\n",
              "      <th>first_contact_date</th>\n",
              "      <th>landing_page_id</th>\n",
              "      <th>origin</th>\n",
              "      <th>declared_monthly_revenue</th>\n",
              "      <th>total_trx</th>\n",
              "      <th>total_ordered</th>\n",
              "      <th>price</th>\n",
              "      <th>freight_value</th>\n",
              "    </tr>\n",
              "  </thead>\n",
              "  <tbody>\n",
              "    <tr>\n",
              "      <th>347</th>\n",
              "      <td>6fcc97197c64771f3c18aea3aa9d3913</td>\n",
              "      <td>2018-05-22</td>\n",
              "      <td>22c29808c4f815213303f8933030604c</td>\n",
              "      <td>organic_search</td>\n",
              "      <td>50000000.0</td>\n",
              "      <td>0.0</td>\n",
              "      <td>0.0</td>\n",
              "      <td>0.0</td>\n",
              "      <td>0.0</td>\n",
              "    </tr>\n",
              "    <tr>\n",
              "      <th>494</th>\n",
              "      <td>9966324e28b7fa38165d2d3d12d53b7f</td>\n",
              "      <td>2018-03-24</td>\n",
              "      <td>fbc24da54d531c6204ae2d17b1090bb1</td>\n",
              "      <td>paid_search</td>\n",
              "      <td>8000000.0</td>\n",
              "      <td>0.0</td>\n",
              "      <td>0.0</td>\n",
              "      <td>0.0</td>\n",
              "      <td>0.0</td>\n",
              "    </tr>\n",
              "    <tr>\n",
              "      <th>639</th>\n",
              "      <td>c33e6d3ad32fd5bec1b0f2522f668213</td>\n",
              "      <td>2018-04-28</td>\n",
              "      <td>22c29808c4f815213303f8933030604c</td>\n",
              "      <td>organic_search</td>\n",
              "      <td>500000.0</td>\n",
              "      <td>0.0</td>\n",
              "      <td>0.0</td>\n",
              "      <td>0.0</td>\n",
              "      <td>0.0</td>\n",
              "    </tr>\n",
              "    <tr>\n",
              "      <th>64</th>\n",
              "      <td>157497483bb7876340ea4441c9bd1774</td>\n",
              "      <td>2017-09-18</td>\n",
              "      <td>22c29808c4f815213303f8933030604c</td>\n",
              "      <td>organic_search</td>\n",
              "      <td>300000.0</td>\n",
              "      <td>0.0</td>\n",
              "      <td>0.0</td>\n",
              "      <td>0.0</td>\n",
              "      <td>0.0</td>\n",
              "    </tr>\n",
              "    <tr>\n",
              "      <th>391</th>\n",
              "      <td>7c7d0dee362960b1d9b01fe7284e19ba</td>\n",
              "      <td>2017-08-17</td>\n",
              "      <td>1722481ac9e5371e5099dea226b5421d</td>\n",
              "      <td>social</td>\n",
              "      <td>300000.0</td>\n",
              "      <td>0.0</td>\n",
              "      <td>0.0</td>\n",
              "      <td>0.0</td>\n",
              "      <td>0.0</td>\n",
              "    </tr>\n",
              "    <tr>\n",
              "      <th>37</th>\n",
              "      <td>0d7d5bca59d45d750fb7913b974e9d08</td>\n",
              "      <td>2018-01-11</td>\n",
              "      <td>b76ef37428e6799c421989521c0e5077</td>\n",
              "      <td>unknown</td>\n",
              "      <td>250000.0</td>\n",
              "      <td>0.0</td>\n",
              "      <td>0.0</td>\n",
              "      <td>0.0</td>\n",
              "      <td>0.0</td>\n",
              "    </tr>\n",
              "    <tr>\n",
              "      <th>450</th>\n",
              "      <td>8c6d188ef073e289887bc52bc37f3e61</td>\n",
              "      <td>2018-03-06</td>\n",
              "      <td>b6885f18d203a61176418c1fb3764815</td>\n",
              "      <td>paid_search</td>\n",
              "      <td>250000.0</td>\n",
              "      <td>0.0</td>\n",
              "      <td>0.0</td>\n",
              "      <td>0.0</td>\n",
              "      <td>0.0</td>\n",
              "    </tr>\n",
              "    <tr>\n",
              "      <th>166</th>\n",
              "      <td>366b6b05f39997f102dc5179de14d43c</td>\n",
              "      <td>2018-02-02</td>\n",
              "      <td>22c29808c4f815213303f8933030604c</td>\n",
              "      <td>paid_search</td>\n",
              "      <td>210000.0</td>\n",
              "      <td>0.0</td>\n",
              "      <td>0.0</td>\n",
              "      <td>0.0</td>\n",
              "      <td>0.0</td>\n",
              "    </tr>\n",
              "    <tr>\n",
              "      <th>223</th>\n",
              "      <td>4a82eab98441aeb64566e2776c1fb2b6</td>\n",
              "      <td>2018-05-18</td>\n",
              "      <td>b76ef37428e6799c421989521c0e5077</td>\n",
              "      <td>organic_search</td>\n",
              "      <td>200000.0</td>\n",
              "      <td>0.0</td>\n",
              "      <td>0.0</td>\n",
              "      <td>0.0</td>\n",
              "      <td>0.0</td>\n",
              "    </tr>\n",
              "    <tr>\n",
              "      <th>246</th>\n",
              "      <td>5181ea7b0d346ed14c5c07f0ff22b2b4</td>\n",
              "      <td>2018-02-18</td>\n",
              "      <td>40dec9f3d5259a3d2dbcdab2114fae47</td>\n",
              "      <td>paid_search</td>\n",
              "      <td>180000.0</td>\n",
              "      <td>0.0</td>\n",
              "      <td>0.0</td>\n",
              "      <td>0.0</td>\n",
              "      <td>0.0</td>\n",
              "    </tr>\n",
              "  </tbody>\n",
              "</table>\n",
              "</div>"
            ],
            "text/plain": [
              "                            seller_id first_contact_date  \\\n",
              "347  6fcc97197c64771f3c18aea3aa9d3913         2018-05-22   \n",
              "494  9966324e28b7fa38165d2d3d12d53b7f         2018-03-24   \n",
              "639  c33e6d3ad32fd5bec1b0f2522f668213         2018-04-28   \n",
              "64   157497483bb7876340ea4441c9bd1774         2017-09-18   \n",
              "391  7c7d0dee362960b1d9b01fe7284e19ba         2017-08-17   \n",
              "37   0d7d5bca59d45d750fb7913b974e9d08         2018-01-11   \n",
              "450  8c6d188ef073e289887bc52bc37f3e61         2018-03-06   \n",
              "166  366b6b05f39997f102dc5179de14d43c         2018-02-02   \n",
              "223  4a82eab98441aeb64566e2776c1fb2b6         2018-05-18   \n",
              "246  5181ea7b0d346ed14c5c07f0ff22b2b4         2018-02-18   \n",
              "\n",
              "                      landing_page_id          origin  \\\n",
              "347  22c29808c4f815213303f8933030604c  organic_search   \n",
              "494  fbc24da54d531c6204ae2d17b1090bb1     paid_search   \n",
              "639  22c29808c4f815213303f8933030604c  organic_search   \n",
              "64   22c29808c4f815213303f8933030604c  organic_search   \n",
              "391  1722481ac9e5371e5099dea226b5421d          social   \n",
              "37   b76ef37428e6799c421989521c0e5077         unknown   \n",
              "450  b6885f18d203a61176418c1fb3764815     paid_search   \n",
              "166  22c29808c4f815213303f8933030604c     paid_search   \n",
              "223  b76ef37428e6799c421989521c0e5077  organic_search   \n",
              "246  40dec9f3d5259a3d2dbcdab2114fae47     paid_search   \n",
              "\n",
              "     declared_monthly_revenue  total_trx  total_ordered  price  freight_value  \n",
              "347                50000000.0        0.0            0.0    0.0            0.0  \n",
              "494                 8000000.0        0.0            0.0    0.0            0.0  \n",
              "639                  500000.0        0.0            0.0    0.0            0.0  \n",
              "64                   300000.0        0.0            0.0    0.0            0.0  \n",
              "391                  300000.0        0.0            0.0    0.0            0.0  \n",
              "37                   250000.0        0.0            0.0    0.0            0.0  \n",
              "450                  250000.0        0.0            0.0    0.0            0.0  \n",
              "166                  210000.0        0.0            0.0    0.0            0.0  \n",
              "223                  200000.0        0.0            0.0    0.0            0.0  \n",
              "246                  180000.0        0.0            0.0    0.0            0.0  "
            ]
          },
          "execution_count": 136,
          "metadata": {},
          "output_type": "execute_result"
        }
      ],
      "source": [
        "# check dataset\n",
        "aggregated_data.head(10)"
      ]
    },
    {
      "cell_type": "code",
      "execution_count": null,
      "id": "4a293601",
      "metadata": {
        "id": "4a293601",
        "outputId": "ac665e2d-97aa-4172-9198-00961f0f707b"
      },
      "outputs": [
        {
          "data": {
            "text/plain": [
              "seller_id                   828\n",
              "first_contact_date          194\n",
              "landing_page_id             126\n",
              "origin                       10\n",
              "declared_monthly_revenue     26\n",
              "total_trx                    52\n",
              "total_ordered                31\n",
              "price                       360\n",
              "freight_value               372\n",
              "dtype: int64"
            ]
          },
          "execution_count": 137,
          "metadata": {},
          "output_type": "execute_result"
        }
      ],
      "source": [
        "# check landing_page_id nunique\n",
        "aggregated_data.nunique()"
      ]
    },
    {
      "cell_type": "code",
      "execution_count": null,
      "id": "4f56cb1b",
      "metadata": {
        "id": "4f56cb1b",
        "outputId": "460641e3-e57b-411b-c213-df5831d36afb"
      },
      "outputs": [
        {
          "data": {
            "text/html": [
              "<div>\n",
              "<style scoped>\n",
              "    .dataframe tbody tr th:only-of-type {\n",
              "        vertical-align: middle;\n",
              "    }\n",
              "\n",
              "    .dataframe tbody tr th {\n",
              "        vertical-align: top;\n",
              "    }\n",
              "\n",
              "    .dataframe thead th {\n",
              "        text-align: right;\n",
              "    }\n",
              "</style>\n",
              "<table border=\"1\" class=\"dataframe\">\n",
              "  <thead>\n",
              "    <tr style=\"text-align: right;\">\n",
              "      <th></th>\n",
              "      <th>landing_page_id</th>\n",
              "      <th>origin</th>\n",
              "      <th>size</th>\n",
              "    </tr>\n",
              "  </thead>\n",
              "  <tbody>\n",
              "    <tr>\n",
              "      <th>149</th>\n",
              "      <td>b76ef37428e6799c421989521c0e5077</td>\n",
              "      <td>unknown</td>\n",
              "      <td>134</td>\n",
              "    </tr>\n",
              "    <tr>\n",
              "      <th>36</th>\n",
              "      <td>22c29808c4f815213303f8933030604c</td>\n",
              "      <td>organic_search</td>\n",
              "      <td>112</td>\n",
              "    </tr>\n",
              "    <tr>\n",
              "      <th>78</th>\n",
              "      <td>40dec9f3d5259a3d2dbcdab2114fae47</td>\n",
              "      <td>paid_search</td>\n",
              "      <td>50</td>\n",
              "    </tr>\n",
              "    <tr>\n",
              "      <th>164</th>\n",
              "      <td>ce1a65abd0973638f1c887a6efcfa82d</td>\n",
              "      <td>organic_search</td>\n",
              "      <td>34</td>\n",
              "    </tr>\n",
              "    <tr>\n",
              "      <th>121</th>\n",
              "      <td>88740e65d5d6b056e0cda098e1ea6313</td>\n",
              "      <td>social</td>\n",
              "      <td>30</td>\n",
              "    </tr>\n",
              "    <tr>\n",
              "      <th>...</th>\n",
              "      <td>...</td>\n",
              "      <td>...</td>\n",
              "      <td>...</td>\n",
              "    </tr>\n",
              "    <tr>\n",
              "      <th>83</th>\n",
              "      <td>4e24f6443807ad2eba56754b0dc91140</td>\n",
              "      <td>direct_traffic</td>\n",
              "      <td>1</td>\n",
              "    </tr>\n",
              "    <tr>\n",
              "      <th>84</th>\n",
              "      <td>4e82dd1f6d00626bda0723eef0a269a6</td>\n",
              "      <td>direct_traffic</td>\n",
              "      <td>1</td>\n",
              "    </tr>\n",
              "    <tr>\n",
              "      <th>85</th>\n",
              "      <td>50f87b85a731cec08d8380b08c573ed3</td>\n",
              "      <td>organic_search</td>\n",
              "      <td>1</td>\n",
              "    </tr>\n",
              "    <tr>\n",
              "      <th>86</th>\n",
              "      <td>54d5e01ab35155d4bd8cf723fc6f04a0</td>\n",
              "      <td>organic_search</td>\n",
              "      <td>1</td>\n",
              "    </tr>\n",
              "    <tr>\n",
              "      <th>207</th>\n",
              "      <td>ffc62d6945fd1423539ec6d96326c37c</td>\n",
              "      <td>display</td>\n",
              "      <td>1</td>\n",
              "    </tr>\n",
              "  </tbody>\n",
              "</table>\n",
              "<p>208 rows × 3 columns</p>\n",
              "</div>"
            ],
            "text/plain": [
              "                      landing_page_id          origin  size\n",
              "149  b76ef37428e6799c421989521c0e5077         unknown   134\n",
              "36   22c29808c4f815213303f8933030604c  organic_search   112\n",
              "78   40dec9f3d5259a3d2dbcdab2114fae47     paid_search    50\n",
              "164  ce1a65abd0973638f1c887a6efcfa82d  organic_search    34\n",
              "121  88740e65d5d6b056e0cda098e1ea6313          social    30\n",
              "..                                ...             ...   ...\n",
              "83   4e24f6443807ad2eba56754b0dc91140  direct_traffic     1\n",
              "84   4e82dd1f6d00626bda0723eef0a269a6  direct_traffic     1\n",
              "85   50f87b85a731cec08d8380b08c573ed3  organic_search     1\n",
              "86   54d5e01ab35155d4bd8cf723fc6f04a0  organic_search     1\n",
              "207  ffc62d6945fd1423539ec6d96326c37c         display     1\n",
              "\n",
              "[208 rows x 3 columns]"
            ]
          },
          "execution_count": 138,
          "metadata": {},
          "output_type": "execute_result"
        }
      ],
      "source": [
        "# aggregated data on origin and landing page\n",
        "aggregated_data.groupby(['landing_page_id', 'origin'], as_index=False).size().sort_values(by=['size'], ascending = False)"
      ]
    },
    {
      "cell_type": "markdown",
      "id": "b313559f",
      "metadata": {
        "id": "b313559f"
      },
      "source": [
        "## Missing and Duplicated Value"
      ]
    },
    {
      "cell_type": "code",
      "execution_count": null,
      "id": "d7f23813",
      "metadata": {
        "id": "d7f23813",
        "outputId": "21e3bc38-69ae-4d58-8a7b-d5b14b38b0e2"
      },
      "outputs": [
        {
          "data": {
            "text/plain": [
              "mql_id                        0\n",
              "seller_id                     0\n",
              "seller_city                 462\n",
              "seller_state                462\n",
              "business_segment              1\n",
              "lead_type                     6\n",
              "business_type                10\n",
              "first_contact_date            0\n",
              "landing_page_id               0\n",
              "declared_monthly_revenue      0\n",
              "origin                       14\n",
              "total_trx                   462\n",
              "total_ordered               462\n",
              "price                       462\n",
              "freight_value               462\n",
              "dtype: int64"
            ]
          },
          "execution_count": 139,
          "metadata": {},
          "output_type": "execute_result"
        }
      ],
      "source": [
        "data.isnull().sum()"
      ]
    },
    {
      "cell_type": "code",
      "execution_count": null,
      "id": "369889c3",
      "metadata": {
        "id": "369889c3"
      },
      "outputs": [],
      "source": [
        "clean_data = data.dropna()"
      ]
    },
    {
      "cell_type": "code",
      "execution_count": null,
      "id": "0702203c",
      "metadata": {
        "id": "0702203c",
        "outputId": "67ae9b39-a147-4dd9-fccb-7cfd720703df"
      },
      "outputs": [
        {
          "data": {
            "text/plain": [
              "(370, 15)"
            ]
          },
          "execution_count": 141,
          "metadata": {},
          "output_type": "execute_result"
        }
      ],
      "source": [
        "clean_data.shape"
      ]
    },
    {
      "cell_type": "markdown",
      "id": "14fea002",
      "metadata": {
        "id": "14fea002"
      },
      "source": [
        "# Attribution Analysis"
      ]
    },
    {
      "cell_type": "code",
      "execution_count": null,
      "id": "692d95f8",
      "metadata": {
        "id": "692d95f8",
        "outputId": "8c9e6963-4d1d-432e-e3e4-a5116a708fd6"
      },
      "outputs": [
        {
          "data": {
            "text/html": [
              "<div>\n",
              "<style scoped>\n",
              "    .dataframe tbody tr th:only-of-type {\n",
              "        vertical-align: middle;\n",
              "    }\n",
              "\n",
              "    .dataframe tbody tr th {\n",
              "        vertical-align: top;\n",
              "    }\n",
              "\n",
              "    .dataframe thead th {\n",
              "        text-align: right;\n",
              "    }\n",
              "</style>\n",
              "<table border=\"1\" class=\"dataframe\">\n",
              "  <thead>\n",
              "    <tr style=\"text-align: right;\">\n",
              "      <th></th>\n",
              "      <th>seller_id</th>\n",
              "      <th>first_contact_date</th>\n",
              "      <th>landing_page_id</th>\n",
              "      <th>origin</th>\n",
              "      <th>declared_monthly_revenue</th>\n",
              "      <th>total_trx</th>\n",
              "      <th>total_ordered</th>\n",
              "      <th>price</th>\n",
              "      <th>freight_value</th>\n",
              "    </tr>\n",
              "  </thead>\n",
              "  <tbody>\n",
              "    <tr>\n",
              "      <th>347</th>\n",
              "      <td>6fcc97197c64771f3c18aea3aa9d3913</td>\n",
              "      <td>2018-05-22</td>\n",
              "      <td>22c29808c4f815213303f8933030604c</td>\n",
              "      <td>organic_search</td>\n",
              "      <td>50000000.0</td>\n",
              "      <td>0.0</td>\n",
              "      <td>0.0</td>\n",
              "      <td>0.0</td>\n",
              "      <td>0.0</td>\n",
              "    </tr>\n",
              "    <tr>\n",
              "      <th>494</th>\n",
              "      <td>9966324e28b7fa38165d2d3d12d53b7f</td>\n",
              "      <td>2018-03-24</td>\n",
              "      <td>fbc24da54d531c6204ae2d17b1090bb1</td>\n",
              "      <td>paid_search</td>\n",
              "      <td>8000000.0</td>\n",
              "      <td>0.0</td>\n",
              "      <td>0.0</td>\n",
              "      <td>0.0</td>\n",
              "      <td>0.0</td>\n",
              "    </tr>\n",
              "    <tr>\n",
              "      <th>639</th>\n",
              "      <td>c33e6d3ad32fd5bec1b0f2522f668213</td>\n",
              "      <td>2018-04-28</td>\n",
              "      <td>22c29808c4f815213303f8933030604c</td>\n",
              "      <td>organic_search</td>\n",
              "      <td>500000.0</td>\n",
              "      <td>0.0</td>\n",
              "      <td>0.0</td>\n",
              "      <td>0.0</td>\n",
              "      <td>0.0</td>\n",
              "    </tr>\n",
              "    <tr>\n",
              "      <th>64</th>\n",
              "      <td>157497483bb7876340ea4441c9bd1774</td>\n",
              "      <td>2017-09-18</td>\n",
              "      <td>22c29808c4f815213303f8933030604c</td>\n",
              "      <td>organic_search</td>\n",
              "      <td>300000.0</td>\n",
              "      <td>0.0</td>\n",
              "      <td>0.0</td>\n",
              "      <td>0.0</td>\n",
              "      <td>0.0</td>\n",
              "    </tr>\n",
              "    <tr>\n",
              "      <th>391</th>\n",
              "      <td>7c7d0dee362960b1d9b01fe7284e19ba</td>\n",
              "      <td>2017-08-17</td>\n",
              "      <td>1722481ac9e5371e5099dea226b5421d</td>\n",
              "      <td>social</td>\n",
              "      <td>300000.0</td>\n",
              "      <td>0.0</td>\n",
              "      <td>0.0</td>\n",
              "      <td>0.0</td>\n",
              "      <td>0.0</td>\n",
              "    </tr>\n",
              "    <tr>\n",
              "      <th>37</th>\n",
              "      <td>0d7d5bca59d45d750fb7913b974e9d08</td>\n",
              "      <td>2018-01-11</td>\n",
              "      <td>b76ef37428e6799c421989521c0e5077</td>\n",
              "      <td>unknown</td>\n",
              "      <td>250000.0</td>\n",
              "      <td>0.0</td>\n",
              "      <td>0.0</td>\n",
              "      <td>0.0</td>\n",
              "      <td>0.0</td>\n",
              "    </tr>\n",
              "    <tr>\n",
              "      <th>450</th>\n",
              "      <td>8c6d188ef073e289887bc52bc37f3e61</td>\n",
              "      <td>2018-03-06</td>\n",
              "      <td>b6885f18d203a61176418c1fb3764815</td>\n",
              "      <td>paid_search</td>\n",
              "      <td>250000.0</td>\n",
              "      <td>0.0</td>\n",
              "      <td>0.0</td>\n",
              "      <td>0.0</td>\n",
              "      <td>0.0</td>\n",
              "    </tr>\n",
              "    <tr>\n",
              "      <th>166</th>\n",
              "      <td>366b6b05f39997f102dc5179de14d43c</td>\n",
              "      <td>2018-02-02</td>\n",
              "      <td>22c29808c4f815213303f8933030604c</td>\n",
              "      <td>paid_search</td>\n",
              "      <td>210000.0</td>\n",
              "      <td>0.0</td>\n",
              "      <td>0.0</td>\n",
              "      <td>0.0</td>\n",
              "      <td>0.0</td>\n",
              "    </tr>\n",
              "    <tr>\n",
              "      <th>223</th>\n",
              "      <td>4a82eab98441aeb64566e2776c1fb2b6</td>\n",
              "      <td>2018-05-18</td>\n",
              "      <td>b76ef37428e6799c421989521c0e5077</td>\n",
              "      <td>organic_search</td>\n",
              "      <td>200000.0</td>\n",
              "      <td>0.0</td>\n",
              "      <td>0.0</td>\n",
              "      <td>0.0</td>\n",
              "      <td>0.0</td>\n",
              "    </tr>\n",
              "    <tr>\n",
              "      <th>246</th>\n",
              "      <td>5181ea7b0d346ed14c5c07f0ff22b2b4</td>\n",
              "      <td>2018-02-18</td>\n",
              "      <td>40dec9f3d5259a3d2dbcdab2114fae47</td>\n",
              "      <td>paid_search</td>\n",
              "      <td>180000.0</td>\n",
              "      <td>0.0</td>\n",
              "      <td>0.0</td>\n",
              "      <td>0.0</td>\n",
              "      <td>0.0</td>\n",
              "    </tr>\n",
              "  </tbody>\n",
              "</table>\n",
              "</div>"
            ],
            "text/plain": [
              "                            seller_id first_contact_date  \\\n",
              "347  6fcc97197c64771f3c18aea3aa9d3913         2018-05-22   \n",
              "494  9966324e28b7fa38165d2d3d12d53b7f         2018-03-24   \n",
              "639  c33e6d3ad32fd5bec1b0f2522f668213         2018-04-28   \n",
              "64   157497483bb7876340ea4441c9bd1774         2017-09-18   \n",
              "391  7c7d0dee362960b1d9b01fe7284e19ba         2017-08-17   \n",
              "37   0d7d5bca59d45d750fb7913b974e9d08         2018-01-11   \n",
              "450  8c6d188ef073e289887bc52bc37f3e61         2018-03-06   \n",
              "166  366b6b05f39997f102dc5179de14d43c         2018-02-02   \n",
              "223  4a82eab98441aeb64566e2776c1fb2b6         2018-05-18   \n",
              "246  5181ea7b0d346ed14c5c07f0ff22b2b4         2018-02-18   \n",
              "\n",
              "                      landing_page_id          origin  \\\n",
              "347  22c29808c4f815213303f8933030604c  organic_search   \n",
              "494  fbc24da54d531c6204ae2d17b1090bb1     paid_search   \n",
              "639  22c29808c4f815213303f8933030604c  organic_search   \n",
              "64   22c29808c4f815213303f8933030604c  organic_search   \n",
              "391  1722481ac9e5371e5099dea226b5421d          social   \n",
              "37   b76ef37428e6799c421989521c0e5077         unknown   \n",
              "450  b6885f18d203a61176418c1fb3764815     paid_search   \n",
              "166  22c29808c4f815213303f8933030604c     paid_search   \n",
              "223  b76ef37428e6799c421989521c0e5077  organic_search   \n",
              "246  40dec9f3d5259a3d2dbcdab2114fae47     paid_search   \n",
              "\n",
              "     declared_monthly_revenue  total_trx  total_ordered  price  freight_value  \n",
              "347                50000000.0        0.0            0.0    0.0            0.0  \n",
              "494                 8000000.0        0.0            0.0    0.0            0.0  \n",
              "639                  500000.0        0.0            0.0    0.0            0.0  \n",
              "64                   300000.0        0.0            0.0    0.0            0.0  \n",
              "391                  300000.0        0.0            0.0    0.0            0.0  \n",
              "37                   250000.0        0.0            0.0    0.0            0.0  \n",
              "450                  250000.0        0.0            0.0    0.0            0.0  \n",
              "166                  210000.0        0.0            0.0    0.0            0.0  \n",
              "223                  200000.0        0.0            0.0    0.0            0.0  \n",
              "246                  180000.0        0.0            0.0    0.0            0.0  "
            ]
          },
          "execution_count": 142,
          "metadata": {},
          "output_type": "execute_result"
        }
      ],
      "source": [
        "aggregated_data.head(10)"
      ]
    },
    {
      "cell_type": "code",
      "execution_count": null,
      "id": "941638b5",
      "metadata": {
        "id": "941638b5",
        "outputId": "3e133804-25c6-45e4-a37f-2abe4e9ed602"
      },
      "outputs": [
        {
          "name": "stdout",
          "output_type": "stream",
          "text": [
            "<class 'pandas.core.frame.DataFrame'>\n",
            "Int64Index: 828 entries, 347 to 827\n",
            "Data columns (total 9 columns):\n",
            " #   Column                    Non-Null Count  Dtype         \n",
            "---  ------                    --------------  -----         \n",
            " 0   seller_id                 828 non-null    object        \n",
            " 1   first_contact_date        828 non-null    datetime64[ns]\n",
            " 2   landing_page_id           828 non-null    object        \n",
            " 3   origin                    828 non-null    object        \n",
            " 4   declared_monthly_revenue  828 non-null    float64       \n",
            " 5   total_trx                 828 non-null    float64       \n",
            " 6   total_ordered             828 non-null    float64       \n",
            " 7   price                     828 non-null    float64       \n",
            " 8   freight_value             828 non-null    float64       \n",
            "dtypes: datetime64[ns](1), float64(5), object(3)\n",
            "memory usage: 64.7+ KB\n"
          ]
        }
      ],
      "source": [
        "aggregated_data.info()"
      ]
    },
    {
      "cell_type": "code",
      "execution_count": null,
      "id": "0761cdb9",
      "metadata": {
        "id": "0761cdb9",
        "outputId": "83e8e32d-6896-41ae-eb8f-5cc132c8639c"
      },
      "outputs": [
        {
          "data": {
            "text/plain": [
              "(828, 9)"
            ]
          },
          "execution_count": 144,
          "metadata": {},
          "output_type": "execute_result"
        }
      ],
      "source": [
        "# check shape\n",
        "aggregated_data.shape"
      ]
    },
    {
      "cell_type": "code",
      "execution_count": null,
      "id": "6d4990c2",
      "metadata": {
        "id": "6d4990c2"
      },
      "outputs": [],
      "source": [
        "channel_attribute_value = aggregated_data.assign(\n",
        "    n_events = 0\n",
        ").groupby(\n",
        "    ['landing_page_id', 'origin'], as_index=False\n",
        ").agg({\n",
        "    'n_events': 'size',\n",
        "    'total_trx': 'sum',\n",
        "    'total_ordered': 'sum',\n",
        "    'price': 'sum',\n",
        "    'freight_value': 'sum',\n",
        "    'seller_id' : 'nunique'\n",
        "}).rename(\n",
        "    columns={\"seller_id\":\"total_seller\"}\n",
        ").assign(\n",
        "    revenue_per_conversion = lambda x: x['total_trx']/x['n_events']\n",
        ").sort_values(by=['total_trx'], ascending=False).copy()"
      ]
    },
    {
      "cell_type": "code",
      "execution_count": null,
      "id": "2d0e4ba0",
      "metadata": {
        "id": "2d0e4ba0",
        "outputId": "6b5af370-1603-4f8d-b4ed-a93753789996"
      },
      "outputs": [
        {
          "data": {
            "text/html": [
              "<div>\n",
              "<style scoped>\n",
              "    .dataframe tbody tr th:only-of-type {\n",
              "        vertical-align: middle;\n",
              "    }\n",
              "\n",
              "    .dataframe tbody tr th {\n",
              "        vertical-align: top;\n",
              "    }\n",
              "\n",
              "    .dataframe thead th {\n",
              "        text-align: right;\n",
              "    }\n",
              "</style>\n",
              "<table border=\"1\" class=\"dataframe\">\n",
              "  <thead>\n",
              "    <tr style=\"text-align: right;\">\n",
              "      <th></th>\n",
              "      <th>landing_page_id</th>\n",
              "      <th>origin</th>\n",
              "      <th>n_events</th>\n",
              "      <th>total_trx</th>\n",
              "      <th>total_ordered</th>\n",
              "      <th>price</th>\n",
              "      <th>freight_value</th>\n",
              "      <th>total_seller</th>\n",
              "      <th>revenue_per_conversion</th>\n",
              "    </tr>\n",
              "  </thead>\n",
              "  <tbody>\n",
              "    <tr>\n",
              "      <th>149</th>\n",
              "      <td>b76ef37428e6799c421989521c0e5077</td>\n",
              "      <td>unknown</td>\n",
              "      <td>134</td>\n",
              "      <td>1150.0</td>\n",
              "      <td>362.0</td>\n",
              "      <td>201745.20</td>\n",
              "      <td>22406.99</td>\n",
              "      <td>134</td>\n",
              "      <td>8.582090</td>\n",
              "    </tr>\n",
              "    <tr>\n",
              "      <th>36</th>\n",
              "      <td>22c29808c4f815213303f8933030604c</td>\n",
              "      <td>organic_search</td>\n",
              "      <td>112</td>\n",
              "      <td>484.0</td>\n",
              "      <td>288.0</td>\n",
              "      <td>113394.23</td>\n",
              "      <td>11140.76</td>\n",
              "      <td>112</td>\n",
              "      <td>4.321429</td>\n",
              "    </tr>\n",
              "    <tr>\n",
              "      <th>38</th>\n",
              "      <td>22c29808c4f815213303f8933030604c</td>\n",
              "      <td>paid_search</td>\n",
              "      <td>20</td>\n",
              "      <td>373.0</td>\n",
              "      <td>130.0</td>\n",
              "      <td>46367.79</td>\n",
              "      <td>6358.98</td>\n",
              "      <td>20</td>\n",
              "      <td>18.650000</td>\n",
              "    </tr>\n",
              "    <tr>\n",
              "      <th>164</th>\n",
              "      <td>ce1a65abd0973638f1c887a6efcfa82d</td>\n",
              "      <td>organic_search</td>\n",
              "      <td>34</td>\n",
              "      <td>230.0</td>\n",
              "      <td>131.0</td>\n",
              "      <td>17447.60</td>\n",
              "      <td>4457.45</td>\n",
              "      <td>34</td>\n",
              "      <td>6.764706</td>\n",
              "    </tr>\n",
              "    <tr>\n",
              "      <th>78</th>\n",
              "      <td>40dec9f3d5259a3d2dbcdab2114fae47</td>\n",
              "      <td>paid_search</td>\n",
              "      <td>50</td>\n",
              "      <td>230.0</td>\n",
              "      <td>132.0</td>\n",
              "      <td>32299.73</td>\n",
              "      <td>5576.82</td>\n",
              "      <td>50</td>\n",
              "      <td>4.600000</td>\n",
              "    </tr>\n",
              "    <tr>\n",
              "      <th>...</th>\n",
              "      <td>...</td>\n",
              "      <td>...</td>\n",
              "      <td>...</td>\n",
              "      <td>...</td>\n",
              "      <td>...</td>\n",
              "      <td>...</td>\n",
              "      <td>...</td>\n",
              "      <td>...</td>\n",
              "      <td>...</td>\n",
              "    </tr>\n",
              "    <tr>\n",
              "      <th>76</th>\n",
              "      <td>40dec9f3d5259a3d2dbcdab2114fae47</td>\n",
              "      <td>direct_traffic</td>\n",
              "      <td>1</td>\n",
              "      <td>0.0</td>\n",
              "      <td>0.0</td>\n",
              "      <td>0.00</td>\n",
              "      <td>0.00</td>\n",
              "      <td>1</td>\n",
              "      <td>0.000000</td>\n",
              "    </tr>\n",
              "    <tr>\n",
              "      <th>72</th>\n",
              "      <td>3c5cc1a2e1d86abfce2a16a1bcc80e26</td>\n",
              "      <td>organic_search</td>\n",
              "      <td>1</td>\n",
              "      <td>0.0</td>\n",
              "      <td>0.0</td>\n",
              "      <td>0.00</td>\n",
              "      <td>0.00</td>\n",
              "      <td>1</td>\n",
              "      <td>0.000000</td>\n",
              "    </tr>\n",
              "    <tr>\n",
              "      <th>70</th>\n",
              "      <td>37cf94070e940a694969304de58debe1</td>\n",
              "      <td>unknown</td>\n",
              "      <td>1</td>\n",
              "      <td>0.0</td>\n",
              "      <td>0.0</td>\n",
              "      <td>0.00</td>\n",
              "      <td>0.00</td>\n",
              "      <td>1</td>\n",
              "      <td>0.000000</td>\n",
              "    </tr>\n",
              "    <tr>\n",
              "      <th>67</th>\n",
              "      <td>36120633c8737035fbabf079082f4ec1</td>\n",
              "      <td>organic_search</td>\n",
              "      <td>1</td>\n",
              "      <td>0.0</td>\n",
              "      <td>0.0</td>\n",
              "      <td>0.00</td>\n",
              "      <td>0.00</td>\n",
              "      <td>1</td>\n",
              "      <td>0.000000</td>\n",
              "    </tr>\n",
              "    <tr>\n",
              "      <th>207</th>\n",
              "      <td>ffc62d6945fd1423539ec6d96326c37c</td>\n",
              "      <td>display</td>\n",
              "      <td>1</td>\n",
              "      <td>0.0</td>\n",
              "      <td>0.0</td>\n",
              "      <td>0.00</td>\n",
              "      <td>0.00</td>\n",
              "      <td>1</td>\n",
              "      <td>0.000000</td>\n",
              "    </tr>\n",
              "  </tbody>\n",
              "</table>\n",
              "<p>208 rows × 9 columns</p>\n",
              "</div>"
            ],
            "text/plain": [
              "                      landing_page_id          origin  n_events  total_trx  \\\n",
              "149  b76ef37428e6799c421989521c0e5077         unknown       134     1150.0   \n",
              "36   22c29808c4f815213303f8933030604c  organic_search       112      484.0   \n",
              "38   22c29808c4f815213303f8933030604c     paid_search        20      373.0   \n",
              "164  ce1a65abd0973638f1c887a6efcfa82d  organic_search        34      230.0   \n",
              "78   40dec9f3d5259a3d2dbcdab2114fae47     paid_search        50      230.0   \n",
              "..                                ...             ...       ...        ...   \n",
              "76   40dec9f3d5259a3d2dbcdab2114fae47  direct_traffic         1        0.0   \n",
              "72   3c5cc1a2e1d86abfce2a16a1bcc80e26  organic_search         1        0.0   \n",
              "70   37cf94070e940a694969304de58debe1         unknown         1        0.0   \n",
              "67   36120633c8737035fbabf079082f4ec1  organic_search         1        0.0   \n",
              "207  ffc62d6945fd1423539ec6d96326c37c         display         1        0.0   \n",
              "\n",
              "     total_ordered      price  freight_value  total_seller  \\\n",
              "149          362.0  201745.20       22406.99           134   \n",
              "36           288.0  113394.23       11140.76           112   \n",
              "38           130.0   46367.79        6358.98            20   \n",
              "164          131.0   17447.60        4457.45            34   \n",
              "78           132.0   32299.73        5576.82            50   \n",
              "..             ...        ...            ...           ...   \n",
              "76             0.0       0.00           0.00             1   \n",
              "72             0.0       0.00           0.00             1   \n",
              "70             0.0       0.00           0.00             1   \n",
              "67             0.0       0.00           0.00             1   \n",
              "207            0.0       0.00           0.00             1   \n",
              "\n",
              "     revenue_per_conversion  \n",
              "149                8.582090  \n",
              "36                 4.321429  \n",
              "38                18.650000  \n",
              "164                6.764706  \n",
              "78                 4.600000  \n",
              "..                      ...  \n",
              "76                 0.000000  \n",
              "72                 0.000000  \n",
              "70                 0.000000  \n",
              "67                 0.000000  \n",
              "207                0.000000  \n",
              "\n",
              "[208 rows x 9 columns]"
            ]
          },
          "execution_count": 146,
          "metadata": {},
          "output_type": "execute_result"
        }
      ],
      "source": [
        "# check channel attribution value\n",
        "channel_attribute_value"
      ]
    },
    {
      "cell_type": "code",
      "execution_count": null,
      "id": "194afa7d",
      "metadata": {
        "id": "194afa7d"
      },
      "outputs": [],
      "source": [
        "# create channel source\n",
        "channel_attribute_value['channel_source'] = channel_attribute_value['origin'].str.cat(channel_attribute_value[['landing_page_id']], sep='-')"
      ]
    },
    {
      "cell_type": "code",
      "execution_count": null,
      "id": "2e9b1565",
      "metadata": {
        "id": "2e9b1565",
        "outputId": "e6f19d6c-35f1-4f07-cca7-6aaa379d55a9"
      },
      "outputs": [
        {
          "data": {
            "text/plain": [
              "<Figure size 72000x3600 with 0 Axes>"
            ]
          },
          "metadata": {},
          "output_type": "display_data"
        },
        {
          "data": {
            "image/png": "[encoded data removed]",
            "text/plain": [
              "<Figure size 432x288 with 1 Axes>"
            ]
          },
          "metadata": {
            "needs_background": "light"
          },
          "output_type": "display_data"
        }
      ],
      "source": [
        "# visualization\n",
        "plt.figure(figsize=(1000,50))\n",
        "channel_attribute_value[['channel_source', 'revenue_per_conversion']].sort_values(\n",
        "  by = ['revenue_per_conversion'],\n",
        "  ascending = True \n",
        ").plot(\n",
        "    x = 'channel_source', \n",
        "    y = 'revenue_per_conversion', \n",
        "    kind = 'barh',\n",
        "    title = 'Average Revenue per Channel',\n",
        "    xlabel = 'Channel',\n",
        "    ylabel = 'Revenue per Conversion'\n",
        ")\n",
        "plt.show()"
      ]
    },
    {
      "cell_type": "markdown",
      "id": "f4e47865",
      "metadata": {
        "id": "f4e47865"
      },
      "source": [
        "it's such a mess visualization. Of course it is not our false since the landing page data is in the link form. Because of that, let's jump right in to the Model"
      ]
    },
    {
      "cell_type": "markdown",
      "id": "85468df8",
      "metadata": {
        "id": "85468df8"
      },
      "source": [
        "# Channel Attribution Model"
      ]
    },
    {
      "cell_type": "markdown",
      "id": "ffa85d62",
      "metadata": {
        "id": "ffa85d62"
      },
      "source": [
        "## Heuristic Model"
      ]
    },
    {
      "cell_type": "code",
      "execution_count": null,
      "id": "46b8f97a",
      "metadata": {
        "id": "46b8f97a",
        "outputId": "b6a53676-c86e-405c-c3db-e5b67b127f64"
      },
      "outputs": [
        {
          "data": {
            "text/plain": [
              "Index(['mql_id', 'seller_id', 'seller_city', 'seller_state',\n",
              "       'business_segment', 'lead_type', 'business_type', 'first_contact_date',\n",
              "       'landing_page_id', 'declared_monthly_revenue', 'origin', 'total_trx',\n",
              "       'total_ordered', 'price', 'freight_value'],\n",
              "      dtype='object')"
            ]
          },
          "execution_count": 149,
          "metadata": {},
          "output_type": "execute_result"
        }
      ],
      "source": [
        "data.columns"
      ]
    },
    {
      "cell_type": "code",
      "execution_count": null,
      "id": "02a2eaaf",
      "metadata": {
        "id": "02a2eaaf"
      },
      "outputs": [],
      "source": [
        "# data preprocessing\n",
        "data['total_trx'].fillna(0, inplace=True)\n",
        "data['freight_value'].fillna(0, inplace=True)\n",
        "data['has_transaction'] = data.total_trx.apply(lambda x: True if x > 0 else False)"
      ]
    },
    {
      "cell_type": "code",
      "execution_count": null,
      "id": "37e27b9c",
      "metadata": {
        "id": "37e27b9c"
      },
      "outputs": [],
      "source": [
        "# define data for model\n",
        "data_for_model = data[['seller_id', 'origin', 'first_contact_date', 'total_trx', 'freight_value', 'has_transaction']]"
      ]
    },
    {
      "cell_type": "code",
      "execution_count": null,
      "id": "32d7b243",
      "metadata": {
        "id": "32d7b243",
        "outputId": "0920935c-9762-4ea9-f2f4-f6645e7d2c18"
      },
      "outputs": [
        {
          "data": {
            "text/html": [
              "<div>\n",
              "<style scoped>\n",
              "    .dataframe tbody tr th:only-of-type {\n",
              "        vertical-align: middle;\n",
              "    }\n",
              "\n",
              "    .dataframe tbody tr th {\n",
              "        vertical-align: top;\n",
              "    }\n",
              "\n",
              "    .dataframe thead th {\n",
              "        text-align: right;\n",
              "    }\n",
              "</style>\n",
              "<table border=\"1\" class=\"dataframe\">\n",
              "  <thead>\n",
              "    <tr style=\"text-align: right;\">\n",
              "      <th></th>\n",
              "      <th>seller_id</th>\n",
              "      <th>origin</th>\n",
              "      <th>first_contact_date</th>\n",
              "      <th>total_trx</th>\n",
              "      <th>freight_value</th>\n",
              "      <th>has_transaction</th>\n",
              "    </tr>\n",
              "  </thead>\n",
              "  <tbody>\n",
              "    <tr>\n",
              "      <th>0</th>\n",
              "      <td>2c43fb513632d29b3b58df74816f1b06</td>\n",
              "      <td>organic_search</td>\n",
              "      <td>2018-02-21</td>\n",
              "      <td>3.0</td>\n",
              "      <td>72.17</td>\n",
              "      <td>True</td>\n",
              "    </tr>\n",
              "    <tr>\n",
              "      <th>1</th>\n",
              "      <td>bbb7d7893a450660432ea6652310ebb7</td>\n",
              "      <td>referral</td>\n",
              "      <td>2018-04-04</td>\n",
              "      <td>0.0</td>\n",
              "      <td>0.00</td>\n",
              "      <td>False</td>\n",
              "    </tr>\n",
              "    <tr>\n",
              "      <th>2</th>\n",
              "      <td>612170e34b97004b3ba37eae81836b4c</td>\n",
              "      <td>organic_search</td>\n",
              "      <td>2018-04-03</td>\n",
              "      <td>107.0</td>\n",
              "      <td>2307.06</td>\n",
              "      <td>True</td>\n",
              "    </tr>\n",
              "    <tr>\n",
              "      <th>3</th>\n",
              "      <td>21e1781e36faf92725dde4730a88ca0f</td>\n",
              "      <td>paid_search</td>\n",
              "      <td>2018-01-14</td>\n",
              "      <td>0.0</td>\n",
              "      <td>0.00</td>\n",
              "      <td>False</td>\n",
              "    </tr>\n",
              "    <tr>\n",
              "      <th>4</th>\n",
              "      <td>ed8cb7b190ceb6067227478e48cf8dde</td>\n",
              "      <td>unknown</td>\n",
              "      <td>2017-10-09</td>\n",
              "      <td>15.0</td>\n",
              "      <td>242.71</td>\n",
              "      <td>True</td>\n",
              "    </tr>\n",
              "    <tr>\n",
              "      <th>...</th>\n",
              "      <td>...</td>\n",
              "      <td>...</td>\n",
              "      <td>...</td>\n",
              "      <td>...</td>\n",
              "      <td>...</td>\n",
              "      <td>...</td>\n",
              "    </tr>\n",
              "    <tr>\n",
              "      <th>837</th>\n",
              "      <td>bfcc27719640628da877db48b672b169</td>\n",
              "      <td>organic_search</td>\n",
              "      <td>2018-03-28</td>\n",
              "      <td>0.0</td>\n",
              "      <td>0.00</td>\n",
              "      <td>False</td>\n",
              "    </tr>\n",
              "    <tr>\n",
              "      <th>838</th>\n",
              "      <td>4a82eab98441aeb64566e2776c1fb2b6</td>\n",
              "      <td>organic_search</td>\n",
              "      <td>2018-05-18</td>\n",
              "      <td>0.0</td>\n",
              "      <td>0.00</td>\n",
              "      <td>False</td>\n",
              "    </tr>\n",
              "    <tr>\n",
              "      <th>839</th>\n",
              "      <td>55031883943971ca22db6894574cfe2c</td>\n",
              "      <td>paid_search</td>\n",
              "      <td>2018-05-25</td>\n",
              "      <td>0.0</td>\n",
              "      <td>0.00</td>\n",
              "      <td>False</td>\n",
              "    </tr>\n",
              "    <tr>\n",
              "      <th>840</th>\n",
              "      <td>c0e933c238e41f0cd459d6025ee9b364</td>\n",
              "      <td>social</td>\n",
              "      <td>2018-02-04</td>\n",
              "      <td>0.0</td>\n",
              "      <td>0.00</td>\n",
              "      <td>False</td>\n",
              "    </tr>\n",
              "    <tr>\n",
              "      <th>841</th>\n",
              "      <td>1bba9c94eb5c4e82fba9f7286fe81025</td>\n",
              "      <td>direct_traffic</td>\n",
              "      <td>2018-01-11</td>\n",
              "      <td>0.0</td>\n",
              "      <td>0.00</td>\n",
              "      <td>False</td>\n",
              "    </tr>\n",
              "  </tbody>\n",
              "</table>\n",
              "<p>842 rows × 6 columns</p>\n",
              "</div>"
            ],
            "text/plain": [
              "                            seller_id          origin first_contact_date  \\\n",
              "0    2c43fb513632d29b3b58df74816f1b06  organic_search         2018-02-21   \n",
              "1    bbb7d7893a450660432ea6652310ebb7        referral         2018-04-04   \n",
              "2    612170e34b97004b3ba37eae81836b4c  organic_search         2018-04-03   \n",
              "3    21e1781e36faf92725dde4730a88ca0f     paid_search         2018-01-14   \n",
              "4    ed8cb7b190ceb6067227478e48cf8dde         unknown         2017-10-09   \n",
              "..                                ...             ...                ...   \n",
              "837  bfcc27719640628da877db48b672b169  organic_search         2018-03-28   \n",
              "838  4a82eab98441aeb64566e2776c1fb2b6  organic_search         2018-05-18   \n",
              "839  55031883943971ca22db6894574cfe2c     paid_search         2018-05-25   \n",
              "840  c0e933c238e41f0cd459d6025ee9b364          social         2018-02-04   \n",
              "841  1bba9c94eb5c4e82fba9f7286fe81025  direct_traffic         2018-01-11   \n",
              "\n",
              "     total_trx  freight_value  has_transaction  \n",
              "0          3.0          72.17             True  \n",
              "1          0.0           0.00            False  \n",
              "2        107.0        2307.06             True  \n",
              "3          0.0           0.00            False  \n",
              "4         15.0         242.71             True  \n",
              "..         ...            ...              ...  \n",
              "837        0.0           0.00            False  \n",
              "838        0.0           0.00            False  \n",
              "839        0.0           0.00            False  \n",
              "840        0.0           0.00            False  \n",
              "841        0.0           0.00            False  \n",
              "\n",
              "[842 rows x 6 columns]"
            ]
          },
          "execution_count": 152,
          "metadata": {},
          "output_type": "execute_result"
        }
      ],
      "source": [
        "data_for_model"
      ]
    },
    {
      "cell_type": "code",
      "execution_count": null,
      "id": "3287d595",
      "metadata": {
        "id": "3287d595",
        "outputId": "34cce32f-e38f-45c2-b86e-8da718986955"
      },
      "outputs": [
        {
          "name": "stdout",
          "output_type": "stream",
          "text": [
            "<class 'pandas.core.frame.DataFrame'>\n",
            "Int64Index: 842 entries, 0 to 841\n",
            "Data columns (total 6 columns):\n",
            " #   Column              Non-Null Count  Dtype         \n",
            "---  ------              --------------  -----         \n",
            " 0   seller_id           842 non-null    object        \n",
            " 1   origin              828 non-null    object        \n",
            " 2   first_contact_date  842 non-null    datetime64[ns]\n",
            " 3   total_trx           842 non-null    float64       \n",
            " 4   freight_value       842 non-null    float64       \n",
            " 5   has_transaction     842 non-null    bool          \n",
            "dtypes: bool(1), datetime64[ns](1), float64(2), object(2)\n",
            "memory usage: 40.3+ KB\n"
          ]
        }
      ],
      "source": [
        "# data for model\n",
        "data_for_model.info()"
      ]
    },
    {
      "cell_type": "code",
      "execution_count": null,
      "id": "a7f3e697",
      "metadata": {
        "id": "a7f3e697",
        "outputId": "af0990c8-9c5b-44b9-e5e4-ac538b4dde7d"
      },
      "outputs": [
        {
          "data": {
            "text/plain": [
              "seller_id              0\n",
              "origin                14\n",
              "first_contact_date     0\n",
              "total_trx              0\n",
              "freight_value          0\n",
              "has_transaction        0\n",
              "dtype: int64"
            ]
          },
          "execution_count": 154,
          "metadata": {},
          "output_type": "execute_result"
        }
      ],
      "source": [
        "# check null\n",
        "data_for_model.isnull().sum()"
      ]
    },
    {
      "cell_type": "code",
      "execution_count": null,
      "id": "3ba3d789",
      "metadata": {
        "id": "3ba3d789"
      },
      "outputs": [],
      "source": [
        "# drop the null\n",
        "data_for_model = data_for_model.dropna()"
      ]
    },
    {
      "cell_type": "code",
      "execution_count": null,
      "id": "4ca7a892",
      "metadata": {
        "id": "4ca7a892"
      },
      "outputs": [],
      "source": [
        "attribution = MAM(\n",
        "    data_for_model, \n",
        "    channels_colname='origin',\n",
        "    group_channels=True, \n",
        "    group_channels_by_id_list=['seller_id'], \n",
        "    group_timestamp_colname='first_contact_date',\n",
        "    journey_with_conv_colname='has_transaction',\n",
        "    create_journey_id_based_on_conversion = True,\n",
        "    conversion_value='freight_value'\n",
        ")"
      ]
    },
    {
      "cell_type": "markdown",
      "id": "792281b0",
      "metadata": {
        "id": "792281b0"
      },
      "source": [
        "### Last Click Attribution"
      ]
    },
    {
      "cell_type": "code",
      "execution_count": null,
      "id": "ee29e5a0",
      "metadata": {
        "id": "ee29e5a0",
        "outputId": "c2d62d98-5bc1-4af6-b7ac-4ee5f5e4f995"
      },
      "outputs": [
        {
          "data": {
            "text/plain": [
              "(0                     [0.0]\n",
              " 1      [47.230000000000004]\n",
              " 2                     [0.0]\n",
              " 3       [575.3600000000001]\n",
              " 4                     [0.0]\n",
              "                ...         \n",
              " 823                   [0.0]\n",
              " 824                [130.16]\n",
              " 825     [537.0800000000002]\n",
              " 826    [206.52999999999997]\n",
              " 827                [438.12]\n",
              " Length: 828, dtype: object,\n",
              " channels\n",
              " direct_traffic        5645.90\n",
              " display                284.95\n",
              " email                  637.42\n",
              " organic_search       28933.13\n",
              " other                 1877.98\n",
              " other_publicities        0.00\n",
              " paid_search          26723.01\n",
              " referral              1800.69\n",
              " social                7885.48\n",
              " unknown              25020.70\n",
              " Name: value, dtype: float64)"
            ]
          },
          "execution_count": 157,
          "metadata": {},
          "output_type": "execute_result"
        }
      ],
      "source": [
        "attribution.attribution_last_click()"
      ]
    },
    {
      "cell_type": "markdown",
      "id": "fe497b06",
      "metadata": {
        "id": "fe497b06"
      },
      "source": [
        "### First Click Attribution"
      ]
    },
    {
      "cell_type": "code",
      "execution_count": null,
      "id": "3c476852",
      "metadata": {
        "id": "3c476852",
        "outputId": "57287388-d99e-4313-958f-26d46756f0e3"
      },
      "outputs": [
        {
          "data": {
            "text/plain": [
              "(0                     [0.0]\n",
              " 1      [47.230000000000004]\n",
              " 2                     [0.0]\n",
              " 3       [575.3600000000001]\n",
              " 4                     [0.0]\n",
              "                ...         \n",
              " 823                   [0.0]\n",
              " 824                [130.16]\n",
              " 825     [537.0800000000002]\n",
              " 826    [206.52999999999997]\n",
              " 827                [438.12]\n",
              " Length: 828, dtype: object,\n",
              "             channels  attribution_first_click_heuristic\n",
              " 0     direct_traffic                            5645.90\n",
              " 1            display                             284.95\n",
              " 2              email                             637.42\n",
              " 3     organic_search                           28933.13\n",
              " 4              other                            1877.98\n",
              " 5  other_publicities                               0.00\n",
              " 6        paid_search                           26723.01\n",
              " 7           referral                            1800.69\n",
              " 8             social                            7885.48\n",
              " 9            unknown                           25020.70)"
            ]
          },
          "execution_count": 158,
          "metadata": {},
          "output_type": "execute_result"
        }
      ],
      "source": [
        "attribution.attribution_first_click()"
      ]
    },
    {
      "cell_type": "markdown",
      "id": "f2c3cd59",
      "metadata": {
        "id": "f2c3cd59"
      },
      "source": [
        "### Linear Attribution"
      ]
    },
    {
      "cell_type": "code",
      "execution_count": null,
      "id": "20314251",
      "metadata": {
        "id": "20314251",
        "outputId": "5eb9e53e-c8a5-49ab-8e07-b8fc1c2bf0d7"
      },
      "outputs": [
        {
          "data": {
            "text/plain": [
              "(0                     [0.0]\n",
              " 1      [47.230000000000004]\n",
              " 2                     [0.0]\n",
              " 3       [575.3600000000001]\n",
              " 4                     [0.0]\n",
              "                ...         \n",
              " 823                   [0.0]\n",
              " 824                [130.16]\n",
              " 825     [537.0800000000002]\n",
              " 826    [206.52999999999997]\n",
              " 827                [438.12]\n",
              " Length: 828, dtype: object,\n",
              "             channels  attribution_linear_heuristic\n",
              " 0     direct_traffic                       5645.90\n",
              " 1            display                        284.95\n",
              " 2              email                        637.42\n",
              " 3     organic_search                      28933.13\n",
              " 4              other                       1877.98\n",
              " 5  other_publicities                          0.00\n",
              " 6        paid_search                      26723.01\n",
              " 7           referral                       1800.69\n",
              " 8             social                       7885.48\n",
              " 9            unknown                      25020.70)"
            ]
          },
          "execution_count": 159,
          "metadata": {},
          "output_type": "execute_result"
        }
      ],
      "source": [
        "attribution.attribution_linear()"
      ]
    },
    {
      "cell_type": "markdown",
      "id": "01a14790",
      "metadata": {
        "id": "01a14790"
      },
      "source": [
        "### Attribution Plot"
      ]
    },
    {
      "cell_type": "code",
      "execution_count": null,
      "id": "25721108",
      "metadata": {
        "id": "25721108",
        "outputId": "e79d9329-2b2c-4bf6-bbb6-37c69eedb5d1"
      },
      "outputs": [
        {
          "data": {
            "text/plain": [
              "<AxesSubplot:xlabel='channels', ylabel='value'>"
            ]
          },
          "execution_count": 160,
          "metadata": {},
          "output_type": "execute_result"
        },
        {
          "data": {
            "image/png": "[encoded data removed]",
            "text/plain": [
              "<Figure size 1440x504 with 1 Axes>"
            ]
          },
          "metadata": {
            "needs_background": "light"
          },
          "output_type": "display_data"
        }
      ],
      "source": [
        "attribution.plot(model_type='heuristic')"
      ]
    },
    {
      "cell_type": "markdown",
      "id": "a53b2c44",
      "metadata": {
        "id": "a53b2c44"
      },
      "source": [
        "**Interpretation:**\n",
        "\n",
        "Based on the plot of attribution, `Organic Search` has the largest impact on the marketing channel, following by `Paid Search` and `Unknown Channel`. Since we didn't the unknown channel, we assume it as `Seller Self Marketing`.\n",
        "\n",
        "It is mean, seller has their own way to sales the product."
      ]
    },
    {
      "cell_type": "markdown",
      "id": "25850202",
      "metadata": {
        "id": "25850202"
      },
      "source": [
        "##  Markov Model"
      ]
    },
    {
      "cell_type": "code",
      "execution_count": null,
      "id": "3ef14132",
      "metadata": {
        "id": "3ef14132"
      },
      "outputs": [],
      "source": [
        "# create markov results\n",
        "markov_results = attribution.attribution_markov(transition_to_same_state=False)"
      ]
    },
    {
      "cell_type": "code",
      "execution_count": null,
      "id": "56c883e2",
      "metadata": {
        "id": "56c883e2",
        "outputId": "b97c549d-9af2-42aa-b3eb-0d592a19dcda"
      },
      "outputs": [
        {
          "data": {
            "text/html": [
              "<div>\n",
              "<style scoped>\n",
              "    .dataframe tbody tr th:only-of-type {\n",
              "        vertical-align: middle;\n",
              "    }\n",
              "\n",
              "    .dataframe tbody tr th {\n",
              "        vertical-align: top;\n",
              "    }\n",
              "\n",
              "    .dataframe thead th {\n",
              "        text-align: right;\n",
              "    }\n",
              "</style>\n",
              "<table border=\"1\" class=\"dataframe\">\n",
              "  <thead>\n",
              "    <tr style=\"text-align: right;\">\n",
              "      <th></th>\n",
              "      <th>channels</th>\n",
              "      <th>attribution_markov_algorithmic</th>\n",
              "    </tr>\n",
              "  </thead>\n",
              "  <tbody>\n",
              "    <tr>\n",
              "      <th>0</th>\n",
              "      <td>paid_search</td>\n",
              "      <td>26723.01</td>\n",
              "    </tr>\n",
              "    <tr>\n",
              "      <th>1</th>\n",
              "      <td>direct_traffic</td>\n",
              "      <td>5645.90</td>\n",
              "    </tr>\n",
              "    <tr>\n",
              "      <th>2</th>\n",
              "      <td>other</td>\n",
              "      <td>1877.98</td>\n",
              "    </tr>\n",
              "    <tr>\n",
              "      <th>3</th>\n",
              "      <td>referral</td>\n",
              "      <td>1800.69</td>\n",
              "    </tr>\n",
              "    <tr>\n",
              "      <th>4</th>\n",
              "      <td>other_publicities</td>\n",
              "      <td>0.00</td>\n",
              "    </tr>\n",
              "    <tr>\n",
              "      <th>5</th>\n",
              "      <td>social</td>\n",
              "      <td>7885.48</td>\n",
              "    </tr>\n",
              "    <tr>\n",
              "      <th>6</th>\n",
              "      <td>organic_search</td>\n",
              "      <td>28933.13</td>\n",
              "    </tr>\n",
              "    <tr>\n",
              "      <th>7</th>\n",
              "      <td>unknown</td>\n",
              "      <td>25020.70</td>\n",
              "    </tr>\n",
              "    <tr>\n",
              "      <th>8</th>\n",
              "      <td>display</td>\n",
              "      <td>284.95</td>\n",
              "    </tr>\n",
              "    <tr>\n",
              "      <th>9</th>\n",
              "      <td>email</td>\n",
              "      <td>637.42</td>\n",
              "    </tr>\n",
              "  </tbody>\n",
              "</table>\n",
              "</div>"
            ],
            "text/plain": [
              "            channels  attribution_markov_algorithmic\n",
              "0        paid_search                        26723.01\n",
              "1     direct_traffic                         5645.90\n",
              "2              other                         1877.98\n",
              "3           referral                         1800.69\n",
              "4  other_publicities                            0.00\n",
              "5             social                         7885.48\n",
              "6     organic_search                        28933.13\n",
              "7            unknown                        25020.70\n",
              "8            display                          284.95\n",
              "9              email                          637.42"
            ]
          },
          "execution_count": 162,
          "metadata": {},
          "output_type": "execute_result"
        }
      ],
      "source": [
        "# check markov results\n",
        "markov_results[1]"
      ]
    },
    {
      "cell_type": "code",
      "execution_count": null,
      "id": "cc2be1b0",
      "metadata": {
        "id": "cc2be1b0",
        "outputId": "3d8a0ac7-9ddb-4cbf-ba6d-c7ae73f7a6f8"
      },
      "outputs": [
        {
          "data": {
            "image/png": "[encoded data removed]",
            "text/plain": [
              "<Figure size 720x720 with 2 Axes>"
            ]
          },
          "metadata": {
            "needs_background": "light"
          },
          "output_type": "display_data"
        }
      ],
      "source": [
        "# check removal effects\n",
        "ax, fig = plt.subplots(figsize=(10,10))\n",
        "sns.heatmap(\n",
        "    markov_results[3].round(3), \n",
        "    cmap=\"YlGnBu\", \n",
        "    annot=True, \n",
        "    linewidths=.5\n",
        ");"
      ]
    },
    {
      "cell_type": "markdown",
      "id": "670fb694",
      "metadata": {
        "id": "670fb694"
      },
      "source": [
        "**Interpretation:**\n",
        "\n",
        "This visualization goes the same way as the plot of attribution. The largest effect of losses is when we delete the `Organic Search` and `Paid Search` marketing channel. But if we delete the `Other Publicities` channel, we may couldn't find the percentage of losses but we need to identified those publicity. It is maybe the SEO."
      ]
    },
    {
      "cell_type": "markdown",
      "id": "b9720162",
      "metadata": {
        "id": "b9720162"
      },
      "source": [
        "## Final Attribution"
      ]
    },
    {
      "cell_type": "code",
      "execution_count": null,
      "id": "9dd5cb33",
      "metadata": {
        "id": "9dd5cb33",
        "outputId": "24b6e812-92f4-4591-cc04-a6d54801fa04"
      },
      "outputs": [
        {
          "data": {
            "image/png": "[encoded data removed]",
            "text/plain": [
              "<Figure size 1440x504 with 1 Axes>"
            ]
          },
          "metadata": {
            "needs_background": "light"
          },
          "output_type": "display_data"
        }
      ],
      "source": [
        "attribution.plot();"
      ]
    },
    {
      "cell_type": "markdown",
      "id": "24fdf03b",
      "metadata": {
        "id": "24fdf03b"
      },
      "source": [
        "**Interpretation:**\n",
        "\n",
        "It is the same results from the first Attribution Plot. We didn't get different between these two."
      ]
    },
    {
      "cell_type": "markdown",
      "id": "ee4a27f3",
      "metadata": {
        "id": "ee4a27f3"
      },
      "source": [
        "# Converted Seller Analysis"
      ]
    },
    {
      "cell_type": "code",
      "execution_count": null,
      "id": "b6da73bb",
      "metadata": {
        "id": "b6da73bb",
        "outputId": "f635a8d7-9454-49e9-c6c2-4491049e536d"
      },
      "outputs": [
        {
          "data": {
            "text/html": [
              "<div>\n",
              "<style scoped>\n",
              "    .dataframe tbody tr th:only-of-type {\n",
              "        vertical-align: middle;\n",
              "    }\n",
              "\n",
              "    .dataframe tbody tr th {\n",
              "        vertical-align: top;\n",
              "    }\n",
              "\n",
              "    .dataframe thead th {\n",
              "        text-align: right;\n",
              "    }\n",
              "</style>\n",
              "<table border=\"1\" class=\"dataframe\">\n",
              "  <thead>\n",
              "    <tr style=\"text-align: right;\">\n",
              "      <th></th>\n",
              "      <th>mql_id</th>\n",
              "      <th>seller_id</th>\n",
              "      <th>sdr_id</th>\n",
              "      <th>sr_id</th>\n",
              "      <th>won_date</th>\n",
              "      <th>business_segment</th>\n",
              "      <th>lead_type</th>\n",
              "      <th>lead_behaviour_profile</th>\n",
              "      <th>has_company</th>\n",
              "      <th>has_gtin</th>\n",
              "      <th>average_stock</th>\n",
              "      <th>business_type</th>\n",
              "      <th>declared_product_catalog_size</th>\n",
              "      <th>declared_monthly_revenue</th>\n",
              "    </tr>\n",
              "  </thead>\n",
              "  <tbody>\n",
              "    <tr>\n",
              "      <th>0</th>\n",
              "      <td>5420aad7fec3549a85876ba1c529bd84</td>\n",
              "      <td>2c43fb513632d29b3b58df74816f1b06</td>\n",
              "      <td>a8387c01a09e99ce014107505b92388c</td>\n",
              "      <td>4ef15afb4b2723d8f3d81e51ec7afefe</td>\n",
              "      <td>2018-02-26 19:58:54</td>\n",
              "      <td>pet</td>\n",
              "      <td>online_medium</td>\n",
              "      <td>cat</td>\n",
              "      <td>NaN</td>\n",
              "      <td>NaN</td>\n",
              "      <td>NaN</td>\n",
              "      <td>reseller</td>\n",
              "      <td>NaN</td>\n",
              "      <td>0.0</td>\n",
              "    </tr>\n",
              "    <tr>\n",
              "      <th>1</th>\n",
              "      <td>a555fb36b9368110ede0f043dfc3b9a0</td>\n",
              "      <td>bbb7d7893a450660432ea6652310ebb7</td>\n",
              "      <td>09285259593c61296eef10c734121d5b</td>\n",
              "      <td>d3d1e91a157ea7f90548eef82f1955e3</td>\n",
              "      <td>2018-05-08 20:17:59</td>\n",
              "      <td>car_accessories</td>\n",
              "      <td>industry</td>\n",
              "      <td>eagle</td>\n",
              "      <td>NaN</td>\n",
              "      <td>NaN</td>\n",
              "      <td>NaN</td>\n",
              "      <td>reseller</td>\n",
              "      <td>NaN</td>\n",
              "      <td>0.0</td>\n",
              "    </tr>\n",
              "    <tr>\n",
              "      <th>2</th>\n",
              "      <td>327174d3648a2d047e8940d7d15204ca</td>\n",
              "      <td>612170e34b97004b3ba37eae81836b4c</td>\n",
              "      <td>b90f87164b5f8c2cfa5c8572834dbe3f</td>\n",
              "      <td>6565aa9ce3178a5caf6171827af3a9ba</td>\n",
              "      <td>2018-06-05 17:27:23</td>\n",
              "      <td>home_appliances</td>\n",
              "      <td>online_big</td>\n",
              "      <td>cat</td>\n",
              "      <td>NaN</td>\n",
              "      <td>NaN</td>\n",
              "      <td>NaN</td>\n",
              "      <td>reseller</td>\n",
              "      <td>NaN</td>\n",
              "      <td>0.0</td>\n",
              "    </tr>\n",
              "    <tr>\n",
              "      <th>3</th>\n",
              "      <td>f5fee8f7da74f4887f5bcae2bafb6dd6</td>\n",
              "      <td>21e1781e36faf92725dde4730a88ca0f</td>\n",
              "      <td>56bf83c4bb35763a51c2baab501b4c67</td>\n",
              "      <td>d3d1e91a157ea7f90548eef82f1955e3</td>\n",
              "      <td>2018-01-17 13:51:03</td>\n",
              "      <td>food_drink</td>\n",
              "      <td>online_small</td>\n",
              "      <td>NaN</td>\n",
              "      <td>NaN</td>\n",
              "      <td>NaN</td>\n",
              "      <td>NaN</td>\n",
              "      <td>reseller</td>\n",
              "      <td>NaN</td>\n",
              "      <td>0.0</td>\n",
              "    </tr>\n",
              "    <tr>\n",
              "      <th>4</th>\n",
              "      <td>ffe640179b554e295c167a2f6be528e0</td>\n",
              "      <td>ed8cb7b190ceb6067227478e48cf8dde</td>\n",
              "      <td>4b339f9567d060bcea4f5136b9f5949e</td>\n",
              "      <td>d3d1e91a157ea7f90548eef82f1955e3</td>\n",
              "      <td>2018-07-03 20:17:45</td>\n",
              "      <td>home_appliances</td>\n",
              "      <td>industry</td>\n",
              "      <td>wolf</td>\n",
              "      <td>NaN</td>\n",
              "      <td>NaN</td>\n",
              "      <td>NaN</td>\n",
              "      <td>manufacturer</td>\n",
              "      <td>NaN</td>\n",
              "      <td>0.0</td>\n",
              "    </tr>\n",
              "    <tr>\n",
              "      <th>...</th>\n",
              "      <td>...</td>\n",
              "      <td>...</td>\n",
              "      <td>...</td>\n",
              "      <td>...</td>\n",
              "      <td>...</td>\n",
              "      <td>...</td>\n",
              "      <td>...</td>\n",
              "      <td>...</td>\n",
              "      <td>...</td>\n",
              "      <td>...</td>\n",
              "      <td>...</td>\n",
              "      <td>...</td>\n",
              "      <td>...</td>\n",
              "      <td>...</td>\n",
              "    </tr>\n",
              "    <tr>\n",
              "      <th>837</th>\n",
              "      <td>df9a2abe2ad3f2d8758b675ac8331ecf</td>\n",
              "      <td>bfcc27719640628da877db48b672b169</td>\n",
              "      <td>45749fb708130f78d0db07d8d80f030b</td>\n",
              "      <td>a8387c01a09e99ce014107505b92388c</td>\n",
              "      <td>2018-08-01 20:22:31</td>\n",
              "      <td>home_decor</td>\n",
              "      <td>offline</td>\n",
              "      <td>cat</td>\n",
              "      <td>NaN</td>\n",
              "      <td>NaN</td>\n",
              "      <td>NaN</td>\n",
              "      <td>reseller</td>\n",
              "      <td>NaN</td>\n",
              "      <td>0.0</td>\n",
              "    </tr>\n",
              "    <tr>\n",
              "      <th>838</th>\n",
              "      <td>8723201570415eb23b4f095d8c20a27c</td>\n",
              "      <td>4a82eab98441aeb64566e2776c1fb2b6</td>\n",
              "      <td>370c9f455f93a9a96cbe9bea48e70033</td>\n",
              "      <td>4b339f9567d060bcea4f5136b9f5949e</td>\n",
              "      <td>2018-09-27 18:58:41</td>\n",
              "      <td>construction_tools_house_garden</td>\n",
              "      <td>online_big</td>\n",
              "      <td>wolf</td>\n",
              "      <td>NaN</td>\n",
              "      <td>NaN</td>\n",
              "      <td>NaN</td>\n",
              "      <td>reseller</td>\n",
              "      <td>132.0</td>\n",
              "      <td>200000.0</td>\n",
              "    </tr>\n",
              "    <tr>\n",
              "      <th>839</th>\n",
              "      <td>2e57665b8faf05c967a801eb5aedfa0a</td>\n",
              "      <td>55031883943971ca22db6894574cfe2c</td>\n",
              "      <td>370c9f455f93a9a96cbe9bea48e70033</td>\n",
              "      <td>a8387c01a09e99ce014107505b92388c</td>\n",
              "      <td>2018-06-06 20:15:26</td>\n",
              "      <td>computers</td>\n",
              "      <td>online_medium</td>\n",
              "      <td>wolf</td>\n",
              "      <td>NaN</td>\n",
              "      <td>NaN</td>\n",
              "      <td>NaN</td>\n",
              "      <td>reseller</td>\n",
              "      <td>NaN</td>\n",
              "      <td>0.0</td>\n",
              "    </tr>\n",
              "    <tr>\n",
              "      <th>840</th>\n",
              "      <td>40955be51cc85c5a5a6cdd12b19e9f10</td>\n",
              "      <td>c0e933c238e41f0cd459d6025ee9b364</td>\n",
              "      <td>068066e24f0c643eb1d089c7dd20cd73</td>\n",
              "      <td>d3d1e91a157ea7f90548eef82f1955e3</td>\n",
              "      <td>2018-03-06 15:52:23</td>\n",
              "      <td>pet</td>\n",
              "      <td>online_beginner</td>\n",
              "      <td>cat</td>\n",
              "      <td>NaN</td>\n",
              "      <td>NaN</td>\n",
              "      <td>NaN</td>\n",
              "      <td>reseller</td>\n",
              "      <td>NaN</td>\n",
              "      <td>0.0</td>\n",
              "    </tr>\n",
              "    <tr>\n",
              "      <th>841</th>\n",
              "      <td>8a6492305a5fbcdcdd1a7f5a90764c07</td>\n",
              "      <td>1bba9c94eb5c4e82fba9f7286fe81025</td>\n",
              "      <td>56bf83c4bb35763a51c2baab501b4c67</td>\n",
              "      <td>de63de0d10a6012430098db33c679b0b</td>\n",
              "      <td>2018-05-02 13:31:32</td>\n",
              "      <td>household_utilities</td>\n",
              "      <td>industry</td>\n",
              "      <td>eagle</td>\n",
              "      <td>NaN</td>\n",
              "      <td>NaN</td>\n",
              "      <td>NaN</td>\n",
              "      <td>manufacturer</td>\n",
              "      <td>NaN</td>\n",
              "      <td>0.0</td>\n",
              "    </tr>\n",
              "  </tbody>\n",
              "</table>\n",
              "<p>842 rows × 14 columns</p>\n",
              "</div>"
            ],
            "text/plain": [
              "                               mql_id                         seller_id  \\\n",
              "0    5420aad7fec3549a85876ba1c529bd84  2c43fb513632d29b3b58df74816f1b06   \n",
              "1    a555fb36b9368110ede0f043dfc3b9a0  bbb7d7893a450660432ea6652310ebb7   \n",
              "2    327174d3648a2d047e8940d7d15204ca  612170e34b97004b3ba37eae81836b4c   \n",
              "3    f5fee8f7da74f4887f5bcae2bafb6dd6  21e1781e36faf92725dde4730a88ca0f   \n",
              "4    ffe640179b554e295c167a2f6be528e0  ed8cb7b190ceb6067227478e48cf8dde   \n",
              "..                                ...                               ...   \n",
              "837  df9a2abe2ad3f2d8758b675ac8331ecf  bfcc27719640628da877db48b672b169   \n",
              "838  8723201570415eb23b4f095d8c20a27c  4a82eab98441aeb64566e2776c1fb2b6   \n",
              "839  2e57665b8faf05c967a801eb5aedfa0a  55031883943971ca22db6894574cfe2c   \n",
              "840  40955be51cc85c5a5a6cdd12b19e9f10  c0e933c238e41f0cd459d6025ee9b364   \n",
              "841  8a6492305a5fbcdcdd1a7f5a90764c07  1bba9c94eb5c4e82fba9f7286fe81025   \n",
              "\n",
              "                               sdr_id                             sr_id  \\\n",
              "0    a8387c01a09e99ce014107505b92388c  4ef15afb4b2723d8f3d81e51ec7afefe   \n",
              "1    09285259593c61296eef10c734121d5b  d3d1e91a157ea7f90548eef82f1955e3   \n",
              "2    b90f87164b5f8c2cfa5c8572834dbe3f  6565aa9ce3178a5caf6171827af3a9ba   \n",
              "3    56bf83c4bb35763a51c2baab501b4c67  d3d1e91a157ea7f90548eef82f1955e3   \n",
              "4    4b339f9567d060bcea4f5136b9f5949e  d3d1e91a157ea7f90548eef82f1955e3   \n",
              "..                                ...                               ...   \n",
              "837  45749fb708130f78d0db07d8d80f030b  a8387c01a09e99ce014107505b92388c   \n",
              "838  370c9f455f93a9a96cbe9bea48e70033  4b339f9567d060bcea4f5136b9f5949e   \n",
              "839  370c9f455f93a9a96cbe9bea48e70033  a8387c01a09e99ce014107505b92388c   \n",
              "840  068066e24f0c643eb1d089c7dd20cd73  d3d1e91a157ea7f90548eef82f1955e3   \n",
              "841  56bf83c4bb35763a51c2baab501b4c67  de63de0d10a6012430098db33c679b0b   \n",
              "\n",
              "                won_date                 business_segment        lead_type  \\\n",
              "0    2018-02-26 19:58:54                              pet    online_medium   \n",
              "1    2018-05-08 20:17:59                  car_accessories         industry   \n",
              "2    2018-06-05 17:27:23                  home_appliances       online_big   \n",
              "3    2018-01-17 13:51:03                       food_drink     online_small   \n",
              "4    2018-07-03 20:17:45                  home_appliances         industry   \n",
              "..                   ...                              ...              ...   \n",
              "837  2018-08-01 20:22:31                       home_decor          offline   \n",
              "838  2018-09-27 18:58:41  construction_tools_house_garden       online_big   \n",
              "839  2018-06-06 20:15:26                        computers    online_medium   \n",
              "840  2018-03-06 15:52:23                              pet  online_beginner   \n",
              "841  2018-05-02 13:31:32              household_utilities         industry   \n",
              "\n",
              "    lead_behaviour_profile has_company has_gtin average_stock business_type  \\\n",
              "0                      cat         NaN      NaN           NaN      reseller   \n",
              "1                    eagle         NaN      NaN           NaN      reseller   \n",
              "2                      cat         NaN      NaN           NaN      reseller   \n",
              "3                      NaN         NaN      NaN           NaN      reseller   \n",
              "4                     wolf         NaN      NaN           NaN  manufacturer   \n",
              "..                     ...         ...      ...           ...           ...   \n",
              "837                    cat         NaN      NaN           NaN      reseller   \n",
              "838                   wolf         NaN      NaN           NaN      reseller   \n",
              "839                   wolf         NaN      NaN           NaN      reseller   \n",
              "840                    cat         NaN      NaN           NaN      reseller   \n",
              "841                  eagle         NaN      NaN           NaN  manufacturer   \n",
              "\n",
              "     declared_product_catalog_size  declared_monthly_revenue  \n",
              "0                              NaN                       0.0  \n",
              "1                              NaN                       0.0  \n",
              "2                              NaN                       0.0  \n",
              "3                              NaN                       0.0  \n",
              "4                              NaN                       0.0  \n",
              "..                             ...                       ...  \n",
              "837                            NaN                       0.0  \n",
              "838                          132.0                  200000.0  \n",
              "839                            NaN                       0.0  \n",
              "840                            NaN                       0.0  \n",
              "841                            NaN                       0.0  \n",
              "\n",
              "[842 rows x 14 columns]"
            ]
          },
          "execution_count": 165,
          "metadata": {},
          "output_type": "execute_result"
        }
      ],
      "source": [
        "olist_closed_deals"
      ]
    },
    {
      "cell_type": "code",
      "execution_count": null,
      "id": "6f81ebfc",
      "metadata": {
        "id": "6f81ebfc",
        "outputId": "4ba5bd20-d3f9-46ad-d1f5-f83a635c8629"
      },
      "outputs": [
        {
          "data": {
            "text/html": [
              "<div>\n",
              "<style scoped>\n",
              "    .dataframe tbody tr th:only-of-type {\n",
              "        vertical-align: middle;\n",
              "    }\n",
              "\n",
              "    .dataframe tbody tr th {\n",
              "        vertical-align: top;\n",
              "    }\n",
              "\n",
              "    .dataframe thead th {\n",
              "        text-align: right;\n",
              "    }\n",
              "</style>\n",
              "<table border=\"1\" class=\"dataframe\">\n",
              "  <thead>\n",
              "    <tr style=\"text-align: right;\">\n",
              "      <th></th>\n",
              "      <th>mql_id</th>\n",
              "      <th>first_contact_date</th>\n",
              "      <th>landing_page_id</th>\n",
              "      <th>origin</th>\n",
              "    </tr>\n",
              "  </thead>\n",
              "  <tbody>\n",
              "    <tr>\n",
              "      <th>0</th>\n",
              "      <td>dac32acd4db4c29c230538b72f8dd87d</td>\n",
              "      <td>2018-02-01</td>\n",
              "      <td>88740e65d5d6b056e0cda098e1ea6313</td>\n",
              "      <td>social</td>\n",
              "    </tr>\n",
              "    <tr>\n",
              "      <th>1</th>\n",
              "      <td>8c18d1de7f67e60dbd64e3c07d7e9d5d</td>\n",
              "      <td>2017-10-20</td>\n",
              "      <td>007f9098284a86ee80ddeb25d53e0af8</td>\n",
              "      <td>paid_search</td>\n",
              "    </tr>\n",
              "    <tr>\n",
              "      <th>2</th>\n",
              "      <td>b4bc852d233dfefc5131f593b538befa</td>\n",
              "      <td>2018-03-22</td>\n",
              "      <td>a7982125ff7aa3b2054c6e44f9d28522</td>\n",
              "      <td>organic_search</td>\n",
              "    </tr>\n",
              "    <tr>\n",
              "      <th>3</th>\n",
              "      <td>6be030b81c75970747525b843c1ef4f8</td>\n",
              "      <td>2018-01-22</td>\n",
              "      <td>d45d558f0daeecf3cccdffe3c59684aa</td>\n",
              "      <td>email</td>\n",
              "    </tr>\n",
              "    <tr>\n",
              "      <th>4</th>\n",
              "      <td>5420aad7fec3549a85876ba1c529bd84</td>\n",
              "      <td>2018-02-21</td>\n",
              "      <td>b48ec5f3b04e9068441002a19df93c6c</td>\n",
              "      <td>organic_search</td>\n",
              "    </tr>\n",
              "    <tr>\n",
              "      <th>...</th>\n",
              "      <td>...</td>\n",
              "      <td>...</td>\n",
              "      <td>...</td>\n",
              "      <td>...</td>\n",
              "    </tr>\n",
              "    <tr>\n",
              "      <th>7995</th>\n",
              "      <td>feaba3ffcd2ff97501696c7f9a42f41c</td>\n",
              "      <td>2018-05-22</td>\n",
              "      <td>e42a14209c69c3e9cc6b042620465f12</td>\n",
              "      <td>paid_search</td>\n",
              "    </tr>\n",
              "    <tr>\n",
              "      <th>7996</th>\n",
              "      <td>a79cb53cd009ab92e0143b92baa2407b</td>\n",
              "      <td>2018-03-27</td>\n",
              "      <td>c494978688ccf66ad9fad3d6a3338c22</td>\n",
              "      <td>paid_search</td>\n",
              "    </tr>\n",
              "    <tr>\n",
              "      <th>7997</th>\n",
              "      <td>68f049a23ab109c6a0f6989bb9a02994</td>\n",
              "      <td>2017-08-27</td>\n",
              "      <td>b48ec5f3b04e9068441002a19df93c6c</td>\n",
              "      <td>organic_search</td>\n",
              "    </tr>\n",
              "    <tr>\n",
              "      <th>7998</th>\n",
              "      <td>4f8c96e2509b984329044c6682c88ee9</td>\n",
              "      <td>2017-10-06</td>\n",
              "      <td>a56671a54260a44923d32c2f08fad39c</td>\n",
              "      <td>organic_search</td>\n",
              "    </tr>\n",
              "    <tr>\n",
              "      <th>7999</th>\n",
              "      <td>8a6492305a5fbcdcdd1a7f5a90764c07</td>\n",
              "      <td>2018-01-11</td>\n",
              "      <td>b76ef37428e6799c421989521c0e5077</td>\n",
              "      <td>direct_traffic</td>\n",
              "    </tr>\n",
              "  </tbody>\n",
              "</table>\n",
              "<p>8000 rows × 4 columns</p>\n",
              "</div>"
            ],
            "text/plain": [
              "                                mql_id first_contact_date  \\\n",
              "0     dac32acd4db4c29c230538b72f8dd87d         2018-02-01   \n",
              "1     8c18d1de7f67e60dbd64e3c07d7e9d5d         2017-10-20   \n",
              "2     b4bc852d233dfefc5131f593b538befa         2018-03-22   \n",
              "3     6be030b81c75970747525b843c1ef4f8         2018-01-22   \n",
              "4     5420aad7fec3549a85876ba1c529bd84         2018-02-21   \n",
              "...                                ...                ...   \n",
              "7995  feaba3ffcd2ff97501696c7f9a42f41c         2018-05-22   \n",
              "7996  a79cb53cd009ab92e0143b92baa2407b         2018-03-27   \n",
              "7997  68f049a23ab109c6a0f6989bb9a02994         2017-08-27   \n",
              "7998  4f8c96e2509b984329044c6682c88ee9         2017-10-06   \n",
              "7999  8a6492305a5fbcdcdd1a7f5a90764c07         2018-01-11   \n",
              "\n",
              "                       landing_page_id          origin  \n",
              "0     88740e65d5d6b056e0cda098e1ea6313          social  \n",
              "1     007f9098284a86ee80ddeb25d53e0af8     paid_search  \n",
              "2     a7982125ff7aa3b2054c6e44f9d28522  organic_search  \n",
              "3     d45d558f0daeecf3cccdffe3c59684aa           email  \n",
              "4     b48ec5f3b04e9068441002a19df93c6c  organic_search  \n",
              "...                                ...             ...  \n",
              "7995  e42a14209c69c3e9cc6b042620465f12     paid_search  \n",
              "7996  c494978688ccf66ad9fad3d6a3338c22     paid_search  \n",
              "7997  b48ec5f3b04e9068441002a19df93c6c  organic_search  \n",
              "7998  a56671a54260a44923d32c2f08fad39c  organic_search  \n",
              "7999  b76ef37428e6799c421989521c0e5077  direct_traffic  \n",
              "\n",
              "[8000 rows x 4 columns]"
            ]
          },
          "execution_count": 166,
          "metadata": {},
          "output_type": "execute_result"
        }
      ],
      "source": [
        "olist_marketing_qualified_leads"
      ]
    },
    {
      "cell_type": "code",
      "execution_count": null,
      "id": "51231cbe",
      "metadata": {
        "id": "51231cbe"
      },
      "outputs": [],
      "source": [
        "# create new columns named as deals\n",
        "data_for_seller = olist_marketing_qualified_leads\n",
        "data_for_seller['deals'] = olist_marketing_qualified_leads['mql_id'].isin(olist_closed_deals['mql_id'])"
      ]
    },
    {
      "cell_type": "code",
      "execution_count": null,
      "id": "91507bac",
      "metadata": {
        "id": "91507bac",
        "outputId": "73638846-34a3-4bf8-8c2f-7f8201ff8a75"
      },
      "outputs": [
        {
          "data": {
            "text/html": [
              "<div>\n",
              "<style scoped>\n",
              "    .dataframe tbody tr th:only-of-type {\n",
              "        vertical-align: middle;\n",
              "    }\n",
              "\n",
              "    .dataframe tbody tr th {\n",
              "        vertical-align: top;\n",
              "    }\n",
              "\n",
              "    .dataframe thead th {\n",
              "        text-align: right;\n",
              "    }\n",
              "</style>\n",
              "<table border=\"1\" class=\"dataframe\">\n",
              "  <thead>\n",
              "    <tr style=\"text-align: right;\">\n",
              "      <th></th>\n",
              "      <th>mql_id</th>\n",
              "      <th>first_contact_date</th>\n",
              "      <th>landing_page_id</th>\n",
              "      <th>origin</th>\n",
              "      <th>deals</th>\n",
              "    </tr>\n",
              "  </thead>\n",
              "  <tbody>\n",
              "    <tr>\n",
              "      <th>0</th>\n",
              "      <td>dac32acd4db4c29c230538b72f8dd87d</td>\n",
              "      <td>2018-02-01</td>\n",
              "      <td>88740e65d5d6b056e0cda098e1ea6313</td>\n",
              "      <td>social</td>\n",
              "      <td>False</td>\n",
              "    </tr>\n",
              "    <tr>\n",
              "      <th>1</th>\n",
              "      <td>8c18d1de7f67e60dbd64e3c07d7e9d5d</td>\n",
              "      <td>2017-10-20</td>\n",
              "      <td>007f9098284a86ee80ddeb25d53e0af8</td>\n",
              "      <td>paid_search</td>\n",
              "      <td>False</td>\n",
              "    </tr>\n",
              "    <tr>\n",
              "      <th>2</th>\n",
              "      <td>b4bc852d233dfefc5131f593b538befa</td>\n",
              "      <td>2018-03-22</td>\n",
              "      <td>a7982125ff7aa3b2054c6e44f9d28522</td>\n",
              "      <td>organic_search</td>\n",
              "      <td>False</td>\n",
              "    </tr>\n",
              "    <tr>\n",
              "      <th>3</th>\n",
              "      <td>6be030b81c75970747525b843c1ef4f8</td>\n",
              "      <td>2018-01-22</td>\n",
              "      <td>d45d558f0daeecf3cccdffe3c59684aa</td>\n",
              "      <td>email</td>\n",
              "      <td>False</td>\n",
              "    </tr>\n",
              "    <tr>\n",
              "      <th>4</th>\n",
              "      <td>5420aad7fec3549a85876ba1c529bd84</td>\n",
              "      <td>2018-02-21</td>\n",
              "      <td>b48ec5f3b04e9068441002a19df93c6c</td>\n",
              "      <td>organic_search</td>\n",
              "      <td>True</td>\n",
              "    </tr>\n",
              "    <tr>\n",
              "      <th>...</th>\n",
              "      <td>...</td>\n",
              "      <td>...</td>\n",
              "      <td>...</td>\n",
              "      <td>...</td>\n",
              "      <td>...</td>\n",
              "    </tr>\n",
              "    <tr>\n",
              "      <th>7995</th>\n",
              "      <td>feaba3ffcd2ff97501696c7f9a42f41c</td>\n",
              "      <td>2018-05-22</td>\n",
              "      <td>e42a14209c69c3e9cc6b042620465f12</td>\n",
              "      <td>paid_search</td>\n",
              "      <td>False</td>\n",
              "    </tr>\n",
              "    <tr>\n",
              "      <th>7996</th>\n",
              "      <td>a79cb53cd009ab92e0143b92baa2407b</td>\n",
              "      <td>2018-03-27</td>\n",
              "      <td>c494978688ccf66ad9fad3d6a3338c22</td>\n",
              "      <td>paid_search</td>\n",
              "      <td>False</td>\n",
              "    </tr>\n",
              "    <tr>\n",
              "      <th>7997</th>\n",
              "      <td>68f049a23ab109c6a0f6989bb9a02994</td>\n",
              "      <td>2017-08-27</td>\n",
              "      <td>b48ec5f3b04e9068441002a19df93c6c</td>\n",
              "      <td>organic_search</td>\n",
              "      <td>False</td>\n",
              "    </tr>\n",
              "    <tr>\n",
              "      <th>7998</th>\n",
              "      <td>4f8c96e2509b984329044c6682c88ee9</td>\n",
              "      <td>2017-10-06</td>\n",
              "      <td>a56671a54260a44923d32c2f08fad39c</td>\n",
              "      <td>organic_search</td>\n",
              "      <td>False</td>\n",
              "    </tr>\n",
              "    <tr>\n",
              "      <th>7999</th>\n",
              "      <td>8a6492305a5fbcdcdd1a7f5a90764c07</td>\n",
              "      <td>2018-01-11</td>\n",
              "      <td>b76ef37428e6799c421989521c0e5077</td>\n",
              "      <td>direct_traffic</td>\n",
              "      <td>True</td>\n",
              "    </tr>\n",
              "  </tbody>\n",
              "</table>\n",
              "<p>8000 rows × 5 columns</p>\n",
              "</div>"
            ],
            "text/plain": [
              "                                mql_id first_contact_date  \\\n",
              "0     dac32acd4db4c29c230538b72f8dd87d         2018-02-01   \n",
              "1     8c18d1de7f67e60dbd64e3c07d7e9d5d         2017-10-20   \n",
              "2     b4bc852d233dfefc5131f593b538befa         2018-03-22   \n",
              "3     6be030b81c75970747525b843c1ef4f8         2018-01-22   \n",
              "4     5420aad7fec3549a85876ba1c529bd84         2018-02-21   \n",
              "...                                ...                ...   \n",
              "7995  feaba3ffcd2ff97501696c7f9a42f41c         2018-05-22   \n",
              "7996  a79cb53cd009ab92e0143b92baa2407b         2018-03-27   \n",
              "7997  68f049a23ab109c6a0f6989bb9a02994         2017-08-27   \n",
              "7998  4f8c96e2509b984329044c6682c88ee9         2017-10-06   \n",
              "7999  8a6492305a5fbcdcdd1a7f5a90764c07         2018-01-11   \n",
              "\n",
              "                       landing_page_id          origin  deals  \n",
              "0     88740e65d5d6b056e0cda098e1ea6313          social  False  \n",
              "1     007f9098284a86ee80ddeb25d53e0af8     paid_search  False  \n",
              "2     a7982125ff7aa3b2054c6e44f9d28522  organic_search  False  \n",
              "3     d45d558f0daeecf3cccdffe3c59684aa           email  False  \n",
              "4     b48ec5f3b04e9068441002a19df93c6c  organic_search   True  \n",
              "...                                ...             ...    ...  \n",
              "7995  e42a14209c69c3e9cc6b042620465f12     paid_search  False  \n",
              "7996  c494978688ccf66ad9fad3d6a3338c22     paid_search  False  \n",
              "7997  b48ec5f3b04e9068441002a19df93c6c  organic_search  False  \n",
              "7998  a56671a54260a44923d32c2f08fad39c  organic_search  False  \n",
              "7999  b76ef37428e6799c421989521c0e5077  direct_traffic   True  \n",
              "\n",
              "[8000 rows x 5 columns]"
            ]
          },
          "execution_count": 168,
          "metadata": {},
          "output_type": "execute_result"
        }
      ],
      "source": [
        "data_for_seller"
      ]
    },
    {
      "cell_type": "code",
      "execution_count": null,
      "id": "f590a035",
      "metadata": {
        "id": "f590a035"
      },
      "outputs": [],
      "source": [
        "# change deals type as int\n",
        "data_for_seller['deals'] = data_for_seller['deals'].astype(int)"
      ]
    },
    {
      "cell_type": "code",
      "execution_count": null,
      "id": "5d0c1097",
      "metadata": {
        "id": "5d0c1097",
        "outputId": "d2d3dc3d-f616-4560-94d0-32820c285bab"
      },
      "outputs": [
        {
          "data": {
            "text/html": [
              "<div>\n",
              "<style scoped>\n",
              "    .dataframe tbody tr th:only-of-type {\n",
              "        vertical-align: middle;\n",
              "    }\n",
              "\n",
              "    .dataframe tbody tr th {\n",
              "        vertical-align: top;\n",
              "    }\n",
              "\n",
              "    .dataframe thead th {\n",
              "        text-align: right;\n",
              "    }\n",
              "</style>\n",
              "<table border=\"1\" class=\"dataframe\">\n",
              "  <thead>\n",
              "    <tr style=\"text-align: right;\">\n",
              "      <th></th>\n",
              "      <th>mql_id</th>\n",
              "      <th>first_contact_date</th>\n",
              "      <th>landing_page_id</th>\n",
              "      <th>origin</th>\n",
              "      <th>deals</th>\n",
              "    </tr>\n",
              "  </thead>\n",
              "  <tbody>\n",
              "    <tr>\n",
              "      <th>0</th>\n",
              "      <td>dac32acd4db4c29c230538b72f8dd87d</td>\n",
              "      <td>2018-02-01</td>\n",
              "      <td>88740e65d5d6b056e0cda098e1ea6313</td>\n",
              "      <td>social</td>\n",
              "      <td>0</td>\n",
              "    </tr>\n",
              "    <tr>\n",
              "      <th>1</th>\n",
              "      <td>8c18d1de7f67e60dbd64e3c07d7e9d5d</td>\n",
              "      <td>2017-10-20</td>\n",
              "      <td>007f9098284a86ee80ddeb25d53e0af8</td>\n",
              "      <td>paid_search</td>\n",
              "      <td>0</td>\n",
              "    </tr>\n",
              "    <tr>\n",
              "      <th>2</th>\n",
              "      <td>b4bc852d233dfefc5131f593b538befa</td>\n",
              "      <td>2018-03-22</td>\n",
              "      <td>a7982125ff7aa3b2054c6e44f9d28522</td>\n",
              "      <td>organic_search</td>\n",
              "      <td>0</td>\n",
              "    </tr>\n",
              "    <tr>\n",
              "      <th>3</th>\n",
              "      <td>6be030b81c75970747525b843c1ef4f8</td>\n",
              "      <td>2018-01-22</td>\n",
              "      <td>d45d558f0daeecf3cccdffe3c59684aa</td>\n",
              "      <td>email</td>\n",
              "      <td>0</td>\n",
              "    </tr>\n",
              "    <tr>\n",
              "      <th>4</th>\n",
              "      <td>5420aad7fec3549a85876ba1c529bd84</td>\n",
              "      <td>2018-02-21</td>\n",
              "      <td>b48ec5f3b04e9068441002a19df93c6c</td>\n",
              "      <td>organic_search</td>\n",
              "      <td>1</td>\n",
              "    </tr>\n",
              "    <tr>\n",
              "      <th>...</th>\n",
              "      <td>...</td>\n",
              "      <td>...</td>\n",
              "      <td>...</td>\n",
              "      <td>...</td>\n",
              "      <td>...</td>\n",
              "    </tr>\n",
              "    <tr>\n",
              "      <th>7995</th>\n",
              "      <td>feaba3ffcd2ff97501696c7f9a42f41c</td>\n",
              "      <td>2018-05-22</td>\n",
              "      <td>e42a14209c69c3e9cc6b042620465f12</td>\n",
              "      <td>paid_search</td>\n",
              "      <td>0</td>\n",
              "    </tr>\n",
              "    <tr>\n",
              "      <th>7996</th>\n",
              "      <td>a79cb53cd009ab92e0143b92baa2407b</td>\n",
              "      <td>2018-03-27</td>\n",
              "      <td>c494978688ccf66ad9fad3d6a3338c22</td>\n",
              "      <td>paid_search</td>\n",
              "      <td>0</td>\n",
              "    </tr>\n",
              "    <tr>\n",
              "      <th>7997</th>\n",
              "      <td>68f049a23ab109c6a0f6989bb9a02994</td>\n",
              "      <td>2017-08-27</td>\n",
              "      <td>b48ec5f3b04e9068441002a19df93c6c</td>\n",
              "      <td>organic_search</td>\n",
              "      <td>0</td>\n",
              "    </tr>\n",
              "    <tr>\n",
              "      <th>7998</th>\n",
              "      <td>4f8c96e2509b984329044c6682c88ee9</td>\n",
              "      <td>2017-10-06</td>\n",
              "      <td>a56671a54260a44923d32c2f08fad39c</td>\n",
              "      <td>organic_search</td>\n",
              "      <td>0</td>\n",
              "    </tr>\n",
              "    <tr>\n",
              "      <th>7999</th>\n",
              "      <td>8a6492305a5fbcdcdd1a7f5a90764c07</td>\n",
              "      <td>2018-01-11</td>\n",
              "      <td>b76ef37428e6799c421989521c0e5077</td>\n",
              "      <td>direct_traffic</td>\n",
              "      <td>1</td>\n",
              "    </tr>\n",
              "  </tbody>\n",
              "</table>\n",
              "<p>8000 rows × 5 columns</p>\n",
              "</div>"
            ],
            "text/plain": [
              "                                mql_id first_contact_date  \\\n",
              "0     dac32acd4db4c29c230538b72f8dd87d         2018-02-01   \n",
              "1     8c18d1de7f67e60dbd64e3c07d7e9d5d         2017-10-20   \n",
              "2     b4bc852d233dfefc5131f593b538befa         2018-03-22   \n",
              "3     6be030b81c75970747525b843c1ef4f8         2018-01-22   \n",
              "4     5420aad7fec3549a85876ba1c529bd84         2018-02-21   \n",
              "...                                ...                ...   \n",
              "7995  feaba3ffcd2ff97501696c7f9a42f41c         2018-05-22   \n",
              "7996  a79cb53cd009ab92e0143b92baa2407b         2018-03-27   \n",
              "7997  68f049a23ab109c6a0f6989bb9a02994         2017-08-27   \n",
              "7998  4f8c96e2509b984329044c6682c88ee9         2017-10-06   \n",
              "7999  8a6492305a5fbcdcdd1a7f5a90764c07         2018-01-11   \n",
              "\n",
              "                       landing_page_id          origin  deals  \n",
              "0     88740e65d5d6b056e0cda098e1ea6313          social      0  \n",
              "1     007f9098284a86ee80ddeb25d53e0af8     paid_search      0  \n",
              "2     a7982125ff7aa3b2054c6e44f9d28522  organic_search      0  \n",
              "3     d45d558f0daeecf3cccdffe3c59684aa           email      0  \n",
              "4     b48ec5f3b04e9068441002a19df93c6c  organic_search      1  \n",
              "...                                ...             ...    ...  \n",
              "7995  e42a14209c69c3e9cc6b042620465f12     paid_search      0  \n",
              "7996  c494978688ccf66ad9fad3d6a3338c22     paid_search      0  \n",
              "7997  b48ec5f3b04e9068441002a19df93c6c  organic_search      0  \n",
              "7998  a56671a54260a44923d32c2f08fad39c  organic_search      0  \n",
              "7999  b76ef37428e6799c421989521c0e5077  direct_traffic      1  \n",
              "\n",
              "[8000 rows x 5 columns]"
            ]
          },
          "execution_count": 170,
          "metadata": {},
          "output_type": "execute_result"
        }
      ],
      "source": [
        "data_for_seller"
      ]
    },
    {
      "cell_type": "markdown",
      "id": "ae71f79f",
      "metadata": {
        "id": "ae71f79f"
      },
      "source": [
        "## Data Preprocessing"
      ]
    },
    {
      "cell_type": "code",
      "execution_count": null,
      "id": "5f09ca3f",
      "metadata": {
        "id": "5f09ca3f"
      },
      "outputs": [],
      "source": [
        "# define a function calls calculation of prevalence\n",
        "def calc_prevalence(y):\n",
        " return (sum(y)/len(y))"
      ]
    },
    {
      "cell_type": "code",
      "execution_count": null,
      "id": "ca2a38e9",
      "metadata": {
        "id": "ca2a38e9",
        "outputId": "7a527ecd-dd51-4116-f9e5-1e186df06fe0"
      },
      "outputs": [
        {
          "data": {
            "text/plain": [
              "0.10525"
            ]
          },
          "execution_count": 172,
          "metadata": {},
          "output_type": "execute_result"
        }
      ],
      "source": [
        "calc_prevalence(data_for_seller.deals.values)"
      ]
    },
    {
      "cell_type": "markdown",
      "id": "0b7c3779",
      "metadata": {
        "id": "0b7c3779"
      },
      "source": [
        "Why do we need to create a prevalence function? The function is to see how big the percentage of the value of a variable in the 1 dataset is.\n",
        "\n",
        "In this case, only **1 in 10 sellers** closed the order."
      ]
    },
    {
      "cell_type": "code",
      "execution_count": null,
      "id": "08c094e7",
      "metadata": {
        "id": "08c094e7",
        "outputId": "de521b83-415b-4125-bdf7-fae5be752531"
      },
      "outputs": [
        {
          "data": {
            "text/plain": [
              "0    2018-02-01\n",
              "1    2017-10-20\n",
              "2    2018-03-22\n",
              "3    2018-01-22\n",
              "4    2018-02-21\n",
              "5    2018-01-14\n",
              "6    2018-05-15\n",
              "7    2018-05-24\n",
              "8    2017-11-10\n",
              "9    2017-12-25\n",
              "Name: first_contact_date, dtype: object"
            ]
          },
          "execution_count": 173,
          "metadata": {},
          "output_type": "execute_result"
        }
      ],
      "source": [
        "data_for_seller['first_contact_date'].head(10)"
      ]
    },
    {
      "cell_type": "code",
      "execution_count": null,
      "id": "87abb420",
      "metadata": {
        "id": "87abb420"
      },
      "outputs": [],
      "source": [
        "# change the first_contact_date into datetype\n",
        "data_for_seller['first_contact_date'] = pd.to_datetime(data_for_seller['first_contact_date'])"
      ]
    },
    {
      "cell_type": "code",
      "execution_count": null,
      "id": "9b81c51f",
      "metadata": {
        "id": "9b81c51f",
        "outputId": "751a3808-f191-48da-d46f-359f8c52f0aa"
      },
      "outputs": [
        {
          "data": {
            "text/plain": [
              "0   2018-02-01\n",
              "1   2017-10-20\n",
              "2   2018-03-22\n",
              "3   2018-01-22\n",
              "4   2018-02-21\n",
              "5   2018-01-14\n",
              "6   2018-05-15\n",
              "7   2018-05-24\n",
              "8   2017-11-10\n",
              "9   2017-12-25\n",
              "Name: first_contact_date, dtype: datetime64[ns]"
            ]
          },
          "execution_count": 175,
          "metadata": {},
          "output_type": "execute_result"
        }
      ],
      "source": [
        "# check\n",
        "data_for_seller['first_contact_date'].head(10)"
      ]
    },
    {
      "cell_type": "code",
      "execution_count": null,
      "id": "b3690132",
      "metadata": {
        "id": "b3690132",
        "outputId": "3a087fe6-22de-4bfe-f0a2-eee3bf036f38"
      },
      "outputs": [
        {
          "name": "stderr",
          "output_type": "stream",
          "text": [
            "<ipython-input-176-4d2dbccfd211>:4: FutureWarning: Series.dt.weekofyear and Series.dt.week have been deprecated.  Please use Series.dt.isocalendar().week instead.\n",
            "  data_for_seller['first_contact_date_week'] = data_for_seller['first_contact_date'].dt.week\n"
          ]
        }
      ],
      "source": [
        "# feature engineering on datetype columns\n",
        "data_for_seller['first_contact_date_year'] = data_for_seller['first_contact_date'].dt.year\n",
        "data_for_seller['first_contact_date_month'] = data_for_seller['first_contact_date'].dt.month\n",
        "data_for_seller['first_contact_date_week'] = data_for_seller['first_contact_date'].dt.week\n",
        "data_for_seller['first_contact_date_day'] = data_for_seller['first_contact_date'].dt.day"
      ]
    },
    {
      "cell_type": "code",
      "execution_count": null,
      "id": "dfbb73b7",
      "metadata": {
        "id": "dfbb73b7",
        "outputId": "a87bb51c-3028-41d0-9af4-afcae68c4186"
      },
      "outputs": [
        {
          "data": {
            "text/html": [
              "<div>\n",
              "<style scoped>\n",
              "    .dataframe tbody tr th:only-of-type {\n",
              "        vertical-align: middle;\n",
              "    }\n",
              "\n",
              "    .dataframe tbody tr th {\n",
              "        vertical-align: top;\n",
              "    }\n",
              "\n",
              "    .dataframe thead th {\n",
              "        text-align: right;\n",
              "    }\n",
              "</style>\n",
              "<table border=\"1\" class=\"dataframe\">\n",
              "  <thead>\n",
              "    <tr style=\"text-align: right;\">\n",
              "      <th></th>\n",
              "      <th>mql_id</th>\n",
              "      <th>first_contact_date</th>\n",
              "      <th>landing_page_id</th>\n",
              "      <th>origin</th>\n",
              "      <th>deals</th>\n",
              "      <th>first_contact_date_year</th>\n",
              "      <th>first_contact_date_month</th>\n",
              "      <th>first_contact_date_week</th>\n",
              "      <th>first_contact_date_day</th>\n",
              "    </tr>\n",
              "  </thead>\n",
              "  <tbody>\n",
              "    <tr>\n",
              "      <th>0</th>\n",
              "      <td>dac32acd4db4c29c230538b72f8dd87d</td>\n",
              "      <td>2018-02-01</td>\n",
              "      <td>88740e65d5d6b056e0cda098e1ea6313</td>\n",
              "      <td>social</td>\n",
              "      <td>0</td>\n",
              "      <td>2018</td>\n",
              "      <td>2</td>\n",
              "      <td>5</td>\n",
              "      <td>1</td>\n",
              "    </tr>\n",
              "    <tr>\n",
              "      <th>1</th>\n",
              "      <td>8c18d1de7f67e60dbd64e3c07d7e9d5d</td>\n",
              "      <td>2017-10-20</td>\n",
              "      <td>007f9098284a86ee80ddeb25d53e0af8</td>\n",
              "      <td>paid_search</td>\n",
              "      <td>0</td>\n",
              "      <td>2017</td>\n",
              "      <td>10</td>\n",
              "      <td>42</td>\n",
              "      <td>20</td>\n",
              "    </tr>\n",
              "    <tr>\n",
              "      <th>2</th>\n",
              "      <td>b4bc852d233dfefc5131f593b538befa</td>\n",
              "      <td>2018-03-22</td>\n",
              "      <td>a7982125ff7aa3b2054c6e44f9d28522</td>\n",
              "      <td>organic_search</td>\n",
              "      <td>0</td>\n",
              "      <td>2018</td>\n",
              "      <td>3</td>\n",
              "      <td>12</td>\n",
              "      <td>22</td>\n",
              "    </tr>\n",
              "    <tr>\n",
              "      <th>3</th>\n",
              "      <td>6be030b81c75970747525b843c1ef4f8</td>\n",
              "      <td>2018-01-22</td>\n",
              "      <td>d45d558f0daeecf3cccdffe3c59684aa</td>\n",
              "      <td>email</td>\n",
              "      <td>0</td>\n",
              "      <td>2018</td>\n",
              "      <td>1</td>\n",
              "      <td>4</td>\n",
              "      <td>22</td>\n",
              "    </tr>\n",
              "    <tr>\n",
              "      <th>4</th>\n",
              "      <td>5420aad7fec3549a85876ba1c529bd84</td>\n",
              "      <td>2018-02-21</td>\n",
              "      <td>b48ec5f3b04e9068441002a19df93c6c</td>\n",
              "      <td>organic_search</td>\n",
              "      <td>1</td>\n",
              "      <td>2018</td>\n",
              "      <td>2</td>\n",
              "      <td>8</td>\n",
              "      <td>21</td>\n",
              "    </tr>\n",
              "    <tr>\n",
              "      <th>...</th>\n",
              "      <td>...</td>\n",
              "      <td>...</td>\n",
              "      <td>...</td>\n",
              "      <td>...</td>\n",
              "      <td>...</td>\n",
              "      <td>...</td>\n",
              "      <td>...</td>\n",
              "      <td>...</td>\n",
              "      <td>...</td>\n",
              "    </tr>\n",
              "    <tr>\n",
              "      <th>7995</th>\n",
              "      <td>feaba3ffcd2ff97501696c7f9a42f41c</td>\n",
              "      <td>2018-05-22</td>\n",
              "      <td>e42a14209c69c3e9cc6b042620465f12</td>\n",
              "      <td>paid_search</td>\n",
              "      <td>0</td>\n",
              "      <td>2018</td>\n",
              "      <td>5</td>\n",
              "      <td>21</td>\n",
              "      <td>22</td>\n",
              "    </tr>\n",
              "    <tr>\n",
              "      <th>7996</th>\n",
              "      <td>a79cb53cd009ab92e0143b92baa2407b</td>\n",
              "      <td>2018-03-27</td>\n",
              "      <td>c494978688ccf66ad9fad3d6a3338c22</td>\n",
              "      <td>paid_search</td>\n",
              "      <td>0</td>\n",
              "      <td>2018</td>\n",
              "      <td>3</td>\n",
              "      <td>13</td>\n",
              "      <td>27</td>\n",
              "    </tr>\n",
              "    <tr>\n",
              "      <th>7997</th>\n",
              "      <td>68f049a23ab109c6a0f6989bb9a02994</td>\n",
              "      <td>2017-08-27</td>\n",
              "      <td>b48ec5f3b04e9068441002a19df93c6c</td>\n",
              "      <td>organic_search</td>\n",
              "      <td>0</td>\n",
              "      <td>2017</td>\n",
              "      <td>8</td>\n",
              "      <td>34</td>\n",
              "      <td>27</td>\n",
              "    </tr>\n",
              "    <tr>\n",
              "      <th>7998</th>\n",
              "      <td>4f8c96e2509b984329044c6682c88ee9</td>\n",
              "      <td>2017-10-06</td>\n",
              "      <td>a56671a54260a44923d32c2f08fad39c</td>\n",
              "      <td>organic_search</td>\n",
              "      <td>0</td>\n",
              "      <td>2017</td>\n",
              "      <td>10</td>\n",
              "      <td>40</td>\n",
              "      <td>6</td>\n",
              "    </tr>\n",
              "    <tr>\n",
              "      <th>7999</th>\n",
              "      <td>8a6492305a5fbcdcdd1a7f5a90764c07</td>\n",
              "      <td>2018-01-11</td>\n",
              "      <td>b76ef37428e6799c421989521c0e5077</td>\n",
              "      <td>direct_traffic</td>\n",
              "      <td>1</td>\n",
              "      <td>2018</td>\n",
              "      <td>1</td>\n",
              "      <td>2</td>\n",
              "      <td>11</td>\n",
              "    </tr>\n",
              "  </tbody>\n",
              "</table>\n",
              "<p>8000 rows × 9 columns</p>\n",
              "</div>"
            ],
            "text/plain": [
              "                                mql_id first_contact_date  \\\n",
              "0     dac32acd4db4c29c230538b72f8dd87d         2018-02-01   \n",
              "1     8c18d1de7f67e60dbd64e3c07d7e9d5d         2017-10-20   \n",
              "2     b4bc852d233dfefc5131f593b538befa         2018-03-22   \n",
              "3     6be030b81c75970747525b843c1ef4f8         2018-01-22   \n",
              "4     5420aad7fec3549a85876ba1c529bd84         2018-02-21   \n",
              "...                                ...                ...   \n",
              "7995  feaba3ffcd2ff97501696c7f9a42f41c         2018-05-22   \n",
              "7996  a79cb53cd009ab92e0143b92baa2407b         2018-03-27   \n",
              "7997  68f049a23ab109c6a0f6989bb9a02994         2017-08-27   \n",
              "7998  4f8c96e2509b984329044c6682c88ee9         2017-10-06   \n",
              "7999  8a6492305a5fbcdcdd1a7f5a90764c07         2018-01-11   \n",
              "\n",
              "                       landing_page_id          origin  deals  \\\n",
              "0     88740e65d5d6b056e0cda098e1ea6313          social      0   \n",
              "1     007f9098284a86ee80ddeb25d53e0af8     paid_search      0   \n",
              "2     a7982125ff7aa3b2054c6e44f9d28522  organic_search      0   \n",
              "3     d45d558f0daeecf3cccdffe3c59684aa           email      0   \n",
              "4     b48ec5f3b04e9068441002a19df93c6c  organic_search      1   \n",
              "...                                ...             ...    ...   \n",
              "7995  e42a14209c69c3e9cc6b042620465f12     paid_search      0   \n",
              "7996  c494978688ccf66ad9fad3d6a3338c22     paid_search      0   \n",
              "7997  b48ec5f3b04e9068441002a19df93c6c  organic_search      0   \n",
              "7998  a56671a54260a44923d32c2f08fad39c  organic_search      0   \n",
              "7999  b76ef37428e6799c421989521c0e5077  direct_traffic      1   \n",
              "\n",
              "      first_contact_date_year  first_contact_date_month  \\\n",
              "0                        2018                         2   \n",
              "1                        2017                        10   \n",
              "2                        2018                         3   \n",
              "3                        2018                         1   \n",
              "4                        2018                         2   \n",
              "...                       ...                       ...   \n",
              "7995                     2018                         5   \n",
              "7996                     2018                         3   \n",
              "7997                     2017                         8   \n",
              "7998                     2017                        10   \n",
              "7999                     2018                         1   \n",
              "\n",
              "      first_contact_date_week  first_contact_date_day  \n",
              "0                           5                       1  \n",
              "1                          42                      20  \n",
              "2                          12                      22  \n",
              "3                           4                      22  \n",
              "4                           8                      21  \n",
              "...                       ...                     ...  \n",
              "7995                       21                      22  \n",
              "7996                       13                      27  \n",
              "7997                       34                      27  \n",
              "7998                       40                       6  \n",
              "7999                        2                      11  \n",
              "\n",
              "[8000 rows x 9 columns]"
            ]
          },
          "execution_count": 177,
          "metadata": {},
          "output_type": "execute_result"
        }
      ],
      "source": [
        "# check the data\n",
        "data_for_seller"
      ]
    },
    {
      "cell_type": "code",
      "execution_count": null,
      "id": "953fc0f2",
      "metadata": {
        "id": "953fc0f2",
        "outputId": "3868df19-fe89-4d6b-fb3b-3f9f23146545"
      },
      "outputs": [
        {
          "name": "stdout",
          "output_type": "stream",
          "text": [
            "first_contact_date_year\n",
            "2017    2002\n",
            "2018    5998\n",
            "dtype: int64\n",
            "first_contact_date_month\n",
            "1     1141\n",
            "2     1028\n",
            "3     1174\n",
            "4     1352\n",
            "5     1303\n",
            "6        4\n",
            "7      239\n",
            "8      386\n",
            "9      312\n",
            "10     416\n",
            "11     445\n",
            "12     200\n",
            "dtype: int64\n",
            "first_contact_date_week\n",
            "1     216\n",
            "2     257\n",
            "3     247\n",
            "4     268\n",
            "5     271\n",
            "6     264\n",
            "7     220\n",
            "8     270\n",
            "9     261\n",
            "10    261\n",
            "11    298\n",
            "12    279\n",
            "13    250\n",
            "14    338\n",
            "15    298\n",
            "16    328\n",
            "17    316\n",
            "18    303\n",
            "19    288\n",
            "20    304\n",
            "21    311\n",
            "22    150\n",
            "24      3\n",
            "25      1\n",
            "26      1\n",
            "27     42\n",
            "28     51\n",
            "29     67\n",
            "30     59\n",
            "31     87\n",
            "32     83\n",
            "33     91\n",
            "34     85\n",
            "35     77\n",
            "36     69\n",
            "37     90\n",
            "38     69\n",
            "39     74\n",
            "40     90\n",
            "41     61\n",
            "42    105\n",
            "43    117\n",
            "44     90\n",
            "45     96\n",
            "46     99\n",
            "47    126\n",
            "48     88\n",
            "49     26\n",
            "50     33\n",
            "51     43\n",
            "52     79\n",
            "dtype: int64\n",
            "first_contact_date_day\n",
            "1     215\n",
            "2     298\n",
            "3     229\n",
            "4     247\n",
            "5     268\n",
            "6     272\n",
            "7     288\n",
            "8     264\n",
            "9     254\n",
            "10    265\n",
            "11    204\n",
            "12    254\n",
            "13    220\n",
            "14    276\n",
            "15    296\n",
            "16    300\n",
            "17    239\n",
            "18    232\n",
            "19    268\n",
            "20    257\n",
            "21    288\n",
            "22    316\n",
            "23    293\n",
            "24    251\n",
            "25    265\n",
            "26    328\n",
            "27    256\n",
            "28    266\n",
            "29    222\n",
            "30    228\n",
            "31    141\n",
            "dtype: int64\n"
          ]
        }
      ],
      "source": [
        "# count the value\n",
        "print(data_for_seller.groupby('first_contact_date_year').size())\n",
        "print(data_for_seller.groupby('first_contact_date_month').size())\n",
        "print(data_for_seller.groupby('first_contact_date_week').size())\n",
        "print(data_for_seller.groupby('first_contact_date_day').size())"
      ]
    },
    {
      "cell_type": "markdown",
      "id": "9f442e3d",
      "metadata": {
        "id": "9f442e3d"
      },
      "source": [
        "**Simple Interpretation:**\n",
        "\n",
        "Based on the value count, month of July very few even close to 0 people contacted to become a seller. The year 2017 contributed the most potential potential sellers."
      ]
    },
    {
      "cell_type": "code",
      "execution_count": null,
      "id": "776ab913",
      "metadata": {
        "id": "776ab913",
        "outputId": "18c116b0-f089-4084-badd-799c611f1e74"
      },
      "outputs": [
        {
          "name": "stdout",
          "output_type": "stream",
          "text": [
            "first_contact_date_year\n",
            "2017    0.03047\n",
            "2018    0.13021\n",
            "dtype: float64\n",
            "first_contact_date_month\n",
            "1     0.133216\n",
            "2     0.144942\n",
            "3     0.142249\n",
            "4     0.135355\n",
            "5     0.099770\n",
            "6     0.000000\n",
            "7     0.008368\n",
            "8     0.023316\n",
            "9     0.022436\n",
            "10    0.033654\n",
            "11    0.040449\n",
            "12    0.055000\n",
            "dtype: float64\n",
            "first_contact_date_week\n",
            "1     0.115741\n",
            "2     0.167315\n",
            "3     0.109312\n",
            "4     0.134328\n",
            "5     0.151292\n",
            "6     0.132576\n",
            "7     0.177273\n",
            "8     0.122222\n",
            "9     0.157088\n",
            "10    0.134100\n",
            "11    0.127517\n",
            "12    0.157706\n",
            "13    0.128000\n",
            "14    0.180473\n",
            "15    0.134228\n",
            "16    0.137195\n",
            "17    0.098101\n",
            "18    0.089109\n",
            "19    0.142361\n",
            "20    0.062500\n",
            "21    0.106109\n",
            "22    0.100000\n",
            "24    0.000000\n",
            "25    0.000000\n",
            "26    0.000000\n",
            "27    0.000000\n",
            "28    0.039216\n",
            "29    0.000000\n",
            "30    0.000000\n",
            "31    0.011494\n",
            "32    0.000000\n",
            "33    0.043956\n",
            "34    0.011765\n",
            "35    0.051948\n",
            "36    0.000000\n",
            "37    0.011111\n",
            "38    0.043478\n",
            "39    0.027027\n",
            "40    0.011111\n",
            "41    0.049180\n",
            "42    0.066667\n",
            "43    0.025641\n",
            "44    0.011111\n",
            "45    0.062500\n",
            "46    0.040404\n",
            "47    0.039683\n",
            "48    0.034091\n",
            "49    0.153846\n",
            "50    0.060606\n",
            "51    0.046512\n",
            "52    0.025316\n",
            "dtype: float64\n",
            "first_contact_date_day\n",
            "1     0.065116\n",
            "2     0.114094\n",
            "3     0.122271\n",
            "4     0.129555\n",
            "5     0.111940\n",
            "6     0.125000\n",
            "7     0.100694\n",
            "8     0.125000\n",
            "9     0.122047\n",
            "10    0.120755\n",
            "11    0.132353\n",
            "12    0.153543\n",
            "13    0.104545\n",
            "14    0.083333\n",
            "15    0.087838\n",
            "16    0.110000\n",
            "17    0.087866\n",
            "18    0.107759\n",
            "19    0.115672\n",
            "20    0.108949\n",
            "21    0.079861\n",
            "22    0.104430\n",
            "23    0.116041\n",
            "24    0.107570\n",
            "25    0.098113\n",
            "26    0.091463\n",
            "27    0.078125\n",
            "28    0.097744\n",
            "29    0.090090\n",
            "30    0.092105\n",
            "31    0.063830\n",
            "dtype: float64\n"
          ]
        }
      ],
      "source": [
        "# prevalence calculation on every feature of first_contach_date\n",
        "print(data_for_seller.groupby('first_contact_date_year').apply(lambda g: calc_prevalence(g.deals.values)))\n",
        "print(data_for_seller.groupby('first_contact_date_month').apply(lambda g: calc_prevalence(g.deals.values)))\n",
        "print(data_for_seller.groupby('first_contact_date_week').apply(lambda g: calc_prevalence(g.deals.values)))\n",
        "print(data_for_seller.groupby('first_contact_date_day').apply(lambda g: calc_prevalence(g.deals.values)))"
      ]
    },
    {
      "cell_type": "markdown",
      "id": "f0ad52a8",
      "metadata": {
        "id": "f0ad52a8"
      },
      "source": [
        "**Simple Interpretation:**\n",
        "\n",
        "Based on the calculation of the prevalence, it was found that:\n",
        "    \n",
        "    1. The year 2018 had the most contributions from sellers who made sales deals\n",
        "    2. In February and March, as many as 1 in 10 sellers managed to make a sale and decided to become a seller."
      ]
    },
    {
      "cell_type": "code",
      "execution_count": null,
      "id": "ceb80b91",
      "metadata": {
        "id": "ceb80b91"
      },
      "outputs": [],
      "source": [
        "from sklearn.model_selection import train_test_split\n",
        "\n",
        "# split train and test\n",
        "X = data_for_seller.drop(['deals','landing_page_id','first_contact_date'], axis = 1)\n",
        "y = data_for_seller['deals']\n",
        "ids = X['mql_id']\n",
        "X.drop(['mql_id'], axis=1, inplace=True)\n",
        "\n",
        "X_train, X_test, y_train, y_test= train_test_split(X, y, test_size=0.25, random_state=101)"
      ]
    },
    {
      "cell_type": "code",
      "execution_count": null,
      "id": "f056d86e",
      "metadata": {
        "id": "f056d86e",
        "outputId": "22231095-4168-455d-8208-35f28f4d851b"
      },
      "outputs": [
        {
          "name": "stdout",
          "output_type": "stream",
          "text": [
            "(6000, 5)\n",
            "<class 'pandas.core.frame.DataFrame'>\n",
            "Int64Index: 6000 entries, 6529 to 4959\n",
            "Data columns (total 5 columns):\n",
            " #   Column                    Non-Null Count  Dtype \n",
            "---  ------                    --------------  ----- \n",
            " 0   origin                    5961 non-null   object\n",
            " 1   first_contact_date_year   6000 non-null   int64 \n",
            " 2   first_contact_date_month  6000 non-null   int64 \n",
            " 3   first_contact_date_week   6000 non-null   int64 \n",
            " 4   first_contact_date_day    6000 non-null   int64 \n",
            "dtypes: int64(4), object(1)\n",
            "memory usage: 281.2+ KB\n",
            "None\n"
          ]
        }
      ],
      "source": [
        "# check shape and info\n",
        "print(X_train.shape)\n",
        "print(X_train.info())"
      ]
    },
    {
      "cell_type": "code",
      "execution_count": null,
      "id": "a59b3edb",
      "metadata": {
        "id": "a59b3edb",
        "outputId": "be198716-1144-42a4-fddf-771e9465ec82"
      },
      "outputs": [
        {
          "name": "stdout",
          "output_type": "stream",
          "text": [
            "(2000, 5)\n",
            "<class 'pandas.core.frame.DataFrame'>\n",
            "Int64Index: 2000 entries, 7289 to 5271\n",
            "Data columns (total 5 columns):\n",
            " #   Column                    Non-Null Count  Dtype \n",
            "---  ------                    --------------  ----- \n",
            " 0   origin                    1979 non-null   object\n",
            " 1   first_contact_date_year   2000 non-null   int64 \n",
            " 2   first_contact_date_month  2000 non-null   int64 \n",
            " 3   first_contact_date_week   2000 non-null   int64 \n",
            " 4   first_contact_date_day    2000 non-null   int64 \n",
            "dtypes: int64(4), object(1)\n",
            "memory usage: 93.8+ KB\n",
            "None\n"
          ]
        }
      ],
      "source": [
        "# check shape and info on test data\n",
        "print(X_test.shape)\n",
        "print(X_test.info())"
      ]
    },
    {
      "cell_type": "code",
      "execution_count": null,
      "id": "1bca0ffb",
      "metadata": {
        "id": "1bca0ffb"
      },
      "outputs": [],
      "source": [
        "# missing value handling\n",
        "\n",
        "from sklearn.impute import SimpleImputer\n",
        "\n",
        "imputer = SimpleImputer(strategy='most_frequent')\n",
        "\n",
        "imputed_X_train = pd.DataFrame(imputer.fit_transform(X_train))\n",
        "imputed_X_test = pd.DataFrame(imputer.transform(X_test))\n",
        "\n",
        "imputed_X_train.columns = X_train.columns\n",
        "imputed_X_test.columns = X_test.columns"
      ]
    },
    {
      "cell_type": "code",
      "execution_count": null,
      "id": "07cb4417",
      "metadata": {
        "id": "07cb4417",
        "outputId": "f9c3ab53-c2b4-4fef-cef4-50c8b9824d42"
      },
      "outputs": [
        {
          "name": "stdout",
          "output_type": "stream",
          "text": [
            "<class 'pandas.core.frame.DataFrame'>\n",
            "RangeIndex: 6000 entries, 0 to 5999\n",
            "Data columns (total 5 columns):\n",
            " #   Column                    Non-Null Count  Dtype \n",
            "---  ------                    --------------  ----- \n",
            " 0   origin                    6000 non-null   object\n",
            " 1   first_contact_date_year   6000 non-null   object\n",
            " 2   first_contact_date_month  6000 non-null   object\n",
            " 3   first_contact_date_week   6000 non-null   object\n",
            " 4   first_contact_date_day    6000 non-null   object\n",
            "dtypes: object(5)\n",
            "memory usage: 234.5+ KB\n",
            "None\n",
            "<class 'pandas.core.frame.DataFrame'>\n",
            "RangeIndex: 2000 entries, 0 to 1999\n",
            "Data columns (total 5 columns):\n",
            " #   Column                    Non-Null Count  Dtype \n",
            "---  ------                    --------------  ----- \n",
            " 0   origin                    2000 non-null   object\n",
            " 1   first_contact_date_year   2000 non-null   object\n",
            " 2   first_contact_date_month  2000 non-null   object\n",
            " 3   first_contact_date_week   2000 non-null   object\n",
            " 4   first_contact_date_day    2000 non-null   object\n",
            "dtypes: object(5)\n",
            "memory usage: 78.2+ KB\n",
            "None\n"
          ]
        }
      ],
      "source": [
        "# check the imputed\n",
        "print(imputed_X_train.info())\n",
        "print(imputed_X_test.info())"
      ]
    },
    {
      "cell_type": "code",
      "execution_count": null,
      "id": "2d970763",
      "metadata": {
        "id": "2d970763"
      },
      "outputs": [],
      "source": [
        "# change to int\n",
        "imputed_X_train['first_contact_date_year'] = imputed_X_train['first_contact_date_year'].astype('int')\n",
        "imputed_X_train['first_contact_date_month'] = imputed_X_train['first_contact_date_month'].astype('int')\n",
        "imputed_X_train['first_contact_date_week'] = imputed_X_train['first_contact_date_week'].astype('int')\n",
        "imputed_X_train['first_contact_date_day'] = imputed_X_train['first_contact_date_day'].astype('int')\n",
        "imputed_X_test['first_contact_date_year'] = imputed_X_test['first_contact_date_year'].astype('int')\n",
        "imputed_X_test['first_contact_date_month'] = imputed_X_test['first_contact_date_month'].astype('int')\n",
        "imputed_X_test['first_contact_date_week'] = imputed_X_test['first_contact_date_week'].astype('int')\n",
        "imputed_X_test['first_contact_date_day'] = imputed_X_test['first_contact_date_day'].astype('int')"
      ]
    },
    {
      "cell_type": "code",
      "execution_count": null,
      "id": "aa2151ba",
      "metadata": {
        "id": "aa2151ba"
      },
      "outputs": [],
      "source": [
        "# one-hot encoding\n",
        "imputed_X_train = pd.get_dummies(imputed_X_train, columns=['origin'])\n",
        "imputed_X_test = pd.get_dummies(imputed_X_test, columns=['origin'])"
      ]
    },
    {
      "cell_type": "code",
      "execution_count": null,
      "id": "d50ed36a",
      "metadata": {
        "id": "d50ed36a",
        "outputId": "2e191eb0-a3da-486c-9424-9cd86f5ccfc6"
      },
      "outputs": [
        {
          "data": {
            "text/html": [
              "<div>\n",
              "<style scoped>\n",
              "    .dataframe tbody tr th:only-of-type {\n",
              "        vertical-align: middle;\n",
              "    }\n",
              "\n",
              "    .dataframe tbody tr th {\n",
              "        vertical-align: top;\n",
              "    }\n",
              "\n",
              "    .dataframe thead th {\n",
              "        text-align: right;\n",
              "    }\n",
              "</style>\n",
              "<table border=\"1\" class=\"dataframe\">\n",
              "  <thead>\n",
              "    <tr style=\"text-align: right;\">\n",
              "      <th></th>\n",
              "      <th>first_contact_date_year</th>\n",
              "      <th>first_contact_date_month</th>\n",
              "      <th>first_contact_date_week</th>\n",
              "      <th>first_contact_date_day</th>\n",
              "      <th>origin_direct_traffic</th>\n",
              "      <th>origin_display</th>\n",
              "      <th>origin_email</th>\n",
              "      <th>origin_organic_search</th>\n",
              "      <th>origin_other</th>\n",
              "      <th>origin_other_publicities</th>\n",
              "      <th>origin_paid_search</th>\n",
              "      <th>origin_referral</th>\n",
              "      <th>origin_social</th>\n",
              "      <th>origin_unknown</th>\n",
              "    </tr>\n",
              "  </thead>\n",
              "  <tbody>\n",
              "    <tr>\n",
              "      <th>0</th>\n",
              "      <td>2018</td>\n",
              "      <td>3</td>\n",
              "      <td>12</td>\n",
              "      <td>21</td>\n",
              "      <td>0</td>\n",
              "      <td>0</td>\n",
              "      <td>0</td>\n",
              "      <td>1</td>\n",
              "      <td>0</td>\n",
              "      <td>0</td>\n",
              "      <td>0</td>\n",
              "      <td>0</td>\n",
              "      <td>0</td>\n",
              "      <td>0</td>\n",
              "    </tr>\n",
              "    <tr>\n",
              "      <th>1</th>\n",
              "      <td>2018</td>\n",
              "      <td>4</td>\n",
              "      <td>16</td>\n",
              "      <td>16</td>\n",
              "      <td>0</td>\n",
              "      <td>0</td>\n",
              "      <td>0</td>\n",
              "      <td>0</td>\n",
              "      <td>0</td>\n",
              "      <td>0</td>\n",
              "      <td>0</td>\n",
              "      <td>1</td>\n",
              "      <td>0</td>\n",
              "      <td>0</td>\n",
              "    </tr>\n",
              "    <tr>\n",
              "      <th>2</th>\n",
              "      <td>2018</td>\n",
              "      <td>3</td>\n",
              "      <td>10</td>\n",
              "      <td>8</td>\n",
              "      <td>0</td>\n",
              "      <td>0</td>\n",
              "      <td>0</td>\n",
              "      <td>1</td>\n",
              "      <td>0</td>\n",
              "      <td>0</td>\n",
              "      <td>0</td>\n",
              "      <td>0</td>\n",
              "      <td>0</td>\n",
              "      <td>0</td>\n",
              "    </tr>\n",
              "    <tr>\n",
              "      <th>3</th>\n",
              "      <td>2018</td>\n",
              "      <td>1</td>\n",
              "      <td>4</td>\n",
              "      <td>22</td>\n",
              "      <td>0</td>\n",
              "      <td>0</td>\n",
              "      <td>0</td>\n",
              "      <td>0</td>\n",
              "      <td>0</td>\n",
              "      <td>0</td>\n",
              "      <td>1</td>\n",
              "      <td>0</td>\n",
              "      <td>0</td>\n",
              "      <td>0</td>\n",
              "    </tr>\n",
              "    <tr>\n",
              "      <th>4</th>\n",
              "      <td>2018</td>\n",
              "      <td>4</td>\n",
              "      <td>14</td>\n",
              "      <td>7</td>\n",
              "      <td>0</td>\n",
              "      <td>0</td>\n",
              "      <td>0</td>\n",
              "      <td>0</td>\n",
              "      <td>0</td>\n",
              "      <td>0</td>\n",
              "      <td>0</td>\n",
              "      <td>0</td>\n",
              "      <td>0</td>\n",
              "      <td>1</td>\n",
              "    </tr>\n",
              "    <tr>\n",
              "      <th>...</th>\n",
              "      <td>...</td>\n",
              "      <td>...</td>\n",
              "      <td>...</td>\n",
              "      <td>...</td>\n",
              "      <td>...</td>\n",
              "      <td>...</td>\n",
              "      <td>...</td>\n",
              "      <td>...</td>\n",
              "      <td>...</td>\n",
              "      <td>...</td>\n",
              "      <td>...</td>\n",
              "      <td>...</td>\n",
              "      <td>...</td>\n",
              "      <td>...</td>\n",
              "    </tr>\n",
              "    <tr>\n",
              "      <th>5995</th>\n",
              "      <td>2017</td>\n",
              "      <td>8</td>\n",
              "      <td>35</td>\n",
              "      <td>28</td>\n",
              "      <td>0</td>\n",
              "      <td>0</td>\n",
              "      <td>0</td>\n",
              "      <td>0</td>\n",
              "      <td>0</td>\n",
              "      <td>0</td>\n",
              "      <td>1</td>\n",
              "      <td>0</td>\n",
              "      <td>0</td>\n",
              "      <td>0</td>\n",
              "    </tr>\n",
              "    <tr>\n",
              "      <th>5996</th>\n",
              "      <td>2017</td>\n",
              "      <td>8</td>\n",
              "      <td>35</td>\n",
              "      <td>29</td>\n",
              "      <td>0</td>\n",
              "      <td>0</td>\n",
              "      <td>0</td>\n",
              "      <td>1</td>\n",
              "      <td>0</td>\n",
              "      <td>0</td>\n",
              "      <td>0</td>\n",
              "      <td>0</td>\n",
              "      <td>0</td>\n",
              "      <td>0</td>\n",
              "    </tr>\n",
              "    <tr>\n",
              "      <th>5997</th>\n",
              "      <td>2018</td>\n",
              "      <td>1</td>\n",
              "      <td>4</td>\n",
              "      <td>22</td>\n",
              "      <td>0</td>\n",
              "      <td>0</td>\n",
              "      <td>1</td>\n",
              "      <td>0</td>\n",
              "      <td>0</td>\n",
              "      <td>0</td>\n",
              "      <td>0</td>\n",
              "      <td>0</td>\n",
              "      <td>0</td>\n",
              "      <td>0</td>\n",
              "    </tr>\n",
              "    <tr>\n",
              "      <th>5998</th>\n",
              "      <td>2017</td>\n",
              "      <td>11</td>\n",
              "      <td>44</td>\n",
              "      <td>4</td>\n",
              "      <td>0</td>\n",
              "      <td>0</td>\n",
              "      <td>0</td>\n",
              "      <td>1</td>\n",
              "      <td>0</td>\n",
              "      <td>0</td>\n",
              "      <td>0</td>\n",
              "      <td>0</td>\n",
              "      <td>0</td>\n",
              "      <td>0</td>\n",
              "    </tr>\n",
              "    <tr>\n",
              "      <th>5999</th>\n",
              "      <td>2018</td>\n",
              "      <td>2</td>\n",
              "      <td>9</td>\n",
              "      <td>27</td>\n",
              "      <td>1</td>\n",
              "      <td>0</td>\n",
              "      <td>0</td>\n",
              "      <td>0</td>\n",
              "      <td>0</td>\n",
              "      <td>0</td>\n",
              "      <td>0</td>\n",
              "      <td>0</td>\n",
              "      <td>0</td>\n",
              "      <td>0</td>\n",
              "    </tr>\n",
              "  </tbody>\n",
              "</table>\n",
              "<p>6000 rows × 14 columns</p>\n",
              "</div>"
            ],
            "text/plain": [
              "      first_contact_date_year  first_contact_date_month  \\\n",
              "0                        2018                         3   \n",
              "1                        2018                         4   \n",
              "2                        2018                         3   \n",
              "3                        2018                         1   \n",
              "4                        2018                         4   \n",
              "...                       ...                       ...   \n",
              "5995                     2017                         8   \n",
              "5996                     2017                         8   \n",
              "5997                     2018                         1   \n",
              "5998                     2017                        11   \n",
              "5999                     2018                         2   \n",
              "\n",
              "      first_contact_date_week  first_contact_date_day  origin_direct_traffic  \\\n",
              "0                          12                      21                      0   \n",
              "1                          16                      16                      0   \n",
              "2                          10                       8                      0   \n",
              "3                           4                      22                      0   \n",
              "4                          14                       7                      0   \n",
              "...                       ...                     ...                    ...   \n",
              "5995                       35                      28                      0   \n",
              "5996                       35                      29                      0   \n",
              "5997                        4                      22                      0   \n",
              "5998                       44                       4                      0   \n",
              "5999                        9                      27                      1   \n",
              "\n",
              "      origin_display  origin_email  origin_organic_search  origin_other  \\\n",
              "0                  0             0                      1             0   \n",
              "1                  0             0                      0             0   \n",
              "2                  0             0                      1             0   \n",
              "3                  0             0                      0             0   \n",
              "4                  0             0                      0             0   \n",
              "...              ...           ...                    ...           ...   \n",
              "5995               0             0                      0             0   \n",
              "5996               0             0                      1             0   \n",
              "5997               0             1                      0             0   \n",
              "5998               0             0                      1             0   \n",
              "5999               0             0                      0             0   \n",
              "\n",
              "      origin_other_publicities  origin_paid_search  origin_referral  \\\n",
              "0                            0                   0                0   \n",
              "1                            0                   0                1   \n",
              "2                            0                   0                0   \n",
              "3                            0                   1                0   \n",
              "4                            0                   0                0   \n",
              "...                        ...                 ...              ...   \n",
              "5995                         0                   1                0   \n",
              "5996                         0                   0                0   \n",
              "5997                         0                   0                0   \n",
              "5998                         0                   0                0   \n",
              "5999                         0                   0                0   \n",
              "\n",
              "      origin_social  origin_unknown  \n",
              "0                 0               0  \n",
              "1                 0               0  \n",
              "2                 0               0  \n",
              "3                 0               0  \n",
              "4                 0               1  \n",
              "...             ...             ...  \n",
              "5995              0               0  \n",
              "5996              0               0  \n",
              "5997              0               0  \n",
              "5998              0               0  \n",
              "5999              0               0  \n",
              "\n",
              "[6000 rows x 14 columns]"
            ]
          },
          "execution_count": 187,
          "metadata": {},
          "output_type": "execute_result"
        }
      ],
      "source": [
        "imputed_X_train"
      ]
    },
    {
      "cell_type": "code",
      "execution_count": null,
      "id": "f8ae9e76",
      "metadata": {
        "id": "f8ae9e76",
        "outputId": "621972bb-2feb-489a-ae18-2e94cbc3bd12"
      },
      "outputs": [
        {
          "name": "stdout",
          "output_type": "stream",
          "text": [
            "<class 'pandas.core.frame.DataFrame'>\n",
            "RangeIndex: 6000 entries, 0 to 5999\n",
            "Data columns (total 14 columns):\n",
            " #   Column                    Non-Null Count  Dtype\n",
            "---  ------                    --------------  -----\n",
            " 0   first_contact_date_year   6000 non-null   int32\n",
            " 1   first_contact_date_month  6000 non-null   int32\n",
            " 2   first_contact_date_week   6000 non-null   int32\n",
            " 3   first_contact_date_day    6000 non-null   int32\n",
            " 4   origin_direct_traffic     6000 non-null   uint8\n",
            " 5   origin_display            6000 non-null   uint8\n",
            " 6   origin_email              6000 non-null   uint8\n",
            " 7   origin_organic_search     6000 non-null   uint8\n",
            " 8   origin_other              6000 non-null   uint8\n",
            " 9   origin_other_publicities  6000 non-null   uint8\n",
            " 10  origin_paid_search        6000 non-null   uint8\n",
            " 11  origin_referral           6000 non-null   uint8\n",
            " 12  origin_social             6000 non-null   uint8\n",
            " 13  origin_unknown            6000 non-null   uint8\n",
            "dtypes: int32(4), uint8(10)\n",
            "memory usage: 152.5 KB\n"
          ]
        }
      ],
      "source": [
        "imputed_X_train.info()"
      ]
    },
    {
      "cell_type": "code",
      "execution_count": null,
      "id": "06e4ee90",
      "metadata": {
        "id": "06e4ee90",
        "outputId": "bbe7f383-2aa9-43a3-be16-5603725629d6"
      },
      "outputs": [
        {
          "name": "stdout",
          "output_type": "stream",
          "text": [
            "the size of train predictor are: (6000, 14) \n",
            "\n",
            "the size of test predictor are: (2000, 14) \n",
            "\n",
            "the value count of target on train set is:  \n",
            " 0    5365\n",
            "1     635\n",
            "Name: deals, dtype: int64 \n",
            "\n",
            "the value count of target on test set is: \n",
            " 0    1793\n",
            "1     207\n",
            "Name: deals, dtype: int64 \n",
            "\n"
          ]
        }
      ],
      "source": [
        "# check train data dimension\n",
        "print('the size of train predictor are:',imputed_X_train.shape,'\\n')\n",
        "\n",
        "# check test data dimension\n",
        "print('the size of test predictor are:',imputed_X_test.shape,'\\n')\n",
        "\n",
        "# check train target counts\n",
        "print('the value count of target on train set is: ','\\n',y_train.value_counts(),'\\n')\n",
        "\n",
        "# check test target counts\n",
        "print('the value count of target on test set is:','\\n',y_test.value_counts(),'\\n')"
      ]
    },
    {
      "cell_type": "markdown",
      "id": "994c5b1b",
      "metadata": {
        "id": "994c5b1b"
      },
      "source": [
        "Based on the target value counts, there is **imbalance** value on it. It must have to be done by **under sampling** it"
      ]
    },
    {
      "cell_type": "code",
      "execution_count": null,
      "id": "c0af9cad",
      "metadata": {
        "id": "c0af9cad"
      },
      "outputs": [],
      "source": [
        "# oversampling features\n",
        "from imblearn.over_sampling import SMOTE\n",
        "\n",
        "# oversampling the train set\n",
        "sm = SMOTE(random_state=1000, sampling_strategy=1.0)\n",
        "imputed_X_train, y_train = sm.fit_resample(imputed_X_train, y_train)"
      ]
    },
    {
      "cell_type": "code",
      "execution_count": null,
      "id": "027328f3",
      "metadata": {
        "id": "027328f3",
        "outputId": "2d93e0f7-7c81-47d0-bc5a-49e0c7146286"
      },
      "outputs": [
        {
          "name": "stdout",
          "output_type": "stream",
          "text": [
            "the size of train predictor are: (10730, 14) \n",
            "\n",
            "the value count of target on train set is:  \n",
            " 0    5365\n",
            "1    5365\n",
            "Name: deals, dtype: int64 \n",
            "\n"
          ]
        }
      ],
      "source": [
        "# recheck train data dimension\n",
        "print('the size of train predictor are:',imputed_X_train.shape,'\\n')\n",
        "\n",
        "# recheck train target counts\n",
        "print('the value count of target on train set is: ','\\n',y_train.value_counts(),'\\n')"
      ]
    },
    {
      "cell_type": "markdown",
      "id": "5b0eaef9",
      "metadata": {
        "id": "5b0eaef9"
      },
      "source": [
        "## Modeling"
      ]
    },
    {
      "cell_type": "code",
      "execution_count": null,
      "id": "1e7d498b",
      "metadata": {
        "id": "1e7d498b"
      },
      "outputs": [],
      "source": [
        "import sklearn as sklearn\n",
        "\n",
        "# import metrics method for model evaluation\n",
        "import sklearn.metrics as metrics\n",
        "\n",
        "# import logistic regression classifier\n",
        "from sklearn.linear_model import LogisticRegression\n",
        "from sklearn.model_selection import cross_val_score\n",
        "\n",
        "# import knn classifier\n",
        "from sklearn.neighbors import KNeighborsClassifier\n",
        "\n",
        "# import decision tree\n",
        "from sklearn.tree import DecisionTreeClassifier\n",
        "\n",
        "# import random forest classifier\n",
        "from sklearn.ensemble import RandomForestClassifier\n",
        "\n",
        "# evaluation\n",
        "from sklearn.metrics import classification_report\n",
        "from sklearn.metrics import roc_auc_score\n",
        "from sklearn.metrics import mean_squared_error\n",
        "from sklearn import linear_model, datasets\n"
      ]
    },
    {
      "cell_type": "code",
      "execution_count": null,
      "id": "818a97c2",
      "metadata": {
        "id": "818a97c2"
      },
      "outputs": [],
      "source": [
        "# import grid search to hyperparameter tuning\n",
        "from sklearn.model_selection import GridSearchCV"
      ]
    },
    {
      "cell_type": "code",
      "execution_count": null,
      "id": "779a37b2",
      "metadata": {
        "id": "779a37b2"
      },
      "outputs": [],
      "source": [
        "# Initialze the estimators\n",
        "clf1 = LogisticRegression()\n",
        "clf2 = KNeighborsClassifier()\n",
        "clf3 = DecisionTreeClassifier()\n",
        "clf4 = RandomForestClassifier()"
      ]
    },
    {
      "cell_type": "markdown",
      "id": "324e2be2",
      "metadata": {
        "id": "324e2be2"
      },
      "source": [
        "### Logistic Regression"
      ]
    },
    {
      "cell_type": "code",
      "execution_count": null,
      "id": "3035820b",
      "metadata": {
        "id": "3035820b",
        "outputId": "915ead78-d985-4a37-c374-0ad512968d0d"
      },
      "outputs": [
        {
          "name": "stderr",
          "output_type": "stream",
          "text": [
            "C:\\Users\\HP\\anaconda3\\lib\\site-packages\\scipy\\optimize\\linesearch.py:478: LineSearchWarning: The line search algorithm did not converge\n",
            "  warn('The line search algorithm did not converge', LineSearchWarning)\n",
            "C:\\Users\\HP\\anaconda3\\lib\\site-packages\\scipy\\optimize\\linesearch.py:327: LineSearchWarning: The line search algorithm did not converge\n",
            "  warn('The line search algorithm did not converge', LineSearchWarning)\n",
            "C:\\Users\\HP\\anaconda3\\lib\\site-packages\\scipy\\optimize\\linesearch.py:478: LineSearchWarning: The line search algorithm did not converge\n",
            "  warn('The line search algorithm did not converge', LineSearchWarning)\n",
            "C:\\Users\\HP\\anaconda3\\lib\\site-packages\\scipy\\optimize\\linesearch.py:327: LineSearchWarning: The line search algorithm did not converge\n",
            "  warn('The line search algorithm did not converge', LineSearchWarning)\n",
            "C:\\Users\\HP\\anaconda3\\lib\\site-packages\\scipy\\optimize\\linesearch.py:478: LineSearchWarning: The line search algorithm did not converge\n",
            "  warn('The line search algorithm did not converge', LineSearchWarning)\n",
            "C:\\Users\\HP\\anaconda3\\lib\\site-packages\\scipy\\optimize\\linesearch.py:327: LineSearchWarning: The line search algorithm did not converge\n",
            "  warn('The line search algorithm did not converge', LineSearchWarning)\n",
            "C:\\Users\\HP\\anaconda3\\lib\\site-packages\\sklearn\\utils\\optimize.py:210: ConvergenceWarning: newton-cg failed to converge. Increase the number of iterations.\n",
            "  warnings.warn(\n"
          ]
        }
      ],
      "source": [
        "solvers = ['newton-cg', 'lbfgs', 'liblinear']\n",
        "penalty = ['l2']\n",
        "c_values = [100, 10, 1.0, 0.1, 0.01]\n",
        "# define grid search\n",
        "lg_grid = dict(solver=solvers,penalty=penalty,C=c_values)\n",
        "lg_grid_search = GridSearchCV(estimator=clf1, param_grid=lg_grid, n_jobs=-1, cv=3, scoring='accuracy',error_score=0)\n",
        "lg_grid_result = lg_grid_search.fit(imputed_X_train, y_train)"
      ]
    },
    {
      "cell_type": "code",
      "execution_count": null,
      "id": "12198648",
      "metadata": {
        "id": "12198648",
        "outputId": "f58783f6-2501-438d-bbcd-588555b6f187"
      },
      "outputs": [
        {
          "name": "stdout",
          "output_type": "stream",
          "text": [
            "Best: 0.752006 using {'C': 100, 'penalty': 'l2', 'solver': 'newton-cg'}\n",
            "0.752006 (0.042927) with: {'C': 100, 'penalty': 'l2', 'solver': 'newton-cg'}\n",
            "0.705874 (0.032612) with: {'C': 100, 'penalty': 'l2', 'solver': 'lbfgs'}\n",
            "0.740356 (0.042149) with: {'C': 100, 'penalty': 'l2', 'solver': 'liblinear'}\n",
            "0.751168 (0.047743) with: {'C': 10, 'penalty': 'l2', 'solver': 'newton-cg'}\n",
            "0.700001 (0.017597) with: {'C': 10, 'penalty': 'l2', 'solver': 'lbfgs'}\n",
            "0.740729 (0.042266) with: {'C': 10, 'penalty': 'l2', 'solver': 'liblinear'}\n",
            "0.748930 (0.036688) with: {'C': 1.0, 'penalty': 'l2', 'solver': 'newton-cg'}\n",
            "0.705967 (0.024524) with: {'C': 1.0, 'penalty': 'l2', 'solver': 'lbfgs'}\n",
            "0.743524 (0.042069) with: {'C': 1.0, 'penalty': 'l2', 'solver': 'liblinear'}\n",
            "0.746507 (0.032326) with: {'C': 0.1, 'penalty': 'l2', 'solver': 'newton-cg'}\n",
            "0.714447 (0.031594) with: {'C': 0.1, 'penalty': 'l2', 'solver': 'lbfgs'}\n",
            "0.739144 (0.039825) with: {'C': 0.1, 'penalty': 'l2', 'solver': 'liblinear'}\n",
            "0.689191 (0.018750) with: {'C': 0.01, 'penalty': 'l2', 'solver': 'newton-cg'}\n",
            "0.685462 (0.024880) with: {'C': 0.01, 'penalty': 'l2', 'solver': 'lbfgs'}\n",
            "0.689936 (0.023295) with: {'C': 0.01, 'penalty': 'l2', 'solver': 'liblinear'}\n"
          ]
        }
      ],
      "source": [
        "# summarize results\n",
        "print(\"Best: %f using %s\" % (lg_grid_result.best_score_, lg_grid_result.best_params_))\n",
        "means = lg_grid_result.cv_results_['mean_test_score']\n",
        "stds = lg_grid_result.cv_results_['std_test_score']\n",
        "params = lg_grid_result.cv_results_['params']\n",
        "for mean, stdev, param in zip(means, stds, params):\n",
        "    print(\"%f (%f) with: %r\" % (mean, stdev, param))"
      ]
    },
    {
      "cell_type": "code",
      "execution_count": null,
      "id": "b5a649f6",
      "metadata": {
        "id": "b5a649f6"
      },
      "outputs": [],
      "source": [
        "# define new model for logistic regression\n",
        "lg = LogisticRegression(C= 100, penalty= 'l2', solver= 'newton-cg')"
      ]
    },
    {
      "cell_type": "code",
      "execution_count": null,
      "id": "3462e362",
      "metadata": {
        "id": "3462e362",
        "outputId": "b5679d99-7fde-45ed-e9b6-6870a12703a7"
      },
      "outputs": [
        {
          "name": "stdout",
          "output_type": "stream",
          "text": [
            "Below is the report of Modeling results: \n",
            "                  Deals  Did Not Deals  accuracy    macro avg  weighted avg\n",
            "precision     0.919786       0.172619    0.7315     0.546203      0.842454\n",
            "recall        0.767429       0.420290    0.7315     0.593859      0.731500\n",
            "f1-score      0.836728       0.244726    0.7315     0.540727      0.775456\n",
            "support    1793.000000     207.000000    0.7315  2000.000000   2000.000000 \n",
            "\n"
          ]
        },
        {
          "name": "stderr",
          "output_type": "stream",
          "text": [
            "C:\\Users\\HP\\anaconda3\\lib\\site-packages\\scipy\\optimize\\linesearch.py:478: LineSearchWarning: The line search algorithm did not converge\n",
            "  warn('The line search algorithm did not converge', LineSearchWarning)\n",
            "C:\\Users\\HP\\anaconda3\\lib\\site-packages\\scipy\\optimize\\linesearch.py:327: LineSearchWarning: The line search algorithm did not converge\n",
            "  warn('The line search algorithm did not converge', LineSearchWarning)\n",
            "C:\\Users\\HP\\anaconda3\\lib\\site-packages\\scipy\\optimize\\linesearch.py:478: LineSearchWarning: The line search algorithm did not converge\n",
            "  warn('The line search algorithm did not converge', LineSearchWarning)\n",
            "C:\\Users\\HP\\anaconda3\\lib\\site-packages\\scipy\\optimize\\linesearch.py:327: LineSearchWarning: The line search algorithm did not converge\n",
            "  warn('The line search algorithm did not converge', LineSearchWarning)\n",
            "C:\\Users\\HP\\anaconda3\\lib\\site-packages\\scipy\\optimize\\linesearch.py:478: LineSearchWarning: The line search algorithm did not converge\n",
            "  warn('The line search algorithm did not converge', LineSearchWarning)\n",
            "C:\\Users\\HP\\anaconda3\\lib\\site-packages\\scipy\\optimize\\linesearch.py:327: LineSearchWarning: The line search algorithm did not converge\n",
            "  warn('The line search algorithm did not converge', LineSearchWarning)\n",
            "C:\\Users\\HP\\anaconda3\\lib\\site-packages\\sklearn\\utils\\optimize.py:210: ConvergenceWarning: newton-cg failed to converge. Increase the number of iterations.\n",
            "  warnings.warn(\n"
          ]
        }
      ],
      "source": [
        "# fot the new model\n",
        "lg = lg.fit(imputed_X_train, y_train)\n",
        "\n",
        "# predict\n",
        "y_pred_lg = lg.predict(imputed_X_test)\n",
        "y_pred_proba_lg = lg.predict_proba(imputed_X_test)\n",
        "\n",
        "# report result\n",
        "modeling_report = pd.DataFrame(metrics.classification_report(y_test, y_pred_lg, target_names=['Deals','Did Not Deals'], output_dict=True))\n",
        "print(\"Below is the report of Modeling results:\",\"\\n\",modeling_report,'\\n')"
      ]
    },
    {
      "cell_type": "code",
      "execution_count": null,
      "id": "e4b41e34",
      "metadata": {
        "id": "e4b41e34",
        "outputId": "231b7ba5-c04b-4eb9-d55f-cc2f5ec29627"
      },
      "outputs": [
        {
          "name": "stderr",
          "output_type": "stream",
          "text": [
            "C:\\Users\\HP\\anaconda3\\lib\\site-packages\\scipy\\optimize\\linesearch.py:478: LineSearchWarning: The line search algorithm did not converge\n",
            "  warn('The line search algorithm did not converge', LineSearchWarning)\n",
            "C:\\Users\\HP\\anaconda3\\lib\\site-packages\\scipy\\optimize\\linesearch.py:327: LineSearchWarning: The line search algorithm did not converge\n",
            "  warn('The line search algorithm did not converge', LineSearchWarning)\n",
            "C:\\Users\\HP\\anaconda3\\lib\\site-packages\\scipy\\optimize\\linesearch.py:478: LineSearchWarning: The line search algorithm did not converge\n",
            "  warn('The line search algorithm did not converge', LineSearchWarning)\n",
            "C:\\Users\\HP\\anaconda3\\lib\\site-packages\\scipy\\optimize\\linesearch.py:327: LineSearchWarning: The line search algorithm did not converge\n",
            "  warn('The line search algorithm did not converge', LineSearchWarning)\n",
            "C:\\Users\\HP\\anaconda3\\lib\\site-packages\\sklearn\\utils\\optimize.py:210: ConvergenceWarning: newton-cg failed to converge. Increase the number of iterations.\n",
            "  warnings.warn(\n",
            "C:\\Users\\HP\\anaconda3\\lib\\site-packages\\scipy\\optimize\\linesearch.py:478: LineSearchWarning: The line search algorithm did not converge\n",
            "  warn('The line search algorithm did not converge', LineSearchWarning)\n",
            "C:\\Users\\HP\\anaconda3\\lib\\site-packages\\scipy\\optimize\\linesearch.py:327: LineSearchWarning: The line search algorithm did not converge\n",
            "  warn('The line search algorithm did not converge', LineSearchWarning)\n",
            "C:\\Users\\HP\\anaconda3\\lib\\site-packages\\scipy\\optimize\\linesearch.py:478: LineSearchWarning: The line search algorithm did not converge\n",
            "  warn('The line search algorithm did not converge', LineSearchWarning)\n",
            "C:\\Users\\HP\\anaconda3\\lib\\site-packages\\scipy\\optimize\\linesearch.py:327: LineSearchWarning: The line search algorithm did not converge\n",
            "  warn('The line search algorithm did not converge', LineSearchWarning)\n",
            "C:\\Users\\HP\\anaconda3\\lib\\site-packages\\sklearn\\utils\\optimize.py:210: ConvergenceWarning: newton-cg failed to converge. Increase the number of iterations.\n",
            "  warnings.warn(\n",
            "C:\\Users\\HP\\anaconda3\\lib\\site-packages\\scipy\\optimize\\linesearch.py:478: LineSearchWarning: The line search algorithm did not converge\n",
            "  warn('The line search algorithm did not converge', LineSearchWarning)\n",
            "C:\\Users\\HP\\anaconda3\\lib\\site-packages\\scipy\\optimize\\linesearch.py:327: LineSearchWarning: The line search algorithm did not converge\n",
            "  warn('The line search algorithm did not converge', LineSearchWarning)\n",
            "C:\\Users\\HP\\anaconda3\\lib\\site-packages\\scipy\\optimize\\linesearch.py:478: LineSearchWarning: The line search algorithm did not converge\n",
            "  warn('The line search algorithm did not converge', LineSearchWarning)\n",
            "C:\\Users\\HP\\anaconda3\\lib\\site-packages\\scipy\\optimize\\linesearch.py:327: LineSearchWarning: The line search algorithm did not converge\n",
            "  warn('The line search algorithm did not converge', LineSearchWarning)\n",
            "C:\\Users\\HP\\anaconda3\\lib\\site-packages\\scipy\\optimize\\linesearch.py:478: LineSearchWarning: The line search algorithm did not converge\n",
            "  warn('The line search algorithm did not converge', LineSearchWarning)\n",
            "C:\\Users\\HP\\anaconda3\\lib\\site-packages\\scipy\\optimize\\linesearch.py:327: LineSearchWarning: The line search algorithm did not converge\n",
            "  warn('The line search algorithm did not converge', LineSearchWarning)\n",
            "C:\\Users\\HP\\anaconda3\\lib\\site-packages\\sklearn\\utils\\optimize.py:210: ConvergenceWarning: newton-cg failed to converge. Increase the number of iterations.\n",
            "  warnings.warn(\n",
            "C:\\Users\\HP\\anaconda3\\lib\\site-packages\\scipy\\optimize\\linesearch.py:478: LineSearchWarning: The line search algorithm did not converge\n",
            "  warn('The line search algorithm did not converge', LineSearchWarning)\n",
            "C:\\Users\\HP\\anaconda3\\lib\\site-packages\\scipy\\optimize\\linesearch.py:327: LineSearchWarning: The line search algorithm did not converge\n",
            "  warn('The line search algorithm did not converge', LineSearchWarning)\n",
            "C:\\Users\\HP\\anaconda3\\lib\\site-packages\\scipy\\optimize\\linesearch.py:478: LineSearchWarning: The line search algorithm did not converge\n",
            "  warn('The line search algorithm did not converge', LineSearchWarning)\n",
            "C:\\Users\\HP\\anaconda3\\lib\\site-packages\\scipy\\optimize\\linesearch.py:327: LineSearchWarning: The line search algorithm did not converge\n",
            "  warn('The line search algorithm did not converge', LineSearchWarning)\n",
            "C:\\Users\\HP\\anaconda3\\lib\\site-packages\\sklearn\\utils\\optimize.py:210: ConvergenceWarning: newton-cg failed to converge. Increase the number of iterations.\n",
            "  warnings.warn(\n"
          ]
        },
        {
          "name": "stdout",
          "output_type": "stream",
          "text": [
            "[0.80422927 0.8810948  0.88188775 0.88003643 0.88478914]\n"
          ]
        },
        {
          "name": "stderr",
          "output_type": "stream",
          "text": [
            "C:\\Users\\HP\\anaconda3\\lib\\site-packages\\scipy\\optimize\\linesearch.py:478: LineSearchWarning: The line search algorithm did not converge\n",
            "  warn('The line search algorithm did not converge', LineSearchWarning)\n",
            "C:\\Users\\HP\\anaconda3\\lib\\site-packages\\scipy\\optimize\\linesearch.py:327: LineSearchWarning: The line search algorithm did not converge\n",
            "  warn('The line search algorithm did not converge', LineSearchWarning)\n",
            "C:\\Users\\HP\\anaconda3\\lib\\site-packages\\sklearn\\utils\\optimize.py:210: ConvergenceWarning: newton-cg failed to converge. Increase the number of iterations.\n",
            "  warnings.warn(\n"
          ]
        }
      ],
      "source": [
        "# cross validation\n",
        "scores = cross_val_score(lg, imputed_X_train, y_train, cv=5)\n",
        "print(np.sqrt(scores))"
      ]
    },
    {
      "cell_type": "code",
      "execution_count": null,
      "id": "81207d01",
      "metadata": {
        "id": "81207d01",
        "outputId": "98e368a5-bec9-4baa-c12c-a68585c755fe"
      },
      "outputs": [
        {
          "name": "stdout",
          "output_type": "stream",
          "text": [
            "-189.37009465150302 %\n"
          ]
        }
      ],
      "source": [
        "# r2 score\n",
        "\n",
        "from sklearn.metrics import r2_score\n",
        "\n",
        "lin = r2_score(y_test, lg.predict(imputed_X_test))*100\n",
        "print(lin,'%')"
      ]
    },
    {
      "cell_type": "code",
      "execution_count": null,
      "id": "277edb82",
      "metadata": {
        "id": "277edb82",
        "outputId": "eb181ec2-4fce-42fa-db5c-71c7a2860e8c"
      },
      "outputs": [
        {
          "name": "stdout",
          "output_type": "stream",
          "text": [
            "Confusion Matrix on Logistic Regression Tuning:\n",
            " AxesSubplot(0.125,0.125;0.62x0.755)\n"
          ]
        },
        {
          "data": {
            "image/png": "[encoded data removed]",
            "text/plain": [
              "<Figure size 432x288 with 2 Axes>"
            ]
          },
          "metadata": {
            "needs_background": "light"
          },
          "output_type": "display_data"
        }
      ],
      "source": [
        "# confusion metric\n",
        "import scikitplot as skplt\n",
        "\n",
        "lg_cm = skplt.metrics.plot_confusion_matrix(y_test,y_pred_lg)\n",
        "print('Confusion Matrix on Logistic Regression Tuning:\\n',lg_cm)"
      ]
    },
    {
      "cell_type": "code",
      "execution_count": null,
      "id": "af486259",
      "metadata": {
        "id": "af486259",
        "outputId": "ece92e48-238b-46a6-b32a-44eaa58ee1e0"
      },
      "outputs": [
        {
          "name": "stderr",
          "output_type": "stream",
          "text": [
            "C:\\Users\\HP\\anaconda3\\lib\\site-packages\\sklearn\\utils\\deprecation.py:87: FutureWarning: Function plot_roc_curve is deprecated; This will be removed in v0.5.0. Please use scikitplot.metrics.plot_roc instead.\n",
            "  warnings.warn(msg, category=FutureWarning)\n"
          ]
        },
        {
          "name": "stdout",
          "output_type": "stream",
          "text": [
            "AxesSubplot(0.125,0.125;0.775x0.755)\n"
          ]
        },
        {
          "data": {
            "image/png": "[encoded data removed]",
            "text/plain": [
              "<Figure size 432x288 with 1 Axes>"
            ]
          },
          "metadata": {
            "needs_background": "light"
          },
          "output_type": "display_data"
        }
      ],
      "source": [
        "# model performance check\n",
        "lg_ROC_AUC = skplt.metrics.plot_roc_curve(y_test, y_pred_proba_lg)\n",
        "print(lg_ROC_AUC)"
      ]
    },
    {
      "cell_type": "code",
      "execution_count": null,
      "id": "9873efc5",
      "metadata": {
        "id": "9873efc5",
        "outputId": "4c877d8a-68a1-4281-86f3-d53827702cbd"
      },
      "outputs": [
        {
          "name": "stdout",
          "output_type": "stream",
          "text": [
            "The accuracy score for Logistic Regression  is: 0.7315 \n",
            "\n",
            "The F1 score on Logistic Regression is: 0.24472573839662448 \n",
            "\n"
          ]
        }
      ],
      "source": [
        "# check model accuracy\n",
        "lg_accuracy = metrics.accuracy_score(y_test, y_pred_lg)\n",
        "print(\"The accuracy score for Logistic Regression  is:\",lg_accuracy,'\\n')\n",
        "\n",
        "# check f1-score\n",
        "lg_f1_score = metrics.f1_score(y_test,y_pred_lg)\n",
        "print(\"The F1 score on Logistic Regression is:\",lg_f1_score,'\\n')"
      ]
    },
    {
      "cell_type": "markdown",
      "id": "2ab93b19",
      "metadata": {
        "id": "2ab93b19"
      },
      "source": [
        "### K-Neighbors"
      ]
    },
    {
      "cell_type": "code",
      "execution_count": null,
      "id": "3fc6153f",
      "metadata": {
        "id": "3fc6153f"
      },
      "outputs": [],
      "source": [
        "# param\n",
        "n_neighbors = range(1, 21, 2)\n",
        "weights = ['uniform', 'distance']\n",
        "metric = ['euclidean', 'manhattan', 'minkowski']\n",
        "\n",
        "# define grid search\n",
        "knn_grid = dict(n_neighbors=n_neighbors,weights=weights,metric=metric)\n",
        "knn_grid_search = GridSearchCV(estimator=clf2, param_grid=knn_grid, n_jobs=-1, cv=3, scoring='accuracy',error_score=0)\n",
        "knn_grid_result = knn_grid_search.fit(imputed_X_train, y_train)"
      ]
    },
    {
      "cell_type": "code",
      "execution_count": null,
      "id": "0427a6de",
      "metadata": {
        "id": "0427a6de",
        "outputId": "ab9c09bc-ce92-49e9-ae6f-2b0f4190eb68"
      },
      "outputs": [
        {
          "name": "stdout",
          "output_type": "stream",
          "text": [
            "Best: 0.800189 using {'metric': 'euclidean', 'n_neighbors': 19, 'weights': 'distance'}\n",
            "0.714169 (0.035793) with: {'metric': 'euclidean', 'n_neighbors': 1, 'weights': 'uniform'}\n",
            "0.714169 (0.035793) with: {'metric': 'euclidean', 'n_neighbors': 1, 'weights': 'distance'}\n",
            "0.705967 (0.032863) with: {'metric': 'euclidean', 'n_neighbors': 3, 'weights': 'uniform'}\n",
            "0.722183 (0.033458) with: {'metric': 'euclidean', 'n_neighbors': 3, 'weights': 'distance'}\n",
            "0.700281 (0.025538) with: {'metric': 'euclidean', 'n_neighbors': 5, 'weights': 'uniform'}\n",
            "0.734858 (0.031784) with: {'metric': 'euclidean', 'n_neighbors': 5, 'weights': 'distance'}\n",
            "0.691987 (0.025978) with: {'metric': 'euclidean', 'n_neighbors': 7, 'weights': 'uniform'}\n",
            "0.742873 (0.032494) with: {'metric': 'euclidean', 'n_neighbors': 7, 'weights': 'distance'}\n",
            "0.696832 (0.020985) with: {'metric': 'euclidean', 'n_neighbors': 9, 'weights': 'uniform'}\n",
            "0.764308 (0.031427) with: {'metric': 'euclidean', 'n_neighbors': 9, 'weights': 'distance'}\n",
            "0.690494 (0.008323) with: {'metric': 'euclidean', 'n_neighbors': 11, 'weights': 'uniform'}\n",
            "0.770365 (0.025674) with: {'metric': 'euclidean', 'n_neighbors': 11, 'weights': 'distance'}\n",
            "0.690401 (0.005347) with: {'metric': 'euclidean', 'n_neighbors': 13, 'weights': 'uniform'}\n",
            "0.782015 (0.022993) with: {'metric': 'euclidean', 'n_neighbors': 13, 'weights': 'distance'}\n",
            "0.689935 (0.004265) with: {'metric': 'euclidean', 'n_neighbors': 15, 'weights': 'uniform'}\n",
            "0.790775 (0.022127) with: {'metric': 'euclidean', 'n_neighbors': 15, 'weights': 'distance'}\n",
            "0.685554 (0.006822) with: {'metric': 'euclidean', 'n_neighbors': 17, 'weights': 'uniform'}\n",
            "0.795715 (0.024962) with: {'metric': 'euclidean', 'n_neighbors': 17, 'weights': 'distance'}\n",
            "0.682386 (0.005344) with: {'metric': 'euclidean', 'n_neighbors': 19, 'weights': 'uniform'}\n",
            "0.800189 (0.026346) with: {'metric': 'euclidean', 'n_neighbors': 19, 'weights': 'distance'}\n",
            "0.714821 (0.035916) with: {'metric': 'manhattan', 'n_neighbors': 1, 'weights': 'uniform'}\n",
            "0.714821 (0.035916) with: {'metric': 'manhattan', 'n_neighbors': 1, 'weights': 'distance'}\n",
            "0.707551 (0.033193) with: {'metric': 'manhattan', 'n_neighbors': 3, 'weights': 'uniform'}\n",
            "0.724140 (0.033657) with: {'metric': 'manhattan', 'n_neighbors': 3, 'weights': 'distance'}\n",
            "0.701027 (0.024267) with: {'metric': 'manhattan', 'n_neighbors': 5, 'weights': 'uniform'}\n",
            "0.735603 (0.031126) with: {'metric': 'manhattan', 'n_neighbors': 5, 'weights': 'distance'}\n",
            "0.693944 (0.026195) with: {'metric': 'manhattan', 'n_neighbors': 7, 'weights': 'uniform'}\n",
            "0.743618 (0.033007) with: {'metric': 'manhattan', 'n_neighbors': 7, 'weights': 'distance'}\n",
            "0.700094 (0.020251) with: {'metric': 'manhattan', 'n_neighbors': 9, 'weights': 'uniform'}\n",
            "0.766638 (0.031295) with: {'metric': 'manhattan', 'n_neighbors': 9, 'weights': 'distance'}\n",
            "0.692917 (0.008960) with: {'metric': 'manhattan', 'n_neighbors': 11, 'weights': 'uniform'}\n",
            "0.772043 (0.026450) with: {'metric': 'manhattan', 'n_neighbors': 11, 'weights': 'distance'}\n",
            "0.691146 (0.004426) with: {'metric': 'manhattan', 'n_neighbors': 13, 'weights': 'uniform'}\n",
            "0.781642 (0.022717) with: {'metric': 'manhattan', 'n_neighbors': 13, 'weights': 'distance'}\n",
            "0.693663 (0.006768) with: {'metric': 'manhattan', 'n_neighbors': 15, 'weights': 'uniform'}\n",
            "0.791428 (0.022718) with: {'metric': 'manhattan', 'n_neighbors': 15, 'weights': 'distance'}\n",
            "0.686766 (0.004242) with: {'metric': 'manhattan', 'n_neighbors': 17, 'weights': 'uniform'}\n",
            "0.795528 (0.025231) with: {'metric': 'manhattan', 'n_neighbors': 17, 'weights': 'distance'}\n",
            "0.682945 (0.005471) with: {'metric': 'manhattan', 'n_neighbors': 19, 'weights': 'uniform'}\n",
            "0.799723 (0.026744) with: {'metric': 'manhattan', 'n_neighbors': 19, 'weights': 'distance'}\n",
            "0.714169 (0.035793) with: {'metric': 'minkowski', 'n_neighbors': 1, 'weights': 'uniform'}\n",
            "0.714169 (0.035793) with: {'metric': 'minkowski', 'n_neighbors': 1, 'weights': 'distance'}\n",
            "0.705967 (0.032863) with: {'metric': 'minkowski', 'n_neighbors': 3, 'weights': 'uniform'}\n",
            "0.722183 (0.033458) with: {'metric': 'minkowski', 'n_neighbors': 3, 'weights': 'distance'}\n",
            "0.700281 (0.025538) with: {'metric': 'minkowski', 'n_neighbors': 5, 'weights': 'uniform'}\n",
            "0.734858 (0.031784) with: {'metric': 'minkowski', 'n_neighbors': 5, 'weights': 'distance'}\n",
            "0.691987 (0.025978) with: {'metric': 'minkowski', 'n_neighbors': 7, 'weights': 'uniform'}\n",
            "0.742873 (0.032494) with: {'metric': 'minkowski', 'n_neighbors': 7, 'weights': 'distance'}\n",
            "0.696832 (0.020985) with: {'metric': 'minkowski', 'n_neighbors': 9, 'weights': 'uniform'}\n",
            "0.764308 (0.031427) with: {'metric': 'minkowski', 'n_neighbors': 9, 'weights': 'distance'}\n",
            "0.690494 (0.008323) with: {'metric': 'minkowski', 'n_neighbors': 11, 'weights': 'uniform'}\n",
            "0.770365 (0.025674) with: {'metric': 'minkowski', 'n_neighbors': 11, 'weights': 'distance'}\n",
            "0.690401 (0.005347) with: {'metric': 'minkowski', 'n_neighbors': 13, 'weights': 'uniform'}\n",
            "0.782015 (0.022993) with: {'metric': 'minkowski', 'n_neighbors': 13, 'weights': 'distance'}\n",
            "0.689935 (0.004265) with: {'metric': 'minkowski', 'n_neighbors': 15, 'weights': 'uniform'}\n",
            "0.790775 (0.022127) with: {'metric': 'minkowski', 'n_neighbors': 15, 'weights': 'distance'}\n",
            "0.685554 (0.006822) with: {'metric': 'minkowski', 'n_neighbors': 17, 'weights': 'uniform'}\n",
            "0.795715 (0.024962) with: {'metric': 'minkowski', 'n_neighbors': 17, 'weights': 'distance'}\n",
            "0.682386 (0.005344) with: {'metric': 'minkowski', 'n_neighbors': 19, 'weights': 'uniform'}\n",
            "0.800189 (0.026346) with: {'metric': 'minkowski', 'n_neighbors': 19, 'weights': 'distance'}\n"
          ]
        }
      ],
      "source": [
        "# summarize results\n",
        "print(\"Best: %f using %s\" % (knn_grid_result.best_score_, knn_grid_result.best_params_))\n",
        "means = knn_grid_result.cv_results_['mean_test_score']\n",
        "stds = knn_grid_result.cv_results_['std_test_score']\n",
        "params = knn_grid_result.cv_results_['params']\n",
        "for mean, stdev, param in zip(means, stds, params):\n",
        "    print(\"%f (%f) with: %r\" % (mean, stdev, param))"
      ]
    },
    {
      "cell_type": "code",
      "execution_count": null,
      "id": "58faf994",
      "metadata": {
        "id": "58faf994"
      },
      "outputs": [],
      "source": [
        "# define new model for K-Nearest Neighbors\n",
        "knn = KNeighborsClassifier(metric= 'euclidean', n_neighbors= 19, weights= 'distance')\n",
        "knn = knn.fit(imputed_X_train, y_train)"
      ]
    },
    {
      "cell_type": "code",
      "execution_count": null,
      "id": "a796fff6",
      "metadata": {
        "id": "a796fff6",
        "outputId": "2d5b3891-b989-40b0-ccc2-be5159430603"
      },
      "outputs": [
        {
          "name": "stdout",
          "output_type": "stream",
          "text": [
            "Below is the report of Modeling results: \n",
            "                  Deals  Did Not Deals  accuracy    macro avg  weighted avg\n",
            "precision     0.903125       0.130000    0.7485     0.516563      0.823107\n",
            "recall        0.805912       0.251208    0.7485     0.528560      0.748500\n",
            "f1-score      0.851754       0.171334    0.7485     0.511544      0.781330\n",
            "support    1793.000000     207.000000    0.7485  2000.000000   2000.000000 \n",
            "\n"
          ]
        }
      ],
      "source": [
        "# predict\n",
        "y_pred_knn = knn.predict(imputed_X_test)\n",
        "y_pred_proba_knn = knn.predict_proba(imputed_X_test)\n",
        "\n",
        "# report result\n",
        "modeling_report = pd.DataFrame(metrics.classification_report(y_test, y_pred_knn, target_names=['Deals','Did Not Deals'], output_dict=True))\n",
        "print(\"Below is the report of Modeling results:\",\"\\n\",modeling_report,'\\n')"
      ]
    },
    {
      "cell_type": "code",
      "execution_count": null,
      "id": "3da4c827",
      "metadata": {
        "id": "3da4c827",
        "outputId": "b00271f5-5154-45cc-9454-35f958074f0f"
      },
      "outputs": [
        {
          "name": "stdout",
          "output_type": "stream",
          "text": [
            "[0.85151036 0.91355129 0.89915566 0.90380783 0.90535324]\n"
          ]
        }
      ],
      "source": [
        "# cross validation\n",
        "scores = cross_val_score(knn, imputed_X_train, y_train, cv=5)\n",
        "print(np.sqrt(scores))"
      ]
    },
    {
      "cell_type": "code",
      "execution_count": null,
      "id": "a009c4b0",
      "metadata": {
        "id": "a009c4b0",
        "outputId": "774ce277-554f-4f3b-cb35-2a76862ae506"
      },
      "outputs": [
        {
          "name": "stdout",
          "output_type": "stream",
          "text": [
            "-171.04871063259966 %\n"
          ]
        }
      ],
      "source": [
        "# r2 score\n",
        "\n",
        "kn = r2_score(y_test, knn.predict(imputed_X_test))*100\n",
        "print(kn,'%')"
      ]
    },
    {
      "cell_type": "code",
      "execution_count": null,
      "id": "764e410d",
      "metadata": {
        "id": "764e410d",
        "outputId": "b146b9d5-ba35-477b-fd61-505bd67747d2"
      },
      "outputs": [
        {
          "name": "stdout",
          "output_type": "stream",
          "text": [
            "Confusion Matrix on K-Neighbors:\n",
            " AxesSubplot(0.125,0.125;0.62x0.755)\n"
          ]
        },
        {
          "data": {
            "image/png": "[encoded data removed]",
            "text/plain": [
              "<Figure size 432x288 with 2 Axes>"
            ]
          },
          "metadata": {
            "needs_background": "light"
          },
          "output_type": "display_data"
        }
      ],
      "source": [
        "# confusion metric\n",
        "\n",
        "kn_cm = skplt.metrics.plot_confusion_matrix(y_test,y_pred_knn)\n",
        "print('Confusion Matrix on K-Neighbors:\\n',kn_cm)"
      ]
    },
    {
      "cell_type": "code",
      "execution_count": null,
      "id": "495c3d14",
      "metadata": {
        "id": "495c3d14",
        "outputId": "dbc97721-c104-4fe8-960e-84ed019a4915"
      },
      "outputs": [
        {
          "name": "stderr",
          "output_type": "stream",
          "text": [
            "C:\\Users\\HP\\anaconda3\\lib\\site-packages\\sklearn\\utils\\deprecation.py:87: FutureWarning: Function plot_roc_curve is deprecated; This will be removed in v0.5.0. Please use scikitplot.metrics.plot_roc instead.\n",
            "  warnings.warn(msg, category=FutureWarning)\n"
          ]
        },
        {
          "name": "stdout",
          "output_type": "stream",
          "text": [
            "AxesSubplot(0.125,0.125;0.775x0.755)\n"
          ]
        },
        {
          "data": {
            "image/png": "[encoded data removed]",
            "text/plain": [
              "<Figure size 432x288 with 1 Axes>"
            ]
          },
          "metadata": {
            "needs_background": "light"
          },
          "output_type": "display_data"
        }
      ],
      "source": [
        "# model performance check\n",
        "kn_ROC_AUC = skplt.metrics.plot_roc_curve(y_test, y_pred_proba_knn)\n",
        "print(kn_ROC_AUC)"
      ]
    },
    {
      "cell_type": "code",
      "execution_count": null,
      "id": "091cb42f",
      "metadata": {
        "id": "091cb42f",
        "outputId": "5536f242-6938-4110-aae2-5f70f426ee80"
      },
      "outputs": [
        {
          "name": "stdout",
          "output_type": "stream",
          "text": [
            "The accuracy score for K-Neighbors is: 0.7485 \n",
            "\n",
            "The F1 score on K-Neighbors is: 0.171334431630972 \n",
            "\n"
          ]
        }
      ],
      "source": [
        "# check model accuracy\n",
        "kn_accuracy = metrics.accuracy_score(y_test, y_pred_knn)\n",
        "print(\"The accuracy score for K-Neighbors is:\",kn_accuracy,'\\n')\n",
        "\n",
        "# check f1-score\n",
        "kn_f1_score = metrics.f1_score(y_test,y_pred_knn)\n",
        "print(\"The F1 score on K-Neighbors is:\",kn_f1_score,'\\n')"
      ]
    },
    {
      "cell_type": "markdown",
      "id": "8203fc97",
      "metadata": {
        "id": "8203fc97"
      },
      "source": [
        "### Decision Tree"
      ]
    },
    {
      "cell_type": "code",
      "execution_count": null,
      "id": "b6870788",
      "metadata": {
        "id": "b6870788"
      },
      "outputs": [],
      "source": [
        "# param\n",
        "max_depth = [2, 3, 5, 10, 20]\n",
        "min_samples_leaf= [5, 10, 20, 50, 100]\n",
        "criterion= [\"gini\", \"entropy\"]\n",
        "\n",
        "# define grid search\n",
        "dtc_grid = dict(max_depth=max_depth,min_samples_leaf=min_samples_leaf,criterion=criterion)\n",
        "dtc_grid_search = GridSearchCV(estimator=clf3, param_grid=dtc_grid, n_jobs=-1, cv=3, scoring='accuracy',error_score=0)\n",
        "dtc_grid_result = dtc_grid_search.fit(imputed_X_train, y_train)"
      ]
    },
    {
      "cell_type": "code",
      "execution_count": null,
      "id": "6a8e7242",
      "metadata": {
        "id": "6a8e7242",
        "outputId": "a04eb4da-4d29-411a-b9bc-63e2870987ef"
      },
      "outputs": [
        {
          "name": "stdout",
          "output_type": "stream",
          "text": [
            "Best: 0.825911 using {'criterion': 'entropy', 'max_depth': 20, 'min_samples_leaf': 5}\n",
            "0.649768 (0.010829) with: {'criterion': 'gini', 'max_depth': 2, 'min_samples_leaf': 5}\n",
            "0.649768 (0.010829) with: {'criterion': 'gini', 'max_depth': 2, 'min_samples_leaf': 10}\n",
            "0.649768 (0.010829) with: {'criterion': 'gini', 'max_depth': 2, 'min_samples_leaf': 20}\n",
            "0.649768 (0.010829) with: {'criterion': 'gini', 'max_depth': 2, 'min_samples_leaf': 50}\n",
            "0.649768 (0.010829) with: {'criterion': 'gini', 'max_depth': 2, 'min_samples_leaf': 100}\n",
            "0.671204 (0.013868) with: {'criterion': 'gini', 'max_depth': 3, 'min_samples_leaf': 5}\n",
            "0.671204 (0.013868) with: {'criterion': 'gini', 'max_depth': 3, 'min_samples_leaf': 10}\n",
            "0.671204 (0.013868) with: {'criterion': 'gini', 'max_depth': 3, 'min_samples_leaf': 20}\n",
            "0.671204 (0.013868) with: {'criterion': 'gini', 'max_depth': 3, 'min_samples_leaf': 50}\n",
            "0.671204 (0.013868) with: {'criterion': 'gini', 'max_depth': 3, 'min_samples_leaf': 100}\n",
            "0.706060 (0.025674) with: {'criterion': 'gini', 'max_depth': 5, 'min_samples_leaf': 5}\n",
            "0.705408 (0.025269) with: {'criterion': 'gini', 'max_depth': 5, 'min_samples_leaf': 10}\n",
            "0.705408 (0.025269) with: {'criterion': 'gini', 'max_depth': 5, 'min_samples_leaf': 20}\n",
            "0.704475 (0.024460) with: {'criterion': 'gini', 'max_depth': 5, 'min_samples_leaf': 50}\n",
            "0.702146 (0.025859) with: {'criterion': 'gini', 'max_depth': 5, 'min_samples_leaf': 100}\n",
            "0.787979 (0.025340) with: {'criterion': 'gini', 'max_depth': 10, 'min_samples_leaf': 5}\n",
            "0.786395 (0.025377) with: {'criterion': 'gini', 'max_depth': 10, 'min_samples_leaf': 10}\n",
            "0.784437 (0.029326) with: {'criterion': 'gini', 'max_depth': 10, 'min_samples_leaf': 20}\n",
            "0.772136 (0.026512) with: {'criterion': 'gini', 'max_depth': 10, 'min_samples_leaf': 50}\n",
            "0.749023 (0.030126) with: {'criterion': 'gini', 'max_depth': 10, 'min_samples_leaf': 100}\n",
            "0.825165 (0.030292) with: {'criterion': 'gini', 'max_depth': 20, 'min_samples_leaf': 5}\n",
            "0.814447 (0.033119) with: {'criterion': 'gini', 'max_depth': 20, 'min_samples_leaf': 10}\n",
            "0.802984 (0.034079) with: {'criterion': 'gini', 'max_depth': 20, 'min_samples_leaf': 20}\n",
            "0.782108 (0.030030) with: {'criterion': 'gini', 'max_depth': 20, 'min_samples_leaf': 50}\n",
            "0.752006 (0.030458) with: {'criterion': 'gini', 'max_depth': 20, 'min_samples_leaf': 100}\n",
            "0.649768 (0.010829) with: {'criterion': 'entropy', 'max_depth': 2, 'min_samples_leaf': 5}\n",
            "0.649768 (0.010829) with: {'criterion': 'entropy', 'max_depth': 2, 'min_samples_leaf': 10}\n",
            "0.649768 (0.010829) with: {'criterion': 'entropy', 'max_depth': 2, 'min_samples_leaf': 20}\n",
            "0.649768 (0.010829) with: {'criterion': 'entropy', 'max_depth': 2, 'min_samples_leaf': 50}\n",
            "0.649768 (0.010829) with: {'criterion': 'entropy', 'max_depth': 2, 'min_samples_leaf': 100}\n",
            "0.671204 (0.013868) with: {'criterion': 'entropy', 'max_depth': 3, 'min_samples_leaf': 5}\n",
            "0.671204 (0.013868) with: {'criterion': 'entropy', 'max_depth': 3, 'min_samples_leaf': 10}\n",
            "0.671204 (0.013868) with: {'criterion': 'entropy', 'max_depth': 3, 'min_samples_leaf': 20}\n",
            "0.671204 (0.013868) with: {'criterion': 'entropy', 'max_depth': 3, 'min_samples_leaf': 50}\n",
            "0.671204 (0.013868) with: {'criterion': 'entropy', 'max_depth': 3, 'min_samples_leaf': 100}\n",
            "0.705035 (0.027110) with: {'criterion': 'entropy', 'max_depth': 5, 'min_samples_leaf': 5}\n",
            "0.704569 (0.026799) with: {'criterion': 'entropy', 'max_depth': 5, 'min_samples_leaf': 10}\n",
            "0.704569 (0.026799) with: {'criterion': 'entropy', 'max_depth': 5, 'min_samples_leaf': 20}\n",
            "0.703264 (0.025796) with: {'criterion': 'entropy', 'max_depth': 5, 'min_samples_leaf': 50}\n",
            "0.702239 (0.027865) with: {'criterion': 'entropy', 'max_depth': 5, 'min_samples_leaf': 100}\n",
            "0.787513 (0.026705) with: {'criterion': 'entropy', 'max_depth': 10, 'min_samples_leaf': 5}\n",
            "0.786861 (0.026776) with: {'criterion': 'entropy', 'max_depth': 10, 'min_samples_leaf': 10}\n",
            "0.784065 (0.030101) with: {'criterion': 'entropy', 'max_depth': 10, 'min_samples_leaf': 20}\n",
            "0.770738 (0.026745) with: {'criterion': 'entropy', 'max_depth': 10, 'min_samples_leaf': 50}\n",
            "0.750142 (0.031003) with: {'criterion': 'entropy', 'max_depth': 10, 'min_samples_leaf': 100}\n",
            "0.825911 (0.030546) with: {'criterion': 'entropy', 'max_depth': 20, 'min_samples_leaf': 5}\n",
            "0.818176 (0.033531) with: {'criterion': 'entropy', 'max_depth': 20, 'min_samples_leaf': 10}\n",
            "0.803730 (0.034818) with: {'criterion': 'entropy', 'max_depth': 20, 'min_samples_leaf': 20}\n",
            "0.781456 (0.029143) with: {'criterion': 'entropy', 'max_depth': 20, 'min_samples_leaf': 50}\n",
            "0.753124 (0.031219) with: {'criterion': 'entropy', 'max_depth': 20, 'min_samples_leaf': 100}\n"
          ]
        }
      ],
      "source": [
        "# summarize results\n",
        "print(\"Best: %f using %s\" % (dtc_grid_result.best_score_, dtc_grid_result.best_params_))\n",
        "means = dtc_grid_result.cv_results_['mean_test_score']\n",
        "stds = dtc_grid_result.cv_results_['std_test_score']\n",
        "params = dtc_grid_result.cv_results_['params']\n",
        "for mean, stdev, param in zip(means, stds, params):\n",
        "    print(\"%f (%f) with: %r\" % (mean, stdev, param))"
      ]
    },
    {
      "cell_type": "code",
      "execution_count": null,
      "id": "78f88007",
      "metadata": {
        "id": "78f88007"
      },
      "outputs": [],
      "source": [
        "# define new model for decision tree\n",
        "dtc = DecisionTreeClassifier(random_state=42, criterion= 'entropy', max_depth= 20, min_samples_leaf= 5)\n",
        "dtc = dtc.fit(imputed_X_train, y_train)"
      ]
    },
    {
      "cell_type": "code",
      "execution_count": null,
      "id": "85fb31e4",
      "metadata": {
        "id": "85fb31e4",
        "outputId": "f46fc765-3a7f-4a25-c090-0ba0f9e17583"
      },
      "outputs": [
        {
          "name": "stdout",
          "output_type": "stream",
          "text": [
            "Below is the report of Modeling results: \n",
            "                  Deals  Did Not Deals  accuracy    macro avg  weighted avg\n",
            "precision     0.905838       0.140049      0.75     0.522944      0.826579\n",
            "recall        0.804796       0.275362      0.75     0.540079      0.750000\n",
            "f1-score      0.852333       0.185668      0.75     0.519000      0.783333\n",
            "support    1793.000000     207.000000      0.75  2000.000000   2000.000000 \n",
            "\n"
          ]
        }
      ],
      "source": [
        "# predict\n",
        "y_pred_dtc = dtc.predict(imputed_X_test)\n",
        "y_pred_proba_dtc = dtc.predict_proba(imputed_X_test)\n",
        "\n",
        "# report result\n",
        "modeling_report = pd.DataFrame(metrics.classification_report(y_test, y_pred_dtc, target_names=['Deals','Did Not Deals'], output_dict=True))\n",
        "print(\"Below is the report of Modeling results:\",\"\\n\",modeling_report,'\\n')"
      ]
    },
    {
      "cell_type": "code",
      "execution_count": null,
      "id": "e77734c3",
      "metadata": {
        "id": "e77734c3",
        "outputId": "5a9c773a-dce8-43fa-ed12-d5c17b314074"
      },
      "outputs": [
        {
          "name": "stdout",
          "output_type": "stream",
          "text": [
            "[0.86642886 0.9317332  0.9211707  0.92344426 0.92596389]\n"
          ]
        }
      ],
      "source": [
        "# cross validation\n",
        "scores = cross_val_score(dtc, imputed_X_train, y_train, cv=5)\n",
        "print(np.sqrt(scores))"
      ]
    },
    {
      "cell_type": "code",
      "execution_count": null,
      "id": "35932ad7",
      "metadata": {
        "id": "35932ad7",
        "outputId": "052d77c1-3cbe-440f-8e18-515f725d5d52"
      },
      "outputs": [
        {
          "name": "stdout",
          "output_type": "stream",
          "text": [
            "-169.43211792504934 %\n"
          ]
        }
      ],
      "source": [
        "# r2 score\n",
        "\n",
        "dt = r2_score(y_test, dtc.predict(imputed_X_test))*100\n",
        "print(dt,'%')"
      ]
    },
    {
      "cell_type": "code",
      "execution_count": null,
      "id": "1de2d3ff",
      "metadata": {
        "id": "1de2d3ff",
        "outputId": "51e1a712-0fbb-4a9c-cef0-5067fca543bc"
      },
      "outputs": [
        {
          "name": "stdout",
          "output_type": "stream",
          "text": [
            "Confusion Matrix on Decision Tree:\n",
            " AxesSubplot(0.125,0.125;0.62x0.755)\n"
          ]
        },
        {
          "data": {
            "image/png": "[encoded data removed]",
            "text/plain": [
              "<Figure size 432x288 with 2 Axes>"
            ]
          },
          "metadata": {
            "needs_background": "light"
          },
          "output_type": "display_data"
        }
      ],
      "source": [
        "# confusion metric\n",
        "\n",
        "dt_cm = skplt.metrics.plot_confusion_matrix(y_test,y_pred_dtc)\n",
        "print('Confusion Matrix on Decision Tree:\\n',dt_cm)"
      ]
    },
    {
      "cell_type": "code",
      "execution_count": null,
      "id": "ac36b5bf",
      "metadata": {
        "id": "ac36b5bf",
        "outputId": "6eb3c33d-3f72-4e2c-c0e5-b792382c74dd"
      },
      "outputs": [
        {
          "name": "stderr",
          "output_type": "stream",
          "text": [
            "C:\\Users\\HP\\anaconda3\\lib\\site-packages\\sklearn\\utils\\deprecation.py:87: FutureWarning: Function plot_roc_curve is deprecated; This will be removed in v0.5.0. Please use scikitplot.metrics.plot_roc instead.\n",
            "  warnings.warn(msg, category=FutureWarning)\n"
          ]
        },
        {
          "name": "stdout",
          "output_type": "stream",
          "text": [
            "AxesSubplot(0.125,0.125;0.775x0.755)\n"
          ]
        },
        {
          "data": {
            "image/png": "[encoded data removed]",
            "text/plain": [
              "<Figure size 432x288 with 1 Axes>"
            ]
          },
          "metadata": {
            "needs_background": "light"
          },
          "output_type": "display_data"
        }
      ],
      "source": [
        "# model performance check\n",
        "dt_ROC_AUC = skplt.metrics.plot_roc_curve(y_test, y_pred_proba_dtc)\n",
        "print(dt_ROC_AUC)"
      ]
    },
    {
      "cell_type": "code",
      "execution_count": null,
      "id": "e7d3adff",
      "metadata": {
        "id": "e7d3adff",
        "outputId": "834ee46e-1c7e-4ced-bd4d-096f7c66c307"
      },
      "outputs": [
        {
          "name": "stdout",
          "output_type": "stream",
          "text": [
            "The accuracy score for Decision Tree is: 0.75 \n",
            "\n",
            "The F1 score on Decision Tree is: 0.18566775244299674 \n",
            "\n"
          ]
        }
      ],
      "source": [
        "# check model accuracy\n",
        "dt_accuracy = metrics.accuracy_score(y_test, y_pred_dtc)\n",
        "print(\"The accuracy score for Decision Tree is:\",dt_accuracy,'\\n')\n",
        "\n",
        "# check f1-score\n",
        "dt_f1_score = metrics.f1_score(y_test,y_pred_dtc)\n",
        "print(\"The F1 score on Decision Tree is:\",dt_f1_score,'\\n')"
      ]
    },
    {
      "cell_type": "markdown",
      "id": "8d83190e",
      "metadata": {
        "id": "8d83190e"
      },
      "source": [
        "### Random Forest"
      ]
    },
    {
      "cell_type": "code",
      "execution_count": null,
      "id": "bbc743f9",
      "metadata": {
        "id": "bbc743f9"
      },
      "outputs": [],
      "source": [
        "# param\n",
        "n_estimators = [10, 100, 1000]\n",
        "max_features = ['sqrt', 'log2']\n",
        "\n",
        "# define grid search\n",
        "rf_grid = dict(n_estimators=n_estimators,max_features=max_features)\n",
        "rf_grid_search = GridSearchCV(estimator=clf4, param_grid=rf_grid, n_jobs=-1, cv=3, scoring='accuracy',error_score=0)\n",
        "rf_grid_result = rf_grid_search.fit(imputed_X_train, y_train)"
      ]
    },
    {
      "cell_type": "code",
      "execution_count": null,
      "id": "e439ad26",
      "metadata": {
        "id": "e439ad26",
        "outputId": "70aef84e-aa70-4edc-b862-9d0f2212a720"
      },
      "outputs": [
        {
          "name": "stdout",
          "output_type": "stream",
          "text": [
            "Best: 0.838306 using {'max_features': 'log2', 'n_estimators': 10}\n",
            "0.831782 (0.025211) with: {'max_features': 'sqrt', 'n_estimators': 10}\n",
            "0.835697 (0.029306) with: {'max_features': 'sqrt', 'n_estimators': 100}\n",
            "0.834019 (0.027383) with: {'max_features': 'sqrt', 'n_estimators': 1000}\n",
            "0.838306 (0.026710) with: {'max_features': 'log2', 'n_estimators': 10}\n",
            "0.833460 (0.027241) with: {'max_features': 'log2', 'n_estimators': 100}\n",
            "0.836349 (0.026050) with: {'max_features': 'log2', 'n_estimators': 1000}\n"
          ]
        }
      ],
      "source": [
        "# summarize results\n",
        "print(\"Best: %f using %s\" % (rf_grid_result.best_score_, rf_grid_result.best_params_))\n",
        "means = rf_grid_result.cv_results_['mean_test_score']\n",
        "stds = rf_grid_result.cv_results_['std_test_score']\n",
        "params = rf_grid_result.cv_results_['params']\n",
        "for mean, stdev, param in zip(means, stds, params):\n",
        "    print(\"%f (%f) with: %r\" % (mean, stdev, param))"
      ]
    },
    {
      "cell_type": "code",
      "execution_count": null,
      "id": "005d4dcd",
      "metadata": {
        "id": "005d4dcd"
      },
      "outputs": [],
      "source": [
        "# define new model for random forest\n",
        "rf = RandomForestClassifier(random_state=42, max_features= 'log2', n_estimators= 10)\n",
        "rf = rf.fit(imputed_X_train, y_train)"
      ]
    },
    {
      "cell_type": "code",
      "execution_count": null,
      "id": "fb499d48",
      "metadata": {
        "id": "fb499d48",
        "outputId": "73f4cdf6-3f6e-4a2b-8dd0-a95d8790aa26"
      },
      "outputs": [
        {
          "name": "stdout",
          "output_type": "stream",
          "text": [
            "Below is the report of Modeling results: \n",
            "                  Deals  Did Not Deals  accuracy    macro avg  weighted avg\n",
            "precision     0.906329       0.140476    0.7455     0.523403      0.827063\n",
            "recall        0.798661       0.285024    0.7455     0.541843      0.745500\n",
            "f1-score      0.849096       0.188198    0.7455     0.518647      0.780693\n",
            "support    1793.000000     207.000000    0.7455  2000.000000   2000.000000 \n",
            "\n"
          ]
        }
      ],
      "source": [
        "# predict\n",
        "y_pred_rf = rf.predict(imputed_X_test)\n",
        "y_pred_proba_rf = rf.predict_proba(imputed_X_test)\n",
        "\n",
        "# report result\n",
        "modeling_report = pd.DataFrame(metrics.classification_report(y_test, y_pred_rf, target_names=['Deals','Did Not Deals'], output_dict=True))\n",
        "print(\"Below is the report of Modeling results:\",\"\\n\",modeling_report,'\\n')"
      ]
    },
    {
      "cell_type": "code",
      "execution_count": null,
      "id": "ac5c7a0e",
      "metadata": {
        "id": "ac5c7a0e",
        "outputId": "779a028d-ffcd-4893-e2f5-17f9bb77fd64"
      },
      "outputs": [
        {
          "name": "stdout",
          "output_type": "stream",
          "text": [
            "[0.8696498  0.92621548 0.92495686 0.92218186 0.926467  ]\n"
          ]
        }
      ],
      "source": [
        "# cross validation\n",
        "scores = cross_val_score(rf, imputed_X_train, y_train, cv=5)\n",
        "print(np.sqrt(scores))"
      ]
    },
    {
      "cell_type": "code",
      "execution_count": null,
      "id": "fe36fc3e",
      "metadata": {
        "id": "fe36fc3e",
        "outputId": "995584cb-f819-40a5-bee5-98d447de1021"
      },
      "outputs": [
        {
          "name": "stdout",
          "output_type": "stream",
          "text": [
            "-174.28189604770026 %\n"
          ]
        }
      ],
      "source": [
        "# r2 score\n",
        "\n",
        "rfc = r2_score(y_test, rf.predict(imputed_X_test))*100\n",
        "print(rfc,'%')"
      ]
    },
    {
      "cell_type": "code",
      "execution_count": null,
      "id": "6d5b66bf",
      "metadata": {
        "id": "6d5b66bf",
        "outputId": "d4a6863e-36b3-4411-cb93-a9c9dc0e6069"
      },
      "outputs": [
        {
          "name": "stdout",
          "output_type": "stream",
          "text": [
            "Confusion Matrix on Random Forest:\n",
            " AxesSubplot(0.125,0.125;0.62x0.755)\n"
          ]
        },
        {
          "data": {
            "image/png": "[encoded data removed]",
            "text/plain": [
              "<Figure size 432x288 with 2 Axes>"
            ]
          },
          "metadata": {
            "needs_background": "light"
          },
          "output_type": "display_data"
        }
      ],
      "source": [
        "# confusion metric\n",
        "\n",
        "rfc_cm = skplt.metrics.plot_confusion_matrix(y_test,y_pred_rf)\n",
        "print('Confusion Matrix on Random Forest:\\n',rfc_cm)"
      ]
    },
    {
      "cell_type": "code",
      "execution_count": null,
      "id": "223dc886",
      "metadata": {
        "id": "223dc886",
        "outputId": "740818ec-9d66-4822-c202-e204578ba5ec"
      },
      "outputs": [
        {
          "name": "stderr",
          "output_type": "stream",
          "text": [
            "C:\\Users\\HP\\anaconda3\\lib\\site-packages\\sklearn\\utils\\deprecation.py:87: FutureWarning: Function plot_roc_curve is deprecated; This will be removed in v0.5.0. Please use scikitplot.metrics.plot_roc instead.\n",
            "  warnings.warn(msg, category=FutureWarning)\n"
          ]
        },
        {
          "name": "stdout",
          "output_type": "stream",
          "text": [
            "AxesSubplot(0.125,0.125;0.775x0.755)\n"
          ]
        },
        {
          "data": {
            "image/png": "[encoded data removed]",
            "text/plain": [
              "<Figure size 432x288 with 1 Axes>"
            ]
          },
          "metadata": {
            "needs_background": "light"
          },
          "output_type": "display_data"
        }
      ],
      "source": [
        "# model performance check\n",
        "rfc_ROC_AUC = skplt.metrics.plot_roc_curve(y_test, y_pred_proba_rf)\n",
        "print(rfc_ROC_AUC)"
      ]
    },
    {
      "cell_type": "code",
      "execution_count": null,
      "id": "84d980db",
      "metadata": {
        "id": "84d980db",
        "outputId": "c0253f5d-a12e-405b-96bd-74525a14813a"
      },
      "outputs": [
        {
          "name": "stdout",
          "output_type": "stream",
          "text": [
            "The accuracy score for Random Forest is: 0.7455 \n",
            "\n",
            "The F1 score on Random Forest is: 0.18819776714513559 \n",
            "\n"
          ]
        }
      ],
      "source": [
        "# check model accuracy\n",
        "rf_accuracy = metrics.accuracy_score(y_test, y_pred_rf)\n",
        "print(\"The accuracy score for Random Forest is:\",rf_accuracy,'\\n')\n",
        "\n",
        "# check f1-score\n",
        "rf_f1_score = metrics.f1_score(y_test,y_pred_rf)\n",
        "print(\"The F1 score on Random Forest is:\",rf_f1_score,'\\n')"
      ]
    },
    {
      "cell_type": "markdown",
      "id": "6bed638f",
      "metadata": {
        "id": "6bed638f"
      },
      "source": [
        "## Modeling Comparison"
      ]
    },
    {
      "cell_type": "code",
      "execution_count": null,
      "id": "56371bab",
      "metadata": {
        "id": "56371bab",
        "outputId": "2d5322f4-d8db-4bb3-d738-05e4f2154f67"
      },
      "outputs": [
        {
          "data": {
            "text/plain": [
              "Text(0.5, 1.0, 'Plotting the Model Accuracies Score')"
            ]
          },
          "execution_count": 249,
          "metadata": {},
          "output_type": "execute_result"
        },
        {
          "data": {
            "image/png": "[encoded data removed]",
            "text/plain": [
              "<Figure size 576x504 with 1 Axes>"
            ]
          },
          "metadata": {
            "needs_background": "light"
          },
          "output_type": "display_data"
        }
      ],
      "source": [
        "plt.figure(figsize= (8,7))\n",
        "ac = [lg_f1_score, kn_f1_score, dt_f1_score, rf_f1_score]\n",
        "name = ['Linear Regression','K-Neighbors','Decision Tree','Random Forest']\n",
        "sns.barplot(x = ac,y = name,palette='bright')\n",
        "plt.title(\"Plotting the Model Accuracies Score\", fontsize=16, fontweight=\"bold\")"
      ]
    },
    {
      "cell_type": "markdown",
      "id": "90200f4d",
      "metadata": {
        "id": "90200f4d"
      },
      "source": [
        "The best modeling for predict the deals and not deals seller is **Logistic Regression** rated by **F1 Score**, even the **Confusion Matrix** didn't goes well."
      ]
    }
  ],
  "metadata": {
    "kernelspec": {
      "display_name": "Python 3",
      "language": "python",
      "name": "python3"
    },
    "language_info": {
      "codemirror_mode": {
        "name": "ipython",
        "version": 3
      },
      "file_extension": ".py",
      "mimetype": "text/x-python",
      "name": "python",
      "nbconvert_exporter": "python",
      "pygments_lexer": "ipython3",
      "version": "3.8.8"
    },
    "colab": {
      "name": "Marketing Attribution Analysis.ipynb",
      "provenance": [],
      "collapsed_sections": [
        "1d50c463",
        "af4460b1",
        "b313559f",
        "ffa85d62",
        "792281b0",
        "fe497b06",
        "f2c3cd59",
        "01a14790",
        "25850202",
        "b9720162",
        "ae71f79f",
        "5b0eaef9",
        "324e2be2",
        "2ab93b19",
        "8203fc97",
        "8d83190e"
      ],
      "include_colab_link": true
    }
  },
  "nbformat": 4,
  "nbformat_minor": 5
}